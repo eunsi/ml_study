{
 "cells": [
  {
   "cell_type": "markdown",
   "metadata": {
    "id": "y1J78TFSRrSA"
   },
   "source": [
    "<center><img src='https://raw.githubusercontent.com/Jangrae/img/master/ml_python.png' width=600/></center>"
   ]
  },
  {
   "cell_type": "markdown",
   "metadata": {
    "id": "NlQaHFfZUHxn"
   },
   "source": [
    "<center><img src='https://raw.githubusercontent.com/Jangrae/img/master/levelup.png' width=240/></center>"
   ]
  },
  {
   "cell_type": "markdown",
   "metadata": {
    "id": "ldNujhC2R8Ul"
   },
   "source": [
    "<center>모델을 빨리 만드는 것이 목적이 아닙니다. 천천히 생각하고 정리하면서 구문을 정성껏 작성하세요.</center>"
   ]
  },
  {
   "cell_type": "markdown",
   "metadata": {
    "id": "y5V-LFxvFUwe"
   },
   "source": [
    "# 과제: 항공 탑승자 만족도 예측"
   ]
  },
  {
   "cell_type": "markdown",
   "metadata": {
    "id": "4yKjzn4-kohB"
   },
   "source": [
    "<img src = \"https://github.com/Jangrae/img/blob/master/airport2.png?raw=true\" width=900 align=\"left\"/>"
   ]
  },
  {
   "cell_type": "markdown",
   "metadata": {
    "id": "frwPKSA3vwUJ"
   },
   "source": [
    "# 실습 안내"
   ]
  },
  {
   "cell_type": "markdown",
   "metadata": {
    "id": "5M6slnW_vwUJ"
   },
   "source": [
    "**1) 실습 방법**\n",
    "\n",
    "- 데이터 전처리와 탐색 보다는 모델 코딩에 중점을 둡니다.\n",
    "- 기존 소스에서 복사해 붙여넣기 하지 않고 다시 코딩합니다.\n",
    "- 실습 후 시간이 남으면 데이터 탐색과 성능 튜닝을 진행합니다. \n",
    "- 모든 작업에는 주석을 가능한 충분히 답니다.\n",
    "- 입력을 요구한 **(작성)**, **(의견)** 부분을 충분히 채웁니다.\n",
    "\n",
    "**2) 실습 내용**\n",
    "\n",
    "- 대상 데이터를 읽어와 탐색하며 이해합니다.\n",
    "- 결측치를 확인하고 처리합니다.\n",
    "- 범주형 변수를 구분하고 가변수화를 진행합니다.\n",
    "- 연속형 변수를 구분하고 정규화를 진행합니다.\n",
    "- 데이터를 학습용 데이터와 평가용 데이터로 분리합니다.\n",
    "- 다양한 머신러닝 알고리즘을 사용해 모델링합니다.\n",
    "- 성능 평가 결과를 이해하고 설명합니다.\n",
    "\n",
    "**3) 데이터 정보**\n",
    "\n",
    "- id : 탑승자 고유 아이디\n",
    "- gender: 성별 (Female, Male)\n",
    "- customer_type: 고액 유형 (Loyal customer, disloyal customer)\n",
    "- age: 탑승자 나이\n",
    "- type_of_travel: 비행 목적(Personal Travel, Business Travel)\n",
    "- class: 등급 (Business, Eco, Eco Plus)\n",
    "- flight_distance: 비행 거리\n",
    "- inflight_wifi_service: 와이파이 서비스 만족도 (0:N/A; 1-5)\n",
    "- departure/arrival_time_convenient: 출발, 도착 시간 만족도 (0:N/A; 1-5)\n",
    "- ease_of_online_booking: 온라인 부킹 만족도 (0:N/A; 1-5)\n",
    "- gate_location: 게이트 위치 만족도 (0:N/A; 1-5)\n",
    "- food_and_drink: 식사와 음료 만족도 (0:N/A; 1-5)\n",
    "- online_boarding: 온라인 보딩 만족도 (0:N/A; 1-5)\n",
    "- seat_comfort: 좌석 편안함 만족도 (0:N/A; 1-5)\n",
    "- inflight_entertainment: 기내 엔터테인먼트 만족도 (0:N/A; 1-5)\n",
    "- on-board_service: 온 보드 서비스 만족도 (0:N/A; 1-5)\n",
    "- leg_room_service: 다리 공간 만족도 (0:N/A; 1-5)\n",
    "- baggage_handling: 수하물 처리 만족도 (0:N/A; 1-5)\n",
    "- check-in_service: 체크인 서비스 만족도 (0:N/A; 1-5)\n",
    "- inflight_service: 기내 서비스 만족도 (0:N/A; 1-5)\n",
    "- cleanliness: 청결 만족도 (0:N/A; 1-5)\n",
    "- departure_delay_in_minutes: 출발 지연 시간(분)\n",
    "- arrival_delay_in_minutes: 도착 지연 시간(분)\n",
    "- satisfaction: 항공 만족도(1: Satisfaction, 0: Neutral or Dissatisfaction) - Target"
   ]
  },
  {
   "cell_type": "markdown",
   "metadata": {
    "id": "WW5MoKVRHuE8"
   },
   "source": [
    "# 1.환경 준비\n",
    "\n",
    "- 기본 라이브러리와 대상 데이터를 가져와 이후 과정을 준비합니다."
   ]
  },
  {
   "cell_type": "code",
   "execution_count": 1,
   "metadata": {
    "id": "GVvCef6A8uv6",
    "scrolled": true
   },
   "outputs": [],
   "source": [
    "# 라이브러리 불러오기\n",
    "import numpy as np\n",
    "import pandas as pd\n",
    "import matplotlib.pyplot as plt\n",
    "import seaborn as sns\n",
    "import warnings\n",
    "\n",
    "warnings.filterwarnings(action='ignore')\n",
    "%config InlineBackend.figure_format='retina'"
   ]
  },
  {
   "cell_type": "code",
   "execution_count": 2,
   "metadata": {
    "id": "3GgFpOB4zQ7h"
   },
   "outputs": [],
   "source": [
    "# 데이터 읽어오기\n",
    "# path = 'https://raw.githubusercontent.com/Jangrae/csv/master/airline_satisfaction_small.csv'\n",
    "path = 'https://bit.ly/AirlineFile'\n",
    "data = pd.read_csv(path)"
   ]
  },
  {
   "cell_type": "markdown",
   "metadata": {
    "id": "ZJOddHq2zfcU"
   },
   "source": [
    "# 2.데이터 탐색\n",
    "\n",
    "- 다양한 탐색 및 분석 방법을 사용해 대상 데이터를 충분히 이해합니다."
   ]
  },
  {
   "cell_type": "markdown",
   "metadata": {
    "id": "RbTrkzF6cTT7"
   },
   "source": [
    "**1) 상/하위 데이터 확인**\n",
    "\n",
    "- 데이터 앞/뒤를 살펴 데이터를 간단히 확인합니다."
   ]
  },
  {
   "cell_type": "code",
   "execution_count": 3,
   "metadata": {
    "colab": {
     "base_uri": "https://localhost:8080/",
     "height": 305
    },
    "executionInfo": {
     "elapsed": 24,
     "status": "ok",
     "timestamp": 1641524345319,
     "user": {
      "displayName": "Jangrae Lee",
      "photoUrl": "https://lh3.googleusercontent.com/a-/AOh14Gh1Pd8OuWJU2cv7uTt-fURrgvty7atx_Wtarmx0-A=s64",
      "userId": "08475661575434032088"
     },
     "user_tz": -540
    },
    "id": "Wzs1nS348uwE",
    "outputId": "731cf978-4b0e-439e-f22a-be13535c3c22"
   },
   "outputs": [
    {
     "data": {
      "text/html": [
       "<div>\n",
       "<style scoped>\n",
       "    .dataframe tbody tr th:only-of-type {\n",
       "        vertical-align: middle;\n",
       "    }\n",
       "\n",
       "    .dataframe tbody tr th {\n",
       "        vertical-align: top;\n",
       "    }\n",
       "\n",
       "    .dataframe thead th {\n",
       "        text-align: right;\n",
       "    }\n",
       "</style>\n",
       "<table border=\"1\" class=\"dataframe\">\n",
       "  <thead>\n",
       "    <tr style=\"text-align: right;\">\n",
       "      <th></th>\n",
       "      <th>id</th>\n",
       "      <th>gender</th>\n",
       "      <th>customer_type</th>\n",
       "      <th>age</th>\n",
       "      <th>type_of_travel</th>\n",
       "      <th>class</th>\n",
       "      <th>flight_distance</th>\n",
       "      <th>inflight_wifi_service</th>\n",
       "      <th>departure/arrival_time_convenient</th>\n",
       "      <th>ease_of_online_booking</th>\n",
       "      <th>...</th>\n",
       "      <th>inflight_entertainment</th>\n",
       "      <th>on-board_service</th>\n",
       "      <th>leg_room_service</th>\n",
       "      <th>baggage_handling</th>\n",
       "      <th>checkin_service</th>\n",
       "      <th>inflight_service</th>\n",
       "      <th>cleanliness</th>\n",
       "      <th>departure_delay_in_minutes</th>\n",
       "      <th>arrival_delay_in_minutes</th>\n",
       "      <th>satisfaction</th>\n",
       "    </tr>\n",
       "  </thead>\n",
       "  <tbody>\n",
       "    <tr>\n",
       "      <th>0</th>\n",
       "      <td>70172</td>\n",
       "      <td>Male</td>\n",
       "      <td>Loyal Customer</td>\n",
       "      <td>13</td>\n",
       "      <td>Personal Travel</td>\n",
       "      <td>Eco Plus</td>\n",
       "      <td>460</td>\n",
       "      <td>3</td>\n",
       "      <td>4</td>\n",
       "      <td>3</td>\n",
       "      <td>...</td>\n",
       "      <td>5</td>\n",
       "      <td>4</td>\n",
       "      <td>3</td>\n",
       "      <td>4</td>\n",
       "      <td>4</td>\n",
       "      <td>5</td>\n",
       "      <td>5</td>\n",
       "      <td>25</td>\n",
       "      <td>18.0</td>\n",
       "      <td>0</td>\n",
       "    </tr>\n",
       "    <tr>\n",
       "      <th>1</th>\n",
       "      <td>5047</td>\n",
       "      <td>Male</td>\n",
       "      <td>disloyal Customer</td>\n",
       "      <td>25</td>\n",
       "      <td>Business travel</td>\n",
       "      <td>Business</td>\n",
       "      <td>235</td>\n",
       "      <td>3</td>\n",
       "      <td>2</td>\n",
       "      <td>3</td>\n",
       "      <td>...</td>\n",
       "      <td>1</td>\n",
       "      <td>1</td>\n",
       "      <td>5</td>\n",
       "      <td>3</td>\n",
       "      <td>1</td>\n",
       "      <td>4</td>\n",
       "      <td>1</td>\n",
       "      <td>1</td>\n",
       "      <td>6.0</td>\n",
       "      <td>0</td>\n",
       "    </tr>\n",
       "    <tr>\n",
       "      <th>2</th>\n",
       "      <td>110028</td>\n",
       "      <td>Female</td>\n",
       "      <td>Loyal Customer</td>\n",
       "      <td>26</td>\n",
       "      <td>Business travel</td>\n",
       "      <td>Business</td>\n",
       "      <td>1142</td>\n",
       "      <td>2</td>\n",
       "      <td>2</td>\n",
       "      <td>2</td>\n",
       "      <td>...</td>\n",
       "      <td>5</td>\n",
       "      <td>4</td>\n",
       "      <td>3</td>\n",
       "      <td>4</td>\n",
       "      <td>4</td>\n",
       "      <td>4</td>\n",
       "      <td>5</td>\n",
       "      <td>0</td>\n",
       "      <td>0.0</td>\n",
       "      <td>1</td>\n",
       "    </tr>\n",
       "    <tr>\n",
       "      <th>3</th>\n",
       "      <td>24026</td>\n",
       "      <td>Female</td>\n",
       "      <td>Loyal Customer</td>\n",
       "      <td>25</td>\n",
       "      <td>Business travel</td>\n",
       "      <td>Business</td>\n",
       "      <td>562</td>\n",
       "      <td>2</td>\n",
       "      <td>5</td>\n",
       "      <td>5</td>\n",
       "      <td>...</td>\n",
       "      <td>2</td>\n",
       "      <td>2</td>\n",
       "      <td>5</td>\n",
       "      <td>3</td>\n",
       "      <td>1</td>\n",
       "      <td>4</td>\n",
       "      <td>2</td>\n",
       "      <td>11</td>\n",
       "      <td>9.0</td>\n",
       "      <td>0</td>\n",
       "    </tr>\n",
       "    <tr>\n",
       "      <th>4</th>\n",
       "      <td>119299</td>\n",
       "      <td>Male</td>\n",
       "      <td>Loyal Customer</td>\n",
       "      <td>61</td>\n",
       "      <td>Business travel</td>\n",
       "      <td>Business</td>\n",
       "      <td>214</td>\n",
       "      <td>3</td>\n",
       "      <td>3</td>\n",
       "      <td>3</td>\n",
       "      <td>...</td>\n",
       "      <td>3</td>\n",
       "      <td>3</td>\n",
       "      <td>4</td>\n",
       "      <td>4</td>\n",
       "      <td>3</td>\n",
       "      <td>3</td>\n",
       "      <td>3</td>\n",
       "      <td>0</td>\n",
       "      <td>0.0</td>\n",
       "      <td>1</td>\n",
       "    </tr>\n",
       "  </tbody>\n",
       "</table>\n",
       "<p>5 rows × 24 columns</p>\n",
       "</div>"
      ],
      "text/plain": [
       "       id  gender      customer_type  age   type_of_travel     class  \\\n",
       "0   70172    Male     Loyal Customer   13  Personal Travel  Eco Plus   \n",
       "1    5047    Male  disloyal Customer   25  Business travel  Business   \n",
       "2  110028  Female     Loyal Customer   26  Business travel  Business   \n",
       "3   24026  Female     Loyal Customer   25  Business travel  Business   \n",
       "4  119299    Male     Loyal Customer   61  Business travel  Business   \n",
       "\n",
       "   flight_distance  inflight_wifi_service  departure/arrival_time_convenient  \\\n",
       "0              460                      3                                  4   \n",
       "1              235                      3                                  2   \n",
       "2             1142                      2                                  2   \n",
       "3              562                      2                                  5   \n",
       "4              214                      3                                  3   \n",
       "\n",
       "   ease_of_online_booking  ...  inflight_entertainment  on-board_service  \\\n",
       "0                       3  ...                       5                 4   \n",
       "1                       3  ...                       1                 1   \n",
       "2                       2  ...                       5                 4   \n",
       "3                       5  ...                       2                 2   \n",
       "4                       3  ...                       3                 3   \n",
       "\n",
       "   leg_room_service  baggage_handling  checkin_service  inflight_service  \\\n",
       "0                 3                 4                4                 5   \n",
       "1                 5                 3                1                 4   \n",
       "2                 3                 4                4                 4   \n",
       "3                 5                 3                1                 4   \n",
       "4                 4                 4                3                 3   \n",
       "\n",
       "   cleanliness  departure_delay_in_minutes  arrival_delay_in_minutes  \\\n",
       "0            5                          25                      18.0   \n",
       "1            1                           1                       6.0   \n",
       "2            5                           0                       0.0   \n",
       "3            2                          11                       9.0   \n",
       "4            3                           0                       0.0   \n",
       "\n",
       "   satisfaction  \n",
       "0             0  \n",
       "1             0  \n",
       "2             1  \n",
       "3             0  \n",
       "4             1  \n",
       "\n",
       "[5 rows x 24 columns]"
      ]
     },
     "execution_count": 3,
     "metadata": {},
     "output_type": "execute_result"
    }
   ],
   "source": [
    "# 상위 몇 개 행 확인\n",
    "data.head()"
   ]
  },
  {
   "cell_type": "code",
   "execution_count": 4,
   "metadata": {
    "colab": {
     "base_uri": "https://localhost:8080/",
     "height": 305
    },
    "executionInfo": {
     "elapsed": 22,
     "status": "ok",
     "timestamp": 1641524345319,
     "user": {
      "displayName": "Jangrae Lee",
      "photoUrl": "https://lh3.googleusercontent.com/a-/AOh14Gh1Pd8OuWJU2cv7uTt-fURrgvty7atx_Wtarmx0-A=s64",
      "userId": "08475661575434032088"
     },
     "user_tz": -540
    },
    "id": "YEnLOlzOMZhP",
    "outputId": "a2d136f7-f9d8-4d6f-95d0-23b08cf821e6"
   },
   "outputs": [
    {
     "data": {
      "text/html": [
       "<div>\n",
       "<style scoped>\n",
       "    .dataframe tbody tr th:only-of-type {\n",
       "        vertical-align: middle;\n",
       "    }\n",
       "\n",
       "    .dataframe tbody tr th {\n",
       "        vertical-align: top;\n",
       "    }\n",
       "\n",
       "    .dataframe thead th {\n",
       "        text-align: right;\n",
       "    }\n",
       "</style>\n",
       "<table border=\"1\" class=\"dataframe\">\n",
       "  <thead>\n",
       "    <tr style=\"text-align: right;\">\n",
       "      <th></th>\n",
       "      <th>id</th>\n",
       "      <th>gender</th>\n",
       "      <th>customer_type</th>\n",
       "      <th>age</th>\n",
       "      <th>type_of_travel</th>\n",
       "      <th>class</th>\n",
       "      <th>flight_distance</th>\n",
       "      <th>inflight_wifi_service</th>\n",
       "      <th>departure/arrival_time_convenient</th>\n",
       "      <th>ease_of_online_booking</th>\n",
       "      <th>...</th>\n",
       "      <th>inflight_entertainment</th>\n",
       "      <th>on-board_service</th>\n",
       "      <th>leg_room_service</th>\n",
       "      <th>baggage_handling</th>\n",
       "      <th>checkin_service</th>\n",
       "      <th>inflight_service</th>\n",
       "      <th>cleanliness</th>\n",
       "      <th>departure_delay_in_minutes</th>\n",
       "      <th>arrival_delay_in_minutes</th>\n",
       "      <th>satisfaction</th>\n",
       "    </tr>\n",
       "  </thead>\n",
       "  <tbody>\n",
       "    <tr>\n",
       "      <th>2575</th>\n",
       "      <td>21840</td>\n",
       "      <td>Male</td>\n",
       "      <td>Loyal Customer</td>\n",
       "      <td>63</td>\n",
       "      <td>Business travel</td>\n",
       "      <td>Business</td>\n",
       "      <td>448</td>\n",
       "      <td>2</td>\n",
       "      <td>2</td>\n",
       "      <td>2</td>\n",
       "      <td>...</td>\n",
       "      <td>4</td>\n",
       "      <td>4</td>\n",
       "      <td>5</td>\n",
       "      <td>4</td>\n",
       "      <td>3</td>\n",
       "      <td>4</td>\n",
       "      <td>4</td>\n",
       "      <td>15</td>\n",
       "      <td>8.0</td>\n",
       "      <td>1</td>\n",
       "    </tr>\n",
       "    <tr>\n",
       "      <th>2576</th>\n",
       "      <td>42486</td>\n",
       "      <td>Female</td>\n",
       "      <td>disloyal Customer</td>\n",
       "      <td>26</td>\n",
       "      <td>Business travel</td>\n",
       "      <td>Eco</td>\n",
       "      <td>693</td>\n",
       "      <td>3</td>\n",
       "      <td>3</td>\n",
       "      <td>3</td>\n",
       "      <td>...</td>\n",
       "      <td>3</td>\n",
       "      <td>5</td>\n",
       "      <td>5</td>\n",
       "      <td>1</td>\n",
       "      <td>1</td>\n",
       "      <td>1</td>\n",
       "      <td>3</td>\n",
       "      <td>0</td>\n",
       "      <td>0.0</td>\n",
       "      <td>0</td>\n",
       "    </tr>\n",
       "    <tr>\n",
       "      <th>2577</th>\n",
       "      <td>49355</td>\n",
       "      <td>Male</td>\n",
       "      <td>Loyal Customer</td>\n",
       "      <td>41</td>\n",
       "      <td>Business travel</td>\n",
       "      <td>Business</td>\n",
       "      <td>3306</td>\n",
       "      <td>5</td>\n",
       "      <td>5</td>\n",
       "      <td>5</td>\n",
       "      <td>...</td>\n",
       "      <td>5</td>\n",
       "      <td>5</td>\n",
       "      <td>5</td>\n",
       "      <td>5</td>\n",
       "      <td>2</td>\n",
       "      <td>5</td>\n",
       "      <td>2</td>\n",
       "      <td>28</td>\n",
       "      <td>24.0</td>\n",
       "      <td>1</td>\n",
       "    </tr>\n",
       "    <tr>\n",
       "      <th>2578</th>\n",
       "      <td>46728</td>\n",
       "      <td>Female</td>\n",
       "      <td>Loyal Customer</td>\n",
       "      <td>17</td>\n",
       "      <td>Personal Travel</td>\n",
       "      <td>Eco</td>\n",
       "      <td>125</td>\n",
       "      <td>3</td>\n",
       "      <td>2</td>\n",
       "      <td>0</td>\n",
       "      <td>...</td>\n",
       "      <td>5</td>\n",
       "      <td>4</td>\n",
       "      <td>4</td>\n",
       "      <td>3</td>\n",
       "      <td>3</td>\n",
       "      <td>3</td>\n",
       "      <td>5</td>\n",
       "      <td>0</td>\n",
       "      <td>0.0</td>\n",
       "      <td>0</td>\n",
       "    </tr>\n",
       "    <tr>\n",
       "      <th>2579</th>\n",
       "      <td>34516</td>\n",
       "      <td>Female</td>\n",
       "      <td>Loyal Customer</td>\n",
       "      <td>36</td>\n",
       "      <td>Personal Travel</td>\n",
       "      <td>Eco</td>\n",
       "      <td>1521</td>\n",
       "      <td>2</td>\n",
       "      <td>2</td>\n",
       "      <td>2</td>\n",
       "      <td>...</td>\n",
       "      <td>5</td>\n",
       "      <td>3</td>\n",
       "      <td>4</td>\n",
       "      <td>3</td>\n",
       "      <td>3</td>\n",
       "      <td>3</td>\n",
       "      <td>5</td>\n",
       "      <td>0</td>\n",
       "      <td>4.0</td>\n",
       "      <td>0</td>\n",
       "    </tr>\n",
       "  </tbody>\n",
       "</table>\n",
       "<p>5 rows × 24 columns</p>\n",
       "</div>"
      ],
      "text/plain": [
       "         id  gender      customer_type  age   type_of_travel     class  \\\n",
       "2575  21840    Male     Loyal Customer   63  Business travel  Business   \n",
       "2576  42486  Female  disloyal Customer   26  Business travel       Eco   \n",
       "2577  49355    Male     Loyal Customer   41  Business travel  Business   \n",
       "2578  46728  Female     Loyal Customer   17  Personal Travel       Eco   \n",
       "2579  34516  Female     Loyal Customer   36  Personal Travel       Eco   \n",
       "\n",
       "      flight_distance  inflight_wifi_service  \\\n",
       "2575              448                      2   \n",
       "2576              693                      3   \n",
       "2577             3306                      5   \n",
       "2578              125                      3   \n",
       "2579             1521                      2   \n",
       "\n",
       "      departure/arrival_time_convenient  ease_of_online_booking  ...  \\\n",
       "2575                                  2                       2  ...   \n",
       "2576                                  3                       3  ...   \n",
       "2577                                  5                       5  ...   \n",
       "2578                                  2                       0  ...   \n",
       "2579                                  2                       2  ...   \n",
       "\n",
       "      inflight_entertainment  on-board_service  leg_room_service  \\\n",
       "2575                       4                 4                 5   \n",
       "2576                       3                 5                 5   \n",
       "2577                       5                 5                 5   \n",
       "2578                       5                 4                 4   \n",
       "2579                       5                 3                 4   \n",
       "\n",
       "      baggage_handling  checkin_service  inflight_service  cleanliness  \\\n",
       "2575                 4                3                 4            4   \n",
       "2576                 1                1                 1            3   \n",
       "2577                 5                2                 5            2   \n",
       "2578                 3                3                 3            5   \n",
       "2579                 3                3                 3            5   \n",
       "\n",
       "      departure_delay_in_minutes  arrival_delay_in_minutes  satisfaction  \n",
       "2575                          15                       8.0             1  \n",
       "2576                           0                       0.0             0  \n",
       "2577                          28                      24.0             1  \n",
       "2578                           0                       0.0             0  \n",
       "2579                           0                       4.0             0  \n",
       "\n",
       "[5 rows x 24 columns]"
      ]
     },
     "execution_count": 4,
     "metadata": {},
     "output_type": "execute_result"
    }
   ],
   "source": [
    "# 하위 몇 개 행 확인\n",
    "data.tail()"
   ]
  },
  {
   "cell_type": "markdown",
   "metadata": {
    "id": "PW_COUPqwoz2"
   },
   "source": [
    "**2) 변수 정보 확인**\n",
    "\n",
    "- 변수 이름, 값 개수, 데이터 형식등을 확인합니다."
   ]
  },
  {
   "cell_type": "code",
   "execution_count": 5,
   "metadata": {
    "colab": {
     "base_uri": "https://localhost:8080/"
    },
    "executionInfo": {
     "elapsed": 21,
     "status": "ok",
     "timestamp": 1641524345319,
     "user": {
      "displayName": "Jangrae Lee",
      "photoUrl": "https://lh3.googleusercontent.com/a-/AOh14Gh1Pd8OuWJU2cv7uTt-fURrgvty7atx_Wtarmx0-A=s64",
      "userId": "08475661575434032088"
     },
     "user_tz": -540
    },
    "id": "0xTUuxOecYdy",
    "outputId": "2b2ad98c-2ccd-4b41-a55d-3aac9dbddcea"
   },
   "outputs": [
    {
     "name": "stdout",
     "output_type": "stream",
     "text": [
      "<class 'pandas.core.frame.DataFrame'>\n",
      "RangeIndex: 2580 entries, 0 to 2579\n",
      "Data columns (total 24 columns):\n",
      " #   Column                             Non-Null Count  Dtype  \n",
      "---  ------                             --------------  -----  \n",
      " 0   id                                 2580 non-null   int64  \n",
      " 1   gender                             2580 non-null   object \n",
      " 2   customer_type                      2580 non-null   object \n",
      " 3   age                                2580 non-null   int64  \n",
      " 4   type_of_travel                     2580 non-null   object \n",
      " 5   class                              2580 non-null   object \n",
      " 6   flight_distance                    2580 non-null   int64  \n",
      " 7   inflight_wifi_service              2580 non-null   int64  \n",
      " 8   departure/arrival_time_convenient  2580 non-null   int64  \n",
      " 9   ease_of_online_booking             2580 non-null   int64  \n",
      " 10  gate_location                      2580 non-null   int64  \n",
      " 11  food_and_drink                     2580 non-null   int64  \n",
      " 12  online_boarding                    2580 non-null   int64  \n",
      " 13  seat_comfort                       2580 non-null   int64  \n",
      " 14  inflight_entertainment             2580 non-null   int64  \n",
      " 15  on-board_service                   2580 non-null   int64  \n",
      " 16  leg_room_service                   2580 non-null   int64  \n",
      " 17  baggage_handling                   2580 non-null   int64  \n",
      " 18  checkin_service                    2580 non-null   int64  \n",
      " 19  inflight_service                   2580 non-null   int64  \n",
      " 20  cleanliness                        2580 non-null   int64  \n",
      " 21  departure_delay_in_minutes         2580 non-null   int64  \n",
      " 22  arrival_delay_in_minutes           2574 non-null   float64\n",
      " 23  satisfaction                       2580 non-null   int64  \n",
      "dtypes: float64(1), int64(19), object(4)\n",
      "memory usage: 483.9+ KB\n"
     ]
    }
   ],
   "source": [
    "# 변수 확인\n",
    "data.info()"
   ]
  },
  {
   "cell_type": "markdown",
   "metadata": {
    "id": "KY7lIXKhcYdy"
   },
   "source": [
    "**3) 기초통계정보 확인**\n",
    "\n",
    "- 기초통계정보를 통해 숫자 데이터를 갖는 변수들 값 분포를 확인합니다."
   ]
  },
  {
   "cell_type": "code",
   "execution_count": 6,
   "metadata": {
    "colab": {
     "base_uri": "https://localhost:8080/",
     "height": 382
    },
    "executionInfo": {
     "elapsed": 17,
     "status": "ok",
     "timestamp": 1641524345320,
     "user": {
      "displayName": "Jangrae Lee",
      "photoUrl": "https://lh3.googleusercontent.com/a-/AOh14Gh1Pd8OuWJU2cv7uTt-fURrgvty7atx_Wtarmx0-A=s64",
      "userId": "08475661575434032088"
     },
     "user_tz": -540
    },
    "id": "JWuwP9xKcYdz",
    "outputId": "d615956e-8df1-43be-9706-32e07b468af7"
   },
   "outputs": [
    {
     "data": {
      "text/html": [
       "<div>\n",
       "<style scoped>\n",
       "    .dataframe tbody tr th:only-of-type {\n",
       "        vertical-align: middle;\n",
       "    }\n",
       "\n",
       "    .dataframe tbody tr th {\n",
       "        vertical-align: top;\n",
       "    }\n",
       "\n",
       "    .dataframe thead th {\n",
       "        text-align: right;\n",
       "    }\n",
       "</style>\n",
       "<table border=\"1\" class=\"dataframe\">\n",
       "  <thead>\n",
       "    <tr style=\"text-align: right;\">\n",
       "      <th></th>\n",
       "      <th>id</th>\n",
       "      <th>age</th>\n",
       "      <th>flight_distance</th>\n",
       "      <th>inflight_wifi_service</th>\n",
       "      <th>departure/arrival_time_convenient</th>\n",
       "      <th>ease_of_online_booking</th>\n",
       "      <th>gate_location</th>\n",
       "      <th>food_and_drink</th>\n",
       "      <th>online_boarding</th>\n",
       "      <th>seat_comfort</th>\n",
       "      <th>inflight_entertainment</th>\n",
       "      <th>on-board_service</th>\n",
       "      <th>leg_room_service</th>\n",
       "      <th>baggage_handling</th>\n",
       "      <th>checkin_service</th>\n",
       "      <th>inflight_service</th>\n",
       "      <th>cleanliness</th>\n",
       "      <th>departure_delay_in_minutes</th>\n",
       "      <th>arrival_delay_in_minutes</th>\n",
       "      <th>satisfaction</th>\n",
       "    </tr>\n",
       "  </thead>\n",
       "  <tbody>\n",
       "    <tr>\n",
       "      <th>count</th>\n",
       "      <td>2580.000000</td>\n",
       "      <td>2580.000000</td>\n",
       "      <td>2580.000000</td>\n",
       "      <td>2580.000000</td>\n",
       "      <td>2580.000000</td>\n",
       "      <td>2580.000000</td>\n",
       "      <td>2580.000000</td>\n",
       "      <td>2580.000000</td>\n",
       "      <td>2580.000000</td>\n",
       "      <td>2580.000000</td>\n",
       "      <td>2580.000000</td>\n",
       "      <td>2580.000000</td>\n",
       "      <td>2580.000000</td>\n",
       "      <td>2580.000000</td>\n",
       "      <td>2580.000000</td>\n",
       "      <td>2580.000000</td>\n",
       "      <td>2580.000000</td>\n",
       "      <td>2580.000000</td>\n",
       "      <td>2574.000000</td>\n",
       "      <td>2580.000000</td>\n",
       "    </tr>\n",
       "    <tr>\n",
       "      <th>mean</th>\n",
       "      <td>65179.742248</td>\n",
       "      <td>39.229845</td>\n",
       "      <td>1204.824806</td>\n",
       "      <td>2.732558</td>\n",
       "      <td>3.041473</td>\n",
       "      <td>2.758527</td>\n",
       "      <td>2.973256</td>\n",
       "      <td>3.229457</td>\n",
       "      <td>3.242248</td>\n",
       "      <td>3.440310</td>\n",
       "      <td>3.329070</td>\n",
       "      <td>3.361628</td>\n",
       "      <td>3.298450</td>\n",
       "      <td>3.599225</td>\n",
       "      <td>3.318992</td>\n",
       "      <td>3.620155</td>\n",
       "      <td>3.277907</td>\n",
       "      <td>14.856202</td>\n",
       "      <td>15.285159</td>\n",
       "      <td>0.427132</td>\n",
       "    </tr>\n",
       "    <tr>\n",
       "      <th>std</th>\n",
       "      <td>37320.994433</td>\n",
       "      <td>15.295065</td>\n",
       "      <td>1008.852185</td>\n",
       "      <td>1.317032</td>\n",
       "      <td>1.542290</td>\n",
       "      <td>1.400792</td>\n",
       "      <td>1.271752</td>\n",
       "      <td>1.341635</td>\n",
       "      <td>1.341842</td>\n",
       "      <td>1.329681</td>\n",
       "      <td>1.334021</td>\n",
       "      <td>1.266627</td>\n",
       "      <td>1.313897</td>\n",
       "      <td>1.168210</td>\n",
       "      <td>1.256309</td>\n",
       "      <td>1.182093</td>\n",
       "      <td>1.317367</td>\n",
       "      <td>35.808534</td>\n",
       "      <td>36.301790</td>\n",
       "      <td>0.494758</td>\n",
       "    </tr>\n",
       "    <tr>\n",
       "      <th>min</th>\n",
       "      <td>54.000000</td>\n",
       "      <td>7.000000</td>\n",
       "      <td>67.000000</td>\n",
       "      <td>0.000000</td>\n",
       "      <td>0.000000</td>\n",
       "      <td>0.000000</td>\n",
       "      <td>1.000000</td>\n",
       "      <td>0.000000</td>\n",
       "      <td>0.000000</td>\n",
       "      <td>1.000000</td>\n",
       "      <td>0.000000</td>\n",
       "      <td>0.000000</td>\n",
       "      <td>0.000000</td>\n",
       "      <td>1.000000</td>\n",
       "      <td>1.000000</td>\n",
       "      <td>0.000000</td>\n",
       "      <td>1.000000</td>\n",
       "      <td>0.000000</td>\n",
       "      <td>0.000000</td>\n",
       "      <td>0.000000</td>\n",
       "    </tr>\n",
       "    <tr>\n",
       "      <th>25%</th>\n",
       "      <td>32988.750000</td>\n",
       "      <td>26.000000</td>\n",
       "      <td>405.750000</td>\n",
       "      <td>2.000000</td>\n",
       "      <td>2.000000</td>\n",
       "      <td>2.000000</td>\n",
       "      <td>2.000000</td>\n",
       "      <td>2.000000</td>\n",
       "      <td>2.000000</td>\n",
       "      <td>2.000000</td>\n",
       "      <td>2.000000</td>\n",
       "      <td>2.000000</td>\n",
       "      <td>2.000000</td>\n",
       "      <td>3.000000</td>\n",
       "      <td>3.000000</td>\n",
       "      <td>3.000000</td>\n",
       "      <td>2.000000</td>\n",
       "      <td>0.000000</td>\n",
       "      <td>0.000000</td>\n",
       "      <td>0.000000</td>\n",
       "    </tr>\n",
       "    <tr>\n",
       "      <th>50%</th>\n",
       "      <td>64877.000000</td>\n",
       "      <td>40.000000</td>\n",
       "      <td>860.000000</td>\n",
       "      <td>3.000000</td>\n",
       "      <td>3.000000</td>\n",
       "      <td>3.000000</td>\n",
       "      <td>3.000000</td>\n",
       "      <td>3.000000</td>\n",
       "      <td>3.000000</td>\n",
       "      <td>4.000000</td>\n",
       "      <td>4.000000</td>\n",
       "      <td>4.000000</td>\n",
       "      <td>3.000000</td>\n",
       "      <td>4.000000</td>\n",
       "      <td>3.000000</td>\n",
       "      <td>4.000000</td>\n",
       "      <td>3.000000</td>\n",
       "      <td>0.000000</td>\n",
       "      <td>0.000000</td>\n",
       "      <td>0.000000</td>\n",
       "    </tr>\n",
       "    <tr>\n",
       "      <th>75%</th>\n",
       "      <td>97717.000000</td>\n",
       "      <td>51.000000</td>\n",
       "      <td>1754.500000</td>\n",
       "      <td>4.000000</td>\n",
       "      <td>4.000000</td>\n",
       "      <td>4.000000</td>\n",
       "      <td>4.000000</td>\n",
       "      <td>4.000000</td>\n",
       "      <td>4.000000</td>\n",
       "      <td>5.000000</td>\n",
       "      <td>4.000000</td>\n",
       "      <td>4.000000</td>\n",
       "      <td>4.000000</td>\n",
       "      <td>4.000000</td>\n",
       "      <td>4.000000</td>\n",
       "      <td>5.000000</td>\n",
       "      <td>4.000000</td>\n",
       "      <td>13.000000</td>\n",
       "      <td>14.000000</td>\n",
       "      <td>1.000000</td>\n",
       "    </tr>\n",
       "    <tr>\n",
       "      <th>max</th>\n",
       "      <td>129860.000000</td>\n",
       "      <td>85.000000</td>\n",
       "      <td>4963.000000</td>\n",
       "      <td>5.000000</td>\n",
       "      <td>5.000000</td>\n",
       "      <td>5.000000</td>\n",
       "      <td>5.000000</td>\n",
       "      <td>5.000000</td>\n",
       "      <td>5.000000</td>\n",
       "      <td>5.000000</td>\n",
       "      <td>5.000000</td>\n",
       "      <td>5.000000</td>\n",
       "      <td>5.000000</td>\n",
       "      <td>5.000000</td>\n",
       "      <td>5.000000</td>\n",
       "      <td>5.000000</td>\n",
       "      <td>5.000000</td>\n",
       "      <td>435.000000</td>\n",
       "      <td>470.000000</td>\n",
       "      <td>1.000000</td>\n",
       "    </tr>\n",
       "  </tbody>\n",
       "</table>\n",
       "</div>"
      ],
      "text/plain": [
       "                  id          age  flight_distance  inflight_wifi_service  \\\n",
       "count    2580.000000  2580.000000      2580.000000            2580.000000   \n",
       "mean    65179.742248    39.229845      1204.824806               2.732558   \n",
       "std     37320.994433    15.295065      1008.852185               1.317032   \n",
       "min        54.000000     7.000000        67.000000               0.000000   \n",
       "25%     32988.750000    26.000000       405.750000               2.000000   \n",
       "50%     64877.000000    40.000000       860.000000               3.000000   \n",
       "75%     97717.000000    51.000000      1754.500000               4.000000   \n",
       "max    129860.000000    85.000000      4963.000000               5.000000   \n",
       "\n",
       "       departure/arrival_time_convenient  ease_of_online_booking  \\\n",
       "count                        2580.000000             2580.000000   \n",
       "mean                            3.041473                2.758527   \n",
       "std                             1.542290                1.400792   \n",
       "min                             0.000000                0.000000   \n",
       "25%                             2.000000                2.000000   \n",
       "50%                             3.000000                3.000000   \n",
       "75%                             4.000000                4.000000   \n",
       "max                             5.000000                5.000000   \n",
       "\n",
       "       gate_location  food_and_drink  online_boarding  seat_comfort  \\\n",
       "count    2580.000000     2580.000000      2580.000000   2580.000000   \n",
       "mean        2.973256        3.229457         3.242248      3.440310   \n",
       "std         1.271752        1.341635         1.341842      1.329681   \n",
       "min         1.000000        0.000000         0.000000      1.000000   \n",
       "25%         2.000000        2.000000         2.000000      2.000000   \n",
       "50%         3.000000        3.000000         3.000000      4.000000   \n",
       "75%         4.000000        4.000000         4.000000      5.000000   \n",
       "max         5.000000        5.000000         5.000000      5.000000   \n",
       "\n",
       "       inflight_entertainment  on-board_service  leg_room_service  \\\n",
       "count             2580.000000       2580.000000       2580.000000   \n",
       "mean                 3.329070          3.361628          3.298450   \n",
       "std                  1.334021          1.266627          1.313897   \n",
       "min                  0.000000          0.000000          0.000000   \n",
       "25%                  2.000000          2.000000          2.000000   \n",
       "50%                  4.000000          4.000000          3.000000   \n",
       "75%                  4.000000          4.000000          4.000000   \n",
       "max                  5.000000          5.000000          5.000000   \n",
       "\n",
       "       baggage_handling  checkin_service  inflight_service  cleanliness  \\\n",
       "count       2580.000000      2580.000000       2580.000000  2580.000000   \n",
       "mean           3.599225         3.318992          3.620155     3.277907   \n",
       "std            1.168210         1.256309          1.182093     1.317367   \n",
       "min            1.000000         1.000000          0.000000     1.000000   \n",
       "25%            3.000000         3.000000          3.000000     2.000000   \n",
       "50%            4.000000         3.000000          4.000000     3.000000   \n",
       "75%            4.000000         4.000000          5.000000     4.000000   \n",
       "max            5.000000         5.000000          5.000000     5.000000   \n",
       "\n",
       "       departure_delay_in_minutes  arrival_delay_in_minutes  satisfaction  \n",
       "count                 2580.000000               2574.000000   2580.000000  \n",
       "mean                    14.856202                 15.285159      0.427132  \n",
       "std                     35.808534                 36.301790      0.494758  \n",
       "min                      0.000000                  0.000000      0.000000  \n",
       "25%                      0.000000                  0.000000      0.000000  \n",
       "50%                      0.000000                  0.000000      0.000000  \n",
       "75%                     13.000000                 14.000000      1.000000  \n",
       "max                    435.000000                470.000000      1.000000  "
      ]
     },
     "execution_count": 6,
     "metadata": {},
     "output_type": "execute_result"
    }
   ],
   "source": [
    "# 기초통계정보 확인\n",
    "data.describe()"
   ]
  },
  {
   "cell_type": "markdown",
   "metadata": {
    "id": "91cDDczO_Xvs"
   },
   "source": [
    "**4) 결측치 확인**\n",
    "\n",
    "- 결측치가 있는지 확인합니다."
   ]
  },
  {
   "cell_type": "code",
   "execution_count": 7,
   "metadata": {
    "colab": {
     "base_uri": "https://localhost:8080/"
    },
    "executionInfo": {
     "elapsed": 16,
     "status": "ok",
     "timestamp": 1641524345320,
     "user": {
      "displayName": "Jangrae Lee",
      "photoUrl": "https://lh3.googleusercontent.com/a-/AOh14Gh1Pd8OuWJU2cv7uTt-fURrgvty7atx_Wtarmx0-A=s64",
      "userId": "08475661575434032088"
     },
     "user_tz": -540
    },
    "id": "Lbwc3brE_Xvs",
    "outputId": "41338801-cfad-4e82-aeb7-adc5f6ed1c93"
   },
   "outputs": [
    {
     "data": {
      "text/plain": [
       "id                                   0\n",
       "gender                               0\n",
       "customer_type                        0\n",
       "age                                  0\n",
       "type_of_travel                       0\n",
       "class                                0\n",
       "flight_distance                      0\n",
       "inflight_wifi_service                0\n",
       "departure/arrival_time_convenient    0\n",
       "ease_of_online_booking               0\n",
       "gate_location                        0\n",
       "food_and_drink                       0\n",
       "online_boarding                      0\n",
       "seat_comfort                         0\n",
       "inflight_entertainment               0\n",
       "on-board_service                     0\n",
       "leg_room_service                     0\n",
       "baggage_handling                     0\n",
       "checkin_service                      0\n",
       "inflight_service                     0\n",
       "cleanliness                          0\n",
       "departure_delay_in_minutes           0\n",
       "arrival_delay_in_minutes             6\n",
       "satisfaction                         0\n",
       "dtype: int64"
      ]
     },
     "execution_count": 7,
     "metadata": {},
     "output_type": "execute_result"
    }
   ],
   "source": [
    "# 결측치 확인\n",
    "data.isna().sum()"
   ]
  },
  {
   "cell_type": "markdown",
   "metadata": {
    "id": "5DJV_hQ4ccci"
   },
   "source": [
    "**5) 상관관계 확인**\n",
    "\n",
    "- 변수들 간의 상관관계를 확인합니다."
   ]
  },
  {
   "cell_type": "code",
   "execution_count": 8,
   "metadata": {
    "colab": {
     "base_uri": "https://localhost:8080/",
     "height": 758
    },
    "executionInfo": {
     "elapsed": 14,
     "status": "ok",
     "timestamp": 1641524345321,
     "user": {
      "displayName": "Jangrae Lee",
      "photoUrl": "https://lh3.googleusercontent.com/a-/AOh14Gh1Pd8OuWJU2cv7uTt-fURrgvty7atx_Wtarmx0-A=s64",
      "userId": "08475661575434032088"
     },
     "user_tz": -540
    },
    "id": "RprHP1N6ICNb",
    "outputId": "d179480d-9534-4341-abfe-84b6dbbdcbec"
   },
   "outputs": [
    {
     "data": {
      "text/html": [
       "<div>\n",
       "<style scoped>\n",
       "    .dataframe tbody tr th:only-of-type {\n",
       "        vertical-align: middle;\n",
       "    }\n",
       "\n",
       "    .dataframe tbody tr th {\n",
       "        vertical-align: top;\n",
       "    }\n",
       "\n",
       "    .dataframe thead th {\n",
       "        text-align: right;\n",
       "    }\n",
       "</style>\n",
       "<table border=\"1\" class=\"dataframe\">\n",
       "  <thead>\n",
       "    <tr style=\"text-align: right;\">\n",
       "      <th></th>\n",
       "      <th>id</th>\n",
       "      <th>age</th>\n",
       "      <th>flight_distance</th>\n",
       "      <th>inflight_wifi_service</th>\n",
       "      <th>departure/arrival_time_convenient</th>\n",
       "      <th>ease_of_online_booking</th>\n",
       "      <th>gate_location</th>\n",
       "      <th>food_and_drink</th>\n",
       "      <th>online_boarding</th>\n",
       "      <th>seat_comfort</th>\n",
       "      <th>inflight_entertainment</th>\n",
       "      <th>on-board_service</th>\n",
       "      <th>leg_room_service</th>\n",
       "      <th>baggage_handling</th>\n",
       "      <th>checkin_service</th>\n",
       "      <th>inflight_service</th>\n",
       "      <th>cleanliness</th>\n",
       "      <th>departure_delay_in_minutes</th>\n",
       "      <th>arrival_delay_in_minutes</th>\n",
       "      <th>satisfaction</th>\n",
       "    </tr>\n",
       "  </thead>\n",
       "  <tbody>\n",
       "    <tr>\n",
       "      <th>id</th>\n",
       "      <td>1.000000</td>\n",
       "      <td>-0.015368</td>\n",
       "      <td>0.099408</td>\n",
       "      <td>-0.027930</td>\n",
       "      <td>-0.011158</td>\n",
       "      <td>-0.006361</td>\n",
       "      <td>-0.014071</td>\n",
       "      <td>0.045138</td>\n",
       "      <td>0.031230</td>\n",
       "      <td>0.053638</td>\n",
       "      <td>0.002769</td>\n",
       "      <td>0.029071</td>\n",
       "      <td>0.041225</td>\n",
       "      <td>0.056449</td>\n",
       "      <td>0.047594</td>\n",
       "      <td>0.067987</td>\n",
       "      <td>0.038136</td>\n",
       "      <td>0.018539</td>\n",
       "      <td>-0.005068</td>\n",
       "      <td>-0.003974</td>\n",
       "    </tr>\n",
       "    <tr>\n",
       "      <th>age</th>\n",
       "      <td>-0.015368</td>\n",
       "      <td>1.000000</td>\n",
       "      <td>0.078047</td>\n",
       "      <td>0.010329</td>\n",
       "      <td>0.064441</td>\n",
       "      <td>0.018626</td>\n",
       "      <td>0.009466</td>\n",
       "      <td>0.034049</td>\n",
       "      <td>0.197814</td>\n",
       "      <td>0.177556</td>\n",
       "      <td>0.052257</td>\n",
       "      <td>0.026791</td>\n",
       "      <td>0.024620</td>\n",
       "      <td>-0.073139</td>\n",
       "      <td>0.050525</td>\n",
       "      <td>-0.087237</td>\n",
       "      <td>0.059583</td>\n",
       "      <td>-0.037540</td>\n",
       "      <td>-0.034144</td>\n",
       "      <td>0.115479</td>\n",
       "    </tr>\n",
       "    <tr>\n",
       "      <th>flight_distance</th>\n",
       "      <td>0.099408</td>\n",
       "      <td>0.078047</td>\n",
       "      <td>1.000000</td>\n",
       "      <td>0.034791</td>\n",
       "      <td>-0.002179</td>\n",
       "      <td>0.057450</td>\n",
       "      <td>0.016260</td>\n",
       "      <td>0.067810</td>\n",
       "      <td>0.233310</td>\n",
       "      <td>0.151401</td>\n",
       "      <td>0.141815</td>\n",
       "      <td>0.111265</td>\n",
       "      <td>0.143432</td>\n",
       "      <td>0.055050</td>\n",
       "      <td>0.035266</td>\n",
       "      <td>0.053794</td>\n",
       "      <td>0.096767</td>\n",
       "      <td>-0.006341</td>\n",
       "      <td>-0.025196</td>\n",
       "      <td>0.305260</td>\n",
       "    </tr>\n",
       "    <tr>\n",
       "      <th>inflight_wifi_service</th>\n",
       "      <td>-0.027930</td>\n",
       "      <td>0.010329</td>\n",
       "      <td>0.034791</td>\n",
       "      <td>1.000000</td>\n",
       "      <td>0.320624</td>\n",
       "      <td>0.717404</td>\n",
       "      <td>0.356636</td>\n",
       "      <td>0.115497</td>\n",
       "      <td>0.451573</td>\n",
       "      <td>0.097381</td>\n",
       "      <td>0.200623</td>\n",
       "      <td>0.129821</td>\n",
       "      <td>0.198738</td>\n",
       "      <td>0.134191</td>\n",
       "      <td>0.023225</td>\n",
       "      <td>0.103834</td>\n",
       "      <td>0.122191</td>\n",
       "      <td>0.030221</td>\n",
       "      <td>0.023121</td>\n",
       "      <td>0.259875</td>\n",
       "    </tr>\n",
       "    <tr>\n",
       "      <th>departure/arrival_time_convenient</th>\n",
       "      <td>-0.011158</td>\n",
       "      <td>0.064441</td>\n",
       "      <td>-0.002179</td>\n",
       "      <td>0.320624</td>\n",
       "      <td>1.000000</td>\n",
       "      <td>0.439331</td>\n",
       "      <td>0.459399</td>\n",
       "      <td>0.014700</td>\n",
       "      <td>0.059034</td>\n",
       "      <td>0.018130</td>\n",
       "      <td>0.015226</td>\n",
       "      <td>0.064172</td>\n",
       "      <td>0.035029</td>\n",
       "      <td>0.062816</td>\n",
       "      <td>0.093228</td>\n",
       "      <td>0.072874</td>\n",
       "      <td>0.025242</td>\n",
       "      <td>0.012647</td>\n",
       "      <td>0.012714</td>\n",
       "      <td>-0.059302</td>\n",
       "    </tr>\n",
       "    <tr>\n",
       "      <th>ease_of_online_booking</th>\n",
       "      <td>-0.006361</td>\n",
       "      <td>0.018626</td>\n",
       "      <td>0.057450</td>\n",
       "      <td>0.717404</td>\n",
       "      <td>0.439331</td>\n",
       "      <td>1.000000</td>\n",
       "      <td>0.508303</td>\n",
       "      <td>0.034033</td>\n",
       "      <td>0.384504</td>\n",
       "      <td>0.017968</td>\n",
       "      <td>0.050631</td>\n",
       "      <td>0.027163</td>\n",
       "      <td>0.138610</td>\n",
       "      <td>0.046280</td>\n",
       "      <td>-0.006889</td>\n",
       "      <td>0.032867</td>\n",
       "      <td>0.011795</td>\n",
       "      <td>0.023704</td>\n",
       "      <td>0.017871</td>\n",
       "      <td>0.158390</td>\n",
       "    </tr>\n",
       "    <tr>\n",
       "      <th>gate_location</th>\n",
       "      <td>-0.014071</td>\n",
       "      <td>0.009466</td>\n",
       "      <td>0.016260</td>\n",
       "      <td>0.356636</td>\n",
       "      <td>0.459399</td>\n",
       "      <td>0.508303</td>\n",
       "      <td>1.000000</td>\n",
       "      <td>-0.016628</td>\n",
       "      <td>0.019022</td>\n",
       "      <td>-0.028575</td>\n",
       "      <td>0.009760</td>\n",
       "      <td>-0.013491</td>\n",
       "      <td>0.018238</td>\n",
       "      <td>0.026451</td>\n",
       "      <td>-0.036886</td>\n",
       "      <td>-0.007018</td>\n",
       "      <td>0.000272</td>\n",
       "      <td>0.013530</td>\n",
       "      <td>0.013358</td>\n",
       "      <td>0.021243</td>\n",
       "    </tr>\n",
       "    <tr>\n",
       "      <th>food_and_drink</th>\n",
       "      <td>0.045138</td>\n",
       "      <td>0.034049</td>\n",
       "      <td>0.067810</td>\n",
       "      <td>0.115497</td>\n",
       "      <td>0.014700</td>\n",
       "      <td>0.034033</td>\n",
       "      <td>-0.016628</td>\n",
       "      <td>1.000000</td>\n",
       "      <td>0.239849</td>\n",
       "      <td>0.586710</td>\n",
       "      <td>0.611201</td>\n",
       "      <td>0.088740</td>\n",
       "      <td>0.030205</td>\n",
       "      <td>0.008476</td>\n",
       "      <td>0.059618</td>\n",
       "      <td>0.034685</td>\n",
       "      <td>0.642026</td>\n",
       "      <td>-0.008821</td>\n",
       "      <td>-0.013381</td>\n",
       "      <td>0.208037</td>\n",
       "    </tr>\n",
       "    <tr>\n",
       "      <th>online_boarding</th>\n",
       "      <td>0.031230</td>\n",
       "      <td>0.197814</td>\n",
       "      <td>0.233310</td>\n",
       "      <td>0.451573</td>\n",
       "      <td>0.059034</td>\n",
       "      <td>0.384504</td>\n",
       "      <td>0.019022</td>\n",
       "      <td>0.239849</td>\n",
       "      <td>1.000000</td>\n",
       "      <td>0.419603</td>\n",
       "      <td>0.279503</td>\n",
       "      <td>0.143723</td>\n",
       "      <td>0.145477</td>\n",
       "      <td>0.079027</td>\n",
       "      <td>0.184845</td>\n",
       "      <td>0.080524</td>\n",
       "      <td>0.329533</td>\n",
       "      <td>-0.025518</td>\n",
       "      <td>-0.034461</td>\n",
       "      <td>0.475447</td>\n",
       "    </tr>\n",
       "    <tr>\n",
       "      <th>seat_comfort</th>\n",
       "      <td>0.053638</td>\n",
       "      <td>0.177556</td>\n",
       "      <td>0.151401</td>\n",
       "      <td>0.097381</td>\n",
       "      <td>0.018130</td>\n",
       "      <td>0.017968</td>\n",
       "      <td>-0.028575</td>\n",
       "      <td>0.586710</td>\n",
       "      <td>0.419603</td>\n",
       "      <td>1.000000</td>\n",
       "      <td>0.599424</td>\n",
       "      <td>0.146237</td>\n",
       "      <td>0.111184</td>\n",
       "      <td>0.047997</td>\n",
       "      <td>0.170750</td>\n",
       "      <td>0.055629</td>\n",
       "      <td>0.691808</td>\n",
       "      <td>-0.027148</td>\n",
       "      <td>-0.030866</td>\n",
       "      <td>0.338773</td>\n",
       "    </tr>\n",
       "    <tr>\n",
       "      <th>inflight_entertainment</th>\n",
       "      <td>0.002769</td>\n",
       "      <td>0.052257</td>\n",
       "      <td>0.141815</td>\n",
       "      <td>0.200623</td>\n",
       "      <td>0.015226</td>\n",
       "      <td>0.050631</td>\n",
       "      <td>0.009760</td>\n",
       "      <td>0.611201</td>\n",
       "      <td>0.279503</td>\n",
       "      <td>0.599424</td>\n",
       "      <td>1.000000</td>\n",
       "      <td>0.450915</td>\n",
       "      <td>0.302323</td>\n",
       "      <td>0.376263</td>\n",
       "      <td>0.094204</td>\n",
       "      <td>0.418373</td>\n",
       "      <td>0.683327</td>\n",
       "      <td>-0.047785</td>\n",
       "      <td>-0.049907</td>\n",
       "      <td>0.399701</td>\n",
       "    </tr>\n",
       "    <tr>\n",
       "      <th>on-board_service</th>\n",
       "      <td>0.029071</td>\n",
       "      <td>0.026791</td>\n",
       "      <td>0.111265</td>\n",
       "      <td>0.129821</td>\n",
       "      <td>0.064172</td>\n",
       "      <td>0.027163</td>\n",
       "      <td>-0.013491</td>\n",
       "      <td>0.088740</td>\n",
       "      <td>0.143723</td>\n",
       "      <td>0.146237</td>\n",
       "      <td>0.450915</td>\n",
       "      <td>1.000000</td>\n",
       "      <td>0.339129</td>\n",
       "      <td>0.509923</td>\n",
       "      <td>0.251074</td>\n",
       "      <td>0.532543</td>\n",
       "      <td>0.157950</td>\n",
       "      <td>-0.046821</td>\n",
       "      <td>-0.047131</td>\n",
       "      <td>0.330707</td>\n",
       "    </tr>\n",
       "    <tr>\n",
       "      <th>leg_room_service</th>\n",
       "      <td>0.041225</td>\n",
       "      <td>0.024620</td>\n",
       "      <td>0.143432</td>\n",
       "      <td>0.198738</td>\n",
       "      <td>0.035029</td>\n",
       "      <td>0.138610</td>\n",
       "      <td>0.018238</td>\n",
       "      <td>0.030205</td>\n",
       "      <td>0.145477</td>\n",
       "      <td>0.111184</td>\n",
       "      <td>0.302323</td>\n",
       "      <td>0.339129</td>\n",
       "      <td>1.000000</td>\n",
       "      <td>0.392974</td>\n",
       "      <td>0.161467</td>\n",
       "      <td>0.365861</td>\n",
       "      <td>0.096554</td>\n",
       "      <td>0.004374</td>\n",
       "      <td>-0.004278</td>\n",
       "      <td>0.316795</td>\n",
       "    </tr>\n",
       "    <tr>\n",
       "      <th>baggage_handling</th>\n",
       "      <td>0.056449</td>\n",
       "      <td>-0.073139</td>\n",
       "      <td>0.055050</td>\n",
       "      <td>0.134191</td>\n",
       "      <td>0.062816</td>\n",
       "      <td>0.046280</td>\n",
       "      <td>0.026451</td>\n",
       "      <td>0.008476</td>\n",
       "      <td>0.079027</td>\n",
       "      <td>0.047997</td>\n",
       "      <td>0.376263</td>\n",
       "      <td>0.509923</td>\n",
       "      <td>0.392974</td>\n",
       "      <td>1.000000</td>\n",
       "      <td>0.235359</td>\n",
       "      <td>0.624256</td>\n",
       "      <td>0.079203</td>\n",
       "      <td>0.007604</td>\n",
       "      <td>0.004431</td>\n",
       "      <td>0.252013</td>\n",
       "    </tr>\n",
       "    <tr>\n",
       "      <th>checkin_service</th>\n",
       "      <td>0.047594</td>\n",
       "      <td>0.050525</td>\n",
       "      <td>0.035266</td>\n",
       "      <td>0.023225</td>\n",
       "      <td>0.093228</td>\n",
       "      <td>-0.006889</td>\n",
       "      <td>-0.036886</td>\n",
       "      <td>0.059618</td>\n",
       "      <td>0.184845</td>\n",
       "      <td>0.170750</td>\n",
       "      <td>0.094204</td>\n",
       "      <td>0.251074</td>\n",
       "      <td>0.161467</td>\n",
       "      <td>0.235359</td>\n",
       "      <td>1.000000</td>\n",
       "      <td>0.222092</td>\n",
       "      <td>0.146729</td>\n",
       "      <td>-0.000833</td>\n",
       "      <td>0.006765</td>\n",
       "      <td>0.230483</td>\n",
       "    </tr>\n",
       "    <tr>\n",
       "      <th>inflight_service</th>\n",
       "      <td>0.067987</td>\n",
       "      <td>-0.087237</td>\n",
       "      <td>0.053794</td>\n",
       "      <td>0.103834</td>\n",
       "      <td>0.072874</td>\n",
       "      <td>0.032867</td>\n",
       "      <td>-0.007018</td>\n",
       "      <td>0.034685</td>\n",
       "      <td>0.080524</td>\n",
       "      <td>0.055629</td>\n",
       "      <td>0.418373</td>\n",
       "      <td>0.532543</td>\n",
       "      <td>0.365861</td>\n",
       "      <td>0.624256</td>\n",
       "      <td>0.222092</td>\n",
       "      <td>1.000000</td>\n",
       "      <td>0.100432</td>\n",
       "      <td>-0.067520</td>\n",
       "      <td>-0.065180</td>\n",
       "      <td>0.250336</td>\n",
       "    </tr>\n",
       "    <tr>\n",
       "      <th>cleanliness</th>\n",
       "      <td>0.038136</td>\n",
       "      <td>0.059583</td>\n",
       "      <td>0.096767</td>\n",
       "      <td>0.122191</td>\n",
       "      <td>0.025242</td>\n",
       "      <td>0.011795</td>\n",
       "      <td>0.000272</td>\n",
       "      <td>0.642026</td>\n",
       "      <td>0.329533</td>\n",
       "      <td>0.691808</td>\n",
       "      <td>0.683327</td>\n",
       "      <td>0.157950</td>\n",
       "      <td>0.096554</td>\n",
       "      <td>0.079203</td>\n",
       "      <td>0.146729</td>\n",
       "      <td>0.100432</td>\n",
       "      <td>1.000000</td>\n",
       "      <td>-0.004167</td>\n",
       "      <td>0.001427</td>\n",
       "      <td>0.294923</td>\n",
       "    </tr>\n",
       "    <tr>\n",
       "      <th>departure_delay_in_minutes</th>\n",
       "      <td>0.018539</td>\n",
       "      <td>-0.037540</td>\n",
       "      <td>-0.006341</td>\n",
       "      <td>0.030221</td>\n",
       "      <td>0.012647</td>\n",
       "      <td>0.023704</td>\n",
       "      <td>0.013530</td>\n",
       "      <td>-0.008821</td>\n",
       "      <td>-0.025518</td>\n",
       "      <td>-0.027148</td>\n",
       "      <td>-0.047785</td>\n",
       "      <td>-0.046821</td>\n",
       "      <td>0.004374</td>\n",
       "      <td>0.007604</td>\n",
       "      <td>-0.000833</td>\n",
       "      <td>-0.067520</td>\n",
       "      <td>-0.004167</td>\n",
       "      <td>1.000000</td>\n",
       "      <td>0.960423</td>\n",
       "      <td>-0.020935</td>\n",
       "    </tr>\n",
       "    <tr>\n",
       "      <th>arrival_delay_in_minutes</th>\n",
       "      <td>-0.005068</td>\n",
       "      <td>-0.034144</td>\n",
       "      <td>-0.025196</td>\n",
       "      <td>0.023121</td>\n",
       "      <td>0.012714</td>\n",
       "      <td>0.017871</td>\n",
       "      <td>0.013358</td>\n",
       "      <td>-0.013381</td>\n",
       "      <td>-0.034461</td>\n",
       "      <td>-0.030866</td>\n",
       "      <td>-0.049907</td>\n",
       "      <td>-0.047131</td>\n",
       "      <td>-0.004278</td>\n",
       "      <td>0.004431</td>\n",
       "      <td>0.006765</td>\n",
       "      <td>-0.065180</td>\n",
       "      <td>0.001427</td>\n",
       "      <td>0.960423</td>\n",
       "      <td>1.000000</td>\n",
       "      <td>-0.028858</td>\n",
       "    </tr>\n",
       "    <tr>\n",
       "      <th>satisfaction</th>\n",
       "      <td>-0.003974</td>\n",
       "      <td>0.115479</td>\n",
       "      <td>0.305260</td>\n",
       "      <td>0.259875</td>\n",
       "      <td>-0.059302</td>\n",
       "      <td>0.158390</td>\n",
       "      <td>0.021243</td>\n",
       "      <td>0.208037</td>\n",
       "      <td>0.475447</td>\n",
       "      <td>0.338773</td>\n",
       "      <td>0.399701</td>\n",
       "      <td>0.330707</td>\n",
       "      <td>0.316795</td>\n",
       "      <td>0.252013</td>\n",
       "      <td>0.230483</td>\n",
       "      <td>0.250336</td>\n",
       "      <td>0.294923</td>\n",
       "      <td>-0.020935</td>\n",
       "      <td>-0.028858</td>\n",
       "      <td>1.000000</td>\n",
       "    </tr>\n",
       "  </tbody>\n",
       "</table>\n",
       "</div>"
      ],
      "text/plain": [
       "                                         id       age  flight_distance  \\\n",
       "id                                 1.000000 -0.015368         0.099408   \n",
       "age                               -0.015368  1.000000         0.078047   \n",
       "flight_distance                    0.099408  0.078047         1.000000   \n",
       "inflight_wifi_service             -0.027930  0.010329         0.034791   \n",
       "departure/arrival_time_convenient -0.011158  0.064441        -0.002179   \n",
       "ease_of_online_booking            -0.006361  0.018626         0.057450   \n",
       "gate_location                     -0.014071  0.009466         0.016260   \n",
       "food_and_drink                     0.045138  0.034049         0.067810   \n",
       "online_boarding                    0.031230  0.197814         0.233310   \n",
       "seat_comfort                       0.053638  0.177556         0.151401   \n",
       "inflight_entertainment             0.002769  0.052257         0.141815   \n",
       "on-board_service                   0.029071  0.026791         0.111265   \n",
       "leg_room_service                   0.041225  0.024620         0.143432   \n",
       "baggage_handling                   0.056449 -0.073139         0.055050   \n",
       "checkin_service                    0.047594  0.050525         0.035266   \n",
       "inflight_service                   0.067987 -0.087237         0.053794   \n",
       "cleanliness                        0.038136  0.059583         0.096767   \n",
       "departure_delay_in_minutes         0.018539 -0.037540        -0.006341   \n",
       "arrival_delay_in_minutes          -0.005068 -0.034144        -0.025196   \n",
       "satisfaction                      -0.003974  0.115479         0.305260   \n",
       "\n",
       "                                   inflight_wifi_service  \\\n",
       "id                                             -0.027930   \n",
       "age                                             0.010329   \n",
       "flight_distance                                 0.034791   \n",
       "inflight_wifi_service                           1.000000   \n",
       "departure/arrival_time_convenient               0.320624   \n",
       "ease_of_online_booking                          0.717404   \n",
       "gate_location                                   0.356636   \n",
       "food_and_drink                                  0.115497   \n",
       "online_boarding                                 0.451573   \n",
       "seat_comfort                                    0.097381   \n",
       "inflight_entertainment                          0.200623   \n",
       "on-board_service                                0.129821   \n",
       "leg_room_service                                0.198738   \n",
       "baggage_handling                                0.134191   \n",
       "checkin_service                                 0.023225   \n",
       "inflight_service                                0.103834   \n",
       "cleanliness                                     0.122191   \n",
       "departure_delay_in_minutes                      0.030221   \n",
       "arrival_delay_in_minutes                        0.023121   \n",
       "satisfaction                                    0.259875   \n",
       "\n",
       "                                   departure/arrival_time_convenient  \\\n",
       "id                                                         -0.011158   \n",
       "age                                                         0.064441   \n",
       "flight_distance                                            -0.002179   \n",
       "inflight_wifi_service                                       0.320624   \n",
       "departure/arrival_time_convenient                           1.000000   \n",
       "ease_of_online_booking                                      0.439331   \n",
       "gate_location                                               0.459399   \n",
       "food_and_drink                                              0.014700   \n",
       "online_boarding                                             0.059034   \n",
       "seat_comfort                                                0.018130   \n",
       "inflight_entertainment                                      0.015226   \n",
       "on-board_service                                            0.064172   \n",
       "leg_room_service                                            0.035029   \n",
       "baggage_handling                                            0.062816   \n",
       "checkin_service                                             0.093228   \n",
       "inflight_service                                            0.072874   \n",
       "cleanliness                                                 0.025242   \n",
       "departure_delay_in_minutes                                  0.012647   \n",
       "arrival_delay_in_minutes                                    0.012714   \n",
       "satisfaction                                               -0.059302   \n",
       "\n",
       "                                   ease_of_online_booking  gate_location  \\\n",
       "id                                              -0.006361      -0.014071   \n",
       "age                                              0.018626       0.009466   \n",
       "flight_distance                                  0.057450       0.016260   \n",
       "inflight_wifi_service                            0.717404       0.356636   \n",
       "departure/arrival_time_convenient                0.439331       0.459399   \n",
       "ease_of_online_booking                           1.000000       0.508303   \n",
       "gate_location                                    0.508303       1.000000   \n",
       "food_and_drink                                   0.034033      -0.016628   \n",
       "online_boarding                                  0.384504       0.019022   \n",
       "seat_comfort                                     0.017968      -0.028575   \n",
       "inflight_entertainment                           0.050631       0.009760   \n",
       "on-board_service                                 0.027163      -0.013491   \n",
       "leg_room_service                                 0.138610       0.018238   \n",
       "baggage_handling                                 0.046280       0.026451   \n",
       "checkin_service                                 -0.006889      -0.036886   \n",
       "inflight_service                                 0.032867      -0.007018   \n",
       "cleanliness                                      0.011795       0.000272   \n",
       "departure_delay_in_minutes                       0.023704       0.013530   \n",
       "arrival_delay_in_minutes                         0.017871       0.013358   \n",
       "satisfaction                                     0.158390       0.021243   \n",
       "\n",
       "                                   food_and_drink  online_boarding  \\\n",
       "id                                       0.045138         0.031230   \n",
       "age                                      0.034049         0.197814   \n",
       "flight_distance                          0.067810         0.233310   \n",
       "inflight_wifi_service                    0.115497         0.451573   \n",
       "departure/arrival_time_convenient        0.014700         0.059034   \n",
       "ease_of_online_booking                   0.034033         0.384504   \n",
       "gate_location                           -0.016628         0.019022   \n",
       "food_and_drink                           1.000000         0.239849   \n",
       "online_boarding                          0.239849         1.000000   \n",
       "seat_comfort                             0.586710         0.419603   \n",
       "inflight_entertainment                   0.611201         0.279503   \n",
       "on-board_service                         0.088740         0.143723   \n",
       "leg_room_service                         0.030205         0.145477   \n",
       "baggage_handling                         0.008476         0.079027   \n",
       "checkin_service                          0.059618         0.184845   \n",
       "inflight_service                         0.034685         0.080524   \n",
       "cleanliness                              0.642026         0.329533   \n",
       "departure_delay_in_minutes              -0.008821        -0.025518   \n",
       "arrival_delay_in_minutes                -0.013381        -0.034461   \n",
       "satisfaction                             0.208037         0.475447   \n",
       "\n",
       "                                   seat_comfort  inflight_entertainment  \\\n",
       "id                                     0.053638                0.002769   \n",
       "age                                    0.177556                0.052257   \n",
       "flight_distance                        0.151401                0.141815   \n",
       "inflight_wifi_service                  0.097381                0.200623   \n",
       "departure/arrival_time_convenient      0.018130                0.015226   \n",
       "ease_of_online_booking                 0.017968                0.050631   \n",
       "gate_location                         -0.028575                0.009760   \n",
       "food_and_drink                         0.586710                0.611201   \n",
       "online_boarding                        0.419603                0.279503   \n",
       "seat_comfort                           1.000000                0.599424   \n",
       "inflight_entertainment                 0.599424                1.000000   \n",
       "on-board_service                       0.146237                0.450915   \n",
       "leg_room_service                       0.111184                0.302323   \n",
       "baggage_handling                       0.047997                0.376263   \n",
       "checkin_service                        0.170750                0.094204   \n",
       "inflight_service                       0.055629                0.418373   \n",
       "cleanliness                            0.691808                0.683327   \n",
       "departure_delay_in_minutes            -0.027148               -0.047785   \n",
       "arrival_delay_in_minutes              -0.030866               -0.049907   \n",
       "satisfaction                           0.338773                0.399701   \n",
       "\n",
       "                                   on-board_service  leg_room_service  \\\n",
       "id                                         0.029071          0.041225   \n",
       "age                                        0.026791          0.024620   \n",
       "flight_distance                            0.111265          0.143432   \n",
       "inflight_wifi_service                      0.129821          0.198738   \n",
       "departure/arrival_time_convenient          0.064172          0.035029   \n",
       "ease_of_online_booking                     0.027163          0.138610   \n",
       "gate_location                             -0.013491          0.018238   \n",
       "food_and_drink                             0.088740          0.030205   \n",
       "online_boarding                            0.143723          0.145477   \n",
       "seat_comfort                               0.146237          0.111184   \n",
       "inflight_entertainment                     0.450915          0.302323   \n",
       "on-board_service                           1.000000          0.339129   \n",
       "leg_room_service                           0.339129          1.000000   \n",
       "baggage_handling                           0.509923          0.392974   \n",
       "checkin_service                            0.251074          0.161467   \n",
       "inflight_service                           0.532543          0.365861   \n",
       "cleanliness                                0.157950          0.096554   \n",
       "departure_delay_in_minutes                -0.046821          0.004374   \n",
       "arrival_delay_in_minutes                  -0.047131         -0.004278   \n",
       "satisfaction                               0.330707          0.316795   \n",
       "\n",
       "                                   baggage_handling  checkin_service  \\\n",
       "id                                         0.056449         0.047594   \n",
       "age                                       -0.073139         0.050525   \n",
       "flight_distance                            0.055050         0.035266   \n",
       "inflight_wifi_service                      0.134191         0.023225   \n",
       "departure/arrival_time_convenient          0.062816         0.093228   \n",
       "ease_of_online_booking                     0.046280        -0.006889   \n",
       "gate_location                              0.026451        -0.036886   \n",
       "food_and_drink                             0.008476         0.059618   \n",
       "online_boarding                            0.079027         0.184845   \n",
       "seat_comfort                               0.047997         0.170750   \n",
       "inflight_entertainment                     0.376263         0.094204   \n",
       "on-board_service                           0.509923         0.251074   \n",
       "leg_room_service                           0.392974         0.161467   \n",
       "baggage_handling                           1.000000         0.235359   \n",
       "checkin_service                            0.235359         1.000000   \n",
       "inflight_service                           0.624256         0.222092   \n",
       "cleanliness                                0.079203         0.146729   \n",
       "departure_delay_in_minutes                 0.007604        -0.000833   \n",
       "arrival_delay_in_minutes                   0.004431         0.006765   \n",
       "satisfaction                               0.252013         0.230483   \n",
       "\n",
       "                                   inflight_service  cleanliness  \\\n",
       "id                                         0.067987     0.038136   \n",
       "age                                       -0.087237     0.059583   \n",
       "flight_distance                            0.053794     0.096767   \n",
       "inflight_wifi_service                      0.103834     0.122191   \n",
       "departure/arrival_time_convenient          0.072874     0.025242   \n",
       "ease_of_online_booking                     0.032867     0.011795   \n",
       "gate_location                             -0.007018     0.000272   \n",
       "food_and_drink                             0.034685     0.642026   \n",
       "online_boarding                            0.080524     0.329533   \n",
       "seat_comfort                               0.055629     0.691808   \n",
       "inflight_entertainment                     0.418373     0.683327   \n",
       "on-board_service                           0.532543     0.157950   \n",
       "leg_room_service                           0.365861     0.096554   \n",
       "baggage_handling                           0.624256     0.079203   \n",
       "checkin_service                            0.222092     0.146729   \n",
       "inflight_service                           1.000000     0.100432   \n",
       "cleanliness                                0.100432     1.000000   \n",
       "departure_delay_in_minutes                -0.067520    -0.004167   \n",
       "arrival_delay_in_minutes                  -0.065180     0.001427   \n",
       "satisfaction                               0.250336     0.294923   \n",
       "\n",
       "                                   departure_delay_in_minutes  \\\n",
       "id                                                   0.018539   \n",
       "age                                                 -0.037540   \n",
       "flight_distance                                     -0.006341   \n",
       "inflight_wifi_service                                0.030221   \n",
       "departure/arrival_time_convenient                    0.012647   \n",
       "ease_of_online_booking                               0.023704   \n",
       "gate_location                                        0.013530   \n",
       "food_and_drink                                      -0.008821   \n",
       "online_boarding                                     -0.025518   \n",
       "seat_comfort                                        -0.027148   \n",
       "inflight_entertainment                              -0.047785   \n",
       "on-board_service                                    -0.046821   \n",
       "leg_room_service                                     0.004374   \n",
       "baggage_handling                                     0.007604   \n",
       "checkin_service                                     -0.000833   \n",
       "inflight_service                                    -0.067520   \n",
       "cleanliness                                         -0.004167   \n",
       "departure_delay_in_minutes                           1.000000   \n",
       "arrival_delay_in_minutes                             0.960423   \n",
       "satisfaction                                        -0.020935   \n",
       "\n",
       "                                   arrival_delay_in_minutes  satisfaction  \n",
       "id                                                -0.005068     -0.003974  \n",
       "age                                               -0.034144      0.115479  \n",
       "flight_distance                                   -0.025196      0.305260  \n",
       "inflight_wifi_service                              0.023121      0.259875  \n",
       "departure/arrival_time_convenient                  0.012714     -0.059302  \n",
       "ease_of_online_booking                             0.017871      0.158390  \n",
       "gate_location                                      0.013358      0.021243  \n",
       "food_and_drink                                    -0.013381      0.208037  \n",
       "online_boarding                                   -0.034461      0.475447  \n",
       "seat_comfort                                      -0.030866      0.338773  \n",
       "inflight_entertainment                            -0.049907      0.399701  \n",
       "on-board_service                                  -0.047131      0.330707  \n",
       "leg_room_service                                  -0.004278      0.316795  \n",
       "baggage_handling                                   0.004431      0.252013  \n",
       "checkin_service                                    0.006765      0.230483  \n",
       "inflight_service                                  -0.065180      0.250336  \n",
       "cleanliness                                        0.001427      0.294923  \n",
       "departure_delay_in_minutes                         0.960423     -0.020935  \n",
       "arrival_delay_in_minutes                           1.000000     -0.028858  \n",
       "satisfaction                                      -0.028858      1.000000  "
      ]
     },
     "execution_count": 8,
     "metadata": {},
     "output_type": "execute_result"
    }
   ],
   "source": [
    "# 상관분석\n",
    "data.corr()"
   ]
  },
  {
   "cell_type": "markdown",
   "metadata": {
    "id": "j-3b3e9GVqSX"
   },
   "source": [
    "**6) 범주값 변수 확인**\n",
    "\n",
    "- 범주형 변수를 식별해 목록을 작성하고, 그 변수들이 어떤 범주값을 몇 개씩 갖는지 확인합니다.\n",
    "    - 범주형 변수: gender, customer_type, type_of_travel, class, satisfaction"
   ]
  },
  {
   "cell_type": "code",
   "execution_count": 9,
   "metadata": {
    "colab": {
     "base_uri": "https://localhost:8080/"
    },
    "executionInfo": {
     "elapsed": 13,
     "status": "ok",
     "timestamp": 1641524345321,
     "user": {
      "displayName": "Jangrae Lee",
      "photoUrl": "https://lh3.googleusercontent.com/a-/AOh14Gh1Pd8OuWJU2cv7uTt-fURrgvty7atx_Wtarmx0-A=s64",
      "userId": "08475661575434032088"
     },
     "user_tz": -540
    },
    "id": "UMLBq-3AVSXq",
    "outputId": "77d4a41b-d552-456d-8f51-02cf125d6e41",
    "scrolled": false
   },
   "outputs": [
    {
     "name": "stdout",
     "output_type": "stream",
     "text": [
      "gender\n",
      "Female    1335\n",
      "Male      1245\n",
      "dtype: int64\n",
      "------------------------------\n",
      "customer_type\n",
      "Loyal Customer       2119\n",
      "disloyal Customer     461\n",
      "dtype: int64\n",
      "------------------------------\n",
      "type_of_travel\n",
      "Business travel    1772\n",
      "Personal Travel     808\n",
      "dtype: int64\n",
      "------------------------------\n",
      "class\n",
      "Business    1258\n",
      "Eco         1129\n",
      "Eco Plus     193\n",
      "dtype: int64\n",
      "------------------------------\n",
      "satisfaction\n",
      "0    1478\n",
      "1    1102\n",
      "dtype: int64\n"
     ]
    }
   ],
   "source": [
    "# 범주값 개수 확인\n",
    "\n",
    "print(data.value_counts('gender'))\n",
    "print('-'*30)\n",
    "print(data.value_counts('customer_type'))\n",
    "print('-'*30)\n",
    "print(data.value_counts('type_of_travel'))\n",
    "print('-'*30)\n",
    "print(data.value_counts('class'))\n",
    "print('-'*30)\n",
    "print(data.value_counts('satisfaction'))"
   ]
  },
  {
   "cell_type": "markdown",
   "metadata": {
    "id": "VIba-cq-vwUO"
   },
   "source": [
    "**7) 주요 변수 확인**\n",
    "\n",
    "7-1) satisfaction 변수 범주 값 개수를 막대그래프로 시각화해 확인합니다."
   ]
  },
  {
   "cell_type": "code",
   "execution_count": 10,
   "metadata": {
    "id": "5h7b8pbHvwUP",
    "outputId": "3d55c9e3-a8fa-4a1b-ee55-171af50ae8db"
   },
   "outputs": [
    {
     "data": {
      "image/png": "[encoded data removed]",
      "text/plain": [
       "<Figure size 432x288 with 1 Axes>"
      ]
     },
     "metadata": {
      "image/png": {
       "height": 261,
       "width": 395
      },
      "needs_background": "light"
     },
     "output_type": "display_data"
    }
   ],
   "source": [
    "# satisfaction 값 분포\n",
    "sns.countplot(x='satisfaction', data=data)\n",
    "plt.show()"
   ]
  },
  {
   "cell_type": "markdown",
   "metadata": {},
   "source": [
    "- 만족보다 불만족의 의견이 더 많다.\n",
    "- 주로 불만족을 느낀부분이 무엇인지에 대해 분석 필요"
   ]
  },
  {
   "cell_type": "markdown",
   "metadata": {},
   "source": [
    "7-2) type_of_travel 변수 범주 값  개수를 막대그래프로 시각화해 확인합니다."
   ]
  },
  {
   "cell_type": "code",
   "execution_count": 11,
   "metadata": {
    "id": "QJtygKYyvwUP",
    "outputId": "35d8539f-504f-475f-a535-1f41e6bb4f67",
    "scrolled": false
   },
   "outputs": [
    {
     "data": {
      "image/png": "[encoded data removed]",
      "text/plain": [
       "<Figure size 432x288 with 1 Axes>"
      ]
     },
     "metadata": {
      "image/png": {
       "height": 262,
       "width": 395
      },
      "needs_background": "light"
     },
     "output_type": "display_data"
    }
   ],
   "source": [
    "# type_of_travel 값 분포\n",
    "sns.countplot(x='type_of_travel', data=data)\n",
    "plt.show()"
   ]
  },
  {
   "cell_type": "markdown",
   "metadata": {},
   "source": [
    "- 대부분 업무로 인해 우리 항공사를 자주 이용한다.\n",
    "- 개인 여행 목적의 수는 현저히 낮다"
   ]
  },
  {
   "cell_type": "markdown",
   "metadata": {},
   "source": [
    "7-3) age 변수 값 분포를 히스토그램으로 시각화해 확인합니다."
   ]
  },
  {
   "cell_type": "code",
   "execution_count": 12,
   "metadata": {
    "id": "EVVfcBN8vwUP",
    "outputId": "8c15dc19-5ade-4bb0-85b7-d510a41c9033",
    "scrolled": true
   },
   "outputs": [
    {
     "data": {
      "image/png": "[encoded data removed]",
      "text/plain": [
       "<Figure size 432x288 with 1 Axes>"
      ]
     },
     "metadata": {
      "image/png": {
       "height": 261,
       "width": 388
      },
      "needs_background": "light"
     },
     "output_type": "display_data"
    }
   ],
   "source": [
    "# age 값 분포\n",
    "sns.histplot(x='age', data=data, bins=50, hue='satisfaction')\n",
    "plt.show()"
   ]
  },
  {
   "cell_type": "markdown",
   "metadata": {},
   "source": [
    "- 1~30대, 6-70대는 불만족이라고 응답한 수가 많다. 2-30대 이용수가 가장 많은데 불만족이 상당히 높은 것으로 나타난다.\n",
    "- 4-50대는 만족이라고 응답한 사람이 많이 나타났다."
   ]
  },
  {
   "cell_type": "code",
   "execution_count": 72,
   "metadata": {},
   "outputs": [
    {
     "data": {
      "image/png": "[encoded data removed]",
      "text/plain": [
       "<Figure size 432x288 with 1 Axes>"
      ]
     },
     "metadata": {
      "image/png": {
       "height": 262,
       "width": 388
      },
      "needs_background": "light"
     },
     "output_type": "display_data"
    }
   ],
   "source": [
    "# online_boarding 값 분포\n",
    "sns.histplot(x='online_boarding', data=data, hue='satisfaction')\n",
    "plt.show()"
   ]
  },
  {
   "cell_type": "code",
   "execution_count": 73,
   "metadata": {
    "scrolled": true
   },
   "outputs": [
    {
     "data": {
      "image/png": "[encoded data removed]",
      "text/plain": [
       "<Figure size 432x288 with 1 Axes>"
      ]
     },
     "metadata": {
      "image/png": {
       "height": 262,
       "width": 388
      },
      "needs_background": "light"
     },
     "output_type": "display_data"
    }
   ],
   "source": [
    "#inflight_wifi_service 값 분포\n",
    "sns.histplot(x='inflight_wifi_service', data=data,hue='satisfaction')\n",
    "plt.show()"
   ]
  },
  {
   "cell_type": "markdown",
   "metadata": {
    "id": "GB-nfPes_nqa"
   },
   "source": [
    "# 3.데이터 준비\n",
    "\n",
    "\n",
    "- 전처리 과정을 통해 머신러닝 알고리즘에 사용할 수 있는 형태의 데이터를 준비합니다."
   ]
  },
  {
   "cell_type": "markdown",
   "metadata": {
    "id": "kfSNQcZ3YlqA"
   },
   "source": [
    "**1) 불필요한 변수 제거**\n",
    "\n",
    "- 불필요한 변수와 의미가 적어 보이는 다음 변수들을 제거합니다.\n",
    "    - id, departure/arrival_time_convenient, gate_location, departure_delay_in_minutes"
   ]
  },
  {
   "cell_type": "code",
   "execution_count": 13,
   "metadata": {
    "colab": {
     "base_uri": "https://localhost:8080/",
     "height": 305
    },
    "executionInfo": {
     "elapsed": 27,
     "status": "ok",
     "timestamp": 1641524345812,
     "user": {
      "displayName": "Jangrae Lee",
      "photoUrl": "https://lh3.googleusercontent.com/a-/AOh14Gh1Pd8OuWJU2cv7uTt-fURrgvty7atx_Wtarmx0-A=s64",
      "userId": "08475661575434032088"
     },
     "user_tz": -540
    },
    "id": "3EXDugL3YoN-",
    "outputId": "43206261-3f22-4efe-f744-a52f68366ed1"
   },
   "outputs": [
    {
     "data": {
      "text/html": [
       "<div>\n",
       "<style scoped>\n",
       "    .dataframe tbody tr th:only-of-type {\n",
       "        vertical-align: middle;\n",
       "    }\n",
       "\n",
       "    .dataframe tbody tr th {\n",
       "        vertical-align: top;\n",
       "    }\n",
       "\n",
       "    .dataframe thead th {\n",
       "        text-align: right;\n",
       "    }\n",
       "</style>\n",
       "<table border=\"1\" class=\"dataframe\">\n",
       "  <thead>\n",
       "    <tr style=\"text-align: right;\">\n",
       "      <th></th>\n",
       "      <th>gender</th>\n",
       "      <th>customer_type</th>\n",
       "      <th>age</th>\n",
       "      <th>type_of_travel</th>\n",
       "      <th>class</th>\n",
       "      <th>flight_distance</th>\n",
       "      <th>inflight_wifi_service</th>\n",
       "      <th>ease_of_online_booking</th>\n",
       "      <th>food_and_drink</th>\n",
       "      <th>online_boarding</th>\n",
       "      <th>seat_comfort</th>\n",
       "      <th>inflight_entertainment</th>\n",
       "      <th>on-board_service</th>\n",
       "      <th>leg_room_service</th>\n",
       "      <th>baggage_handling</th>\n",
       "      <th>checkin_service</th>\n",
       "      <th>inflight_service</th>\n",
       "      <th>cleanliness</th>\n",
       "      <th>arrival_delay_in_minutes</th>\n",
       "      <th>satisfaction</th>\n",
       "    </tr>\n",
       "  </thead>\n",
       "  <tbody>\n",
       "    <tr>\n",
       "      <th>0</th>\n",
       "      <td>Male</td>\n",
       "      <td>Loyal Customer</td>\n",
       "      <td>13</td>\n",
       "      <td>Personal Travel</td>\n",
       "      <td>Eco Plus</td>\n",
       "      <td>460</td>\n",
       "      <td>3</td>\n",
       "      <td>3</td>\n",
       "      <td>5</td>\n",
       "      <td>3</td>\n",
       "      <td>5</td>\n",
       "      <td>5</td>\n",
       "      <td>4</td>\n",
       "      <td>3</td>\n",
       "      <td>4</td>\n",
       "      <td>4</td>\n",
       "      <td>5</td>\n",
       "      <td>5</td>\n",
       "      <td>18.0</td>\n",
       "      <td>0</td>\n",
       "    </tr>\n",
       "    <tr>\n",
       "      <th>1</th>\n",
       "      <td>Male</td>\n",
       "      <td>disloyal Customer</td>\n",
       "      <td>25</td>\n",
       "      <td>Business travel</td>\n",
       "      <td>Business</td>\n",
       "      <td>235</td>\n",
       "      <td>3</td>\n",
       "      <td>3</td>\n",
       "      <td>1</td>\n",
       "      <td>3</td>\n",
       "      <td>1</td>\n",
       "      <td>1</td>\n",
       "      <td>1</td>\n",
       "      <td>5</td>\n",
       "      <td>3</td>\n",
       "      <td>1</td>\n",
       "      <td>4</td>\n",
       "      <td>1</td>\n",
       "      <td>6.0</td>\n",
       "      <td>0</td>\n",
       "    </tr>\n",
       "    <tr>\n",
       "      <th>2</th>\n",
       "      <td>Female</td>\n",
       "      <td>Loyal Customer</td>\n",
       "      <td>26</td>\n",
       "      <td>Business travel</td>\n",
       "      <td>Business</td>\n",
       "      <td>1142</td>\n",
       "      <td>2</td>\n",
       "      <td>2</td>\n",
       "      <td>5</td>\n",
       "      <td>5</td>\n",
       "      <td>5</td>\n",
       "      <td>5</td>\n",
       "      <td>4</td>\n",
       "      <td>3</td>\n",
       "      <td>4</td>\n",
       "      <td>4</td>\n",
       "      <td>4</td>\n",
       "      <td>5</td>\n",
       "      <td>0.0</td>\n",
       "      <td>1</td>\n",
       "    </tr>\n",
       "    <tr>\n",
       "      <th>3</th>\n",
       "      <td>Female</td>\n",
       "      <td>Loyal Customer</td>\n",
       "      <td>25</td>\n",
       "      <td>Business travel</td>\n",
       "      <td>Business</td>\n",
       "      <td>562</td>\n",
       "      <td>2</td>\n",
       "      <td>5</td>\n",
       "      <td>2</td>\n",
       "      <td>2</td>\n",
       "      <td>2</td>\n",
       "      <td>2</td>\n",
       "      <td>2</td>\n",
       "      <td>5</td>\n",
       "      <td>3</td>\n",
       "      <td>1</td>\n",
       "      <td>4</td>\n",
       "      <td>2</td>\n",
       "      <td>9.0</td>\n",
       "      <td>0</td>\n",
       "    </tr>\n",
       "    <tr>\n",
       "      <th>4</th>\n",
       "      <td>Male</td>\n",
       "      <td>Loyal Customer</td>\n",
       "      <td>61</td>\n",
       "      <td>Business travel</td>\n",
       "      <td>Business</td>\n",
       "      <td>214</td>\n",
       "      <td>3</td>\n",
       "      <td>3</td>\n",
       "      <td>4</td>\n",
       "      <td>5</td>\n",
       "      <td>5</td>\n",
       "      <td>3</td>\n",
       "      <td>3</td>\n",
       "      <td>4</td>\n",
       "      <td>4</td>\n",
       "      <td>3</td>\n",
       "      <td>3</td>\n",
       "      <td>3</td>\n",
       "      <td>0.0</td>\n",
       "      <td>1</td>\n",
       "    </tr>\n",
       "  </tbody>\n",
       "</table>\n",
       "</div>"
      ],
      "text/plain": [
       "   gender      customer_type  age   type_of_travel     class  flight_distance  \\\n",
       "0    Male     Loyal Customer   13  Personal Travel  Eco Plus              460   \n",
       "1    Male  disloyal Customer   25  Business travel  Business              235   \n",
       "2  Female     Loyal Customer   26  Business travel  Business             1142   \n",
       "3  Female     Loyal Customer   25  Business travel  Business              562   \n",
       "4    Male     Loyal Customer   61  Business travel  Business              214   \n",
       "\n",
       "   inflight_wifi_service  ease_of_online_booking  food_and_drink  \\\n",
       "0                      3                       3               5   \n",
       "1                      3                       3               1   \n",
       "2                      2                       2               5   \n",
       "3                      2                       5               2   \n",
       "4                      3                       3               4   \n",
       "\n",
       "   online_boarding  seat_comfort  inflight_entertainment  on-board_service  \\\n",
       "0                3             5                       5                 4   \n",
       "1                3             1                       1                 1   \n",
       "2                5             5                       5                 4   \n",
       "3                2             2                       2                 2   \n",
       "4                5             5                       3                 3   \n",
       "\n",
       "   leg_room_service  baggage_handling  checkin_service  inflight_service  \\\n",
       "0                 3                 4                4                 5   \n",
       "1                 5                 3                1                 4   \n",
       "2                 3                 4                4                 4   \n",
       "3                 5                 3                1                 4   \n",
       "4                 4                 4                3                 3   \n",
       "\n",
       "   cleanliness  arrival_delay_in_minutes  satisfaction  \n",
       "0            5                      18.0             0  \n",
       "1            1                       6.0             0  \n",
       "2            5                       0.0             1  \n",
       "3            2                       9.0             0  \n",
       "4            3                       0.0             1  "
      ]
     },
     "execution_count": 13,
     "metadata": {},
     "output_type": "execute_result"
    }
   ],
   "source": [
    "# id 변수 제거\n",
    "drop_cols = ['id', 'departure/arrival_time_convenient','gate_location','departure_delay_in_minutes']\n",
    "data.drop(drop_cols, axis=1, inplace=True)\n",
    "# 확인\n",
    "data.head()"
   ]
  },
  {
   "cell_type": "markdown",
   "metadata": {
    "id": "frGw2I5fUFgt"
   },
   "source": [
    "**2) 결측치 처리**\n",
    "\n",
    "- arrival_delay_in_minutes 열에 결측지가 있습니다.\n",
    "- 몇 건 안되니 결측치가 있는 행은 제거합니다."
   ]
  },
  {
   "cell_type": "code",
   "execution_count": 14,
   "metadata": {
    "colab": {
     "base_uri": "https://localhost:8080/"
    },
    "executionInfo": {
     "elapsed": 26,
     "status": "ok",
     "timestamp": 1641524345812,
     "user": {
      "displayName": "Jangrae Lee",
      "photoUrl": "https://lh3.googleusercontent.com/a-/AOh14Gh1Pd8OuWJU2cv7uTt-fURrgvty7atx_Wtarmx0-A=s64",
      "userId": "08475661575434032088"
     },
     "user_tz": -540
    },
    "id": "k_LMDUULT0wF",
    "outputId": "9141c165-4c0f-4515-8d12-e7474f120da0"
   },
   "outputs": [
    {
     "data": {
      "text/plain": [
       "gender                      0\n",
       "customer_type               0\n",
       "age                         0\n",
       "type_of_travel              0\n",
       "class                       0\n",
       "flight_distance             0\n",
       "inflight_wifi_service       0\n",
       "ease_of_online_booking      0\n",
       "food_and_drink              0\n",
       "online_boarding             0\n",
       "seat_comfort                0\n",
       "inflight_entertainment      0\n",
       "on-board_service            0\n",
       "leg_room_service            0\n",
       "baggage_handling            0\n",
       "checkin_service             0\n",
       "inflight_service            0\n",
       "cleanliness                 0\n",
       "arrival_delay_in_minutes    0\n",
       "satisfaction                0\n",
       "dtype: int64"
      ]
     },
     "execution_count": 14,
     "metadata": {},
     "output_type": "execute_result"
    }
   ],
   "source": [
    "# 결측치 제거\n",
    "data.dropna(subset=['arrival_delay_in_minutes'], axis=0, inplace=True)\n",
    "\n",
    "# 확인\n",
    "data.isna().sum()"
   ]
  },
  {
   "cell_type": "markdown",
   "metadata": {
    "id": "NcNnoSYwWcpY"
   },
   "source": [
    "**3) 가변수화**\n",
    "\n",
    "- 왜 x의 다음 변수들이 가변수화 대상이 되는지 파악한 후 가변수화를 진행합니다.\n",
    "    - gender, customer_type, type_of_travel, class"
   ]
  },
  {
   "cell_type": "code",
   "execution_count": 15,
   "metadata": {
    "colab": {
     "base_uri": "https://localhost:8080/",
     "height": 287
    },
    "executionInfo": {
     "elapsed": 24,
     "status": "ok",
     "timestamp": 1641524345813,
     "user": {
      "displayName": "Jangrae Lee",
      "photoUrl": "https://lh3.googleusercontent.com/a-/AOh14Gh1Pd8OuWJU2cv7uTt-fURrgvty7atx_Wtarmx0-A=s64",
      "userId": "08475661575434032088"
     },
     "user_tz": -540
    },
    "id": "lFP7yuJqYGqw",
    "outputId": "ed5c6e9c-1244-48d4-f609-50ced97008d0"
   },
   "outputs": [
    {
     "data": {
      "text/html": [
       "<div>\n",
       "<style scoped>\n",
       "    .dataframe tbody tr th:only-of-type {\n",
       "        vertical-align: middle;\n",
       "    }\n",
       "\n",
       "    .dataframe tbody tr th {\n",
       "        vertical-align: top;\n",
       "    }\n",
       "\n",
       "    .dataframe thead th {\n",
       "        text-align: right;\n",
       "    }\n",
       "</style>\n",
       "<table border=\"1\" class=\"dataframe\">\n",
       "  <thead>\n",
       "    <tr style=\"text-align: right;\">\n",
       "      <th></th>\n",
       "      <th>age</th>\n",
       "      <th>flight_distance</th>\n",
       "      <th>inflight_wifi_service</th>\n",
       "      <th>ease_of_online_booking</th>\n",
       "      <th>food_and_drink</th>\n",
       "      <th>online_boarding</th>\n",
       "      <th>seat_comfort</th>\n",
       "      <th>inflight_entertainment</th>\n",
       "      <th>on-board_service</th>\n",
       "      <th>leg_room_service</th>\n",
       "      <th>...</th>\n",
       "      <th>checkin_service</th>\n",
       "      <th>inflight_service</th>\n",
       "      <th>cleanliness</th>\n",
       "      <th>arrival_delay_in_minutes</th>\n",
       "      <th>satisfaction</th>\n",
       "      <th>gender_Male</th>\n",
       "      <th>customer_type_disloyal Customer</th>\n",
       "      <th>type_of_travel_Personal Travel</th>\n",
       "      <th>class_Eco</th>\n",
       "      <th>class_Eco Plus</th>\n",
       "    </tr>\n",
       "  </thead>\n",
       "  <tbody>\n",
       "    <tr>\n",
       "      <th>0</th>\n",
       "      <td>13</td>\n",
       "      <td>460</td>\n",
       "      <td>3</td>\n",
       "      <td>3</td>\n",
       "      <td>5</td>\n",
       "      <td>3</td>\n",
       "      <td>5</td>\n",
       "      <td>5</td>\n",
       "      <td>4</td>\n",
       "      <td>3</td>\n",
       "      <td>...</td>\n",
       "      <td>4</td>\n",
       "      <td>5</td>\n",
       "      <td>5</td>\n",
       "      <td>18.0</td>\n",
       "      <td>0</td>\n",
       "      <td>1</td>\n",
       "      <td>0</td>\n",
       "      <td>1</td>\n",
       "      <td>0</td>\n",
       "      <td>1</td>\n",
       "    </tr>\n",
       "    <tr>\n",
       "      <th>1</th>\n",
       "      <td>25</td>\n",
       "      <td>235</td>\n",
       "      <td>3</td>\n",
       "      <td>3</td>\n",
       "      <td>1</td>\n",
       "      <td>3</td>\n",
       "      <td>1</td>\n",
       "      <td>1</td>\n",
       "      <td>1</td>\n",
       "      <td>5</td>\n",
       "      <td>...</td>\n",
       "      <td>1</td>\n",
       "      <td>4</td>\n",
       "      <td>1</td>\n",
       "      <td>6.0</td>\n",
       "      <td>0</td>\n",
       "      <td>1</td>\n",
       "      <td>1</td>\n",
       "      <td>0</td>\n",
       "      <td>0</td>\n",
       "      <td>0</td>\n",
       "    </tr>\n",
       "    <tr>\n",
       "      <th>2</th>\n",
       "      <td>26</td>\n",
       "      <td>1142</td>\n",
       "      <td>2</td>\n",
       "      <td>2</td>\n",
       "      <td>5</td>\n",
       "      <td>5</td>\n",
       "      <td>5</td>\n",
       "      <td>5</td>\n",
       "      <td>4</td>\n",
       "      <td>3</td>\n",
       "      <td>...</td>\n",
       "      <td>4</td>\n",
       "      <td>4</td>\n",
       "      <td>5</td>\n",
       "      <td>0.0</td>\n",
       "      <td>1</td>\n",
       "      <td>0</td>\n",
       "      <td>0</td>\n",
       "      <td>0</td>\n",
       "      <td>0</td>\n",
       "      <td>0</td>\n",
       "    </tr>\n",
       "    <tr>\n",
       "      <th>3</th>\n",
       "      <td>25</td>\n",
       "      <td>562</td>\n",
       "      <td>2</td>\n",
       "      <td>5</td>\n",
       "      <td>2</td>\n",
       "      <td>2</td>\n",
       "      <td>2</td>\n",
       "      <td>2</td>\n",
       "      <td>2</td>\n",
       "      <td>5</td>\n",
       "      <td>...</td>\n",
       "      <td>1</td>\n",
       "      <td>4</td>\n",
       "      <td>2</td>\n",
       "      <td>9.0</td>\n",
       "      <td>0</td>\n",
       "      <td>0</td>\n",
       "      <td>0</td>\n",
       "      <td>0</td>\n",
       "      <td>0</td>\n",
       "      <td>0</td>\n",
       "    </tr>\n",
       "    <tr>\n",
       "      <th>4</th>\n",
       "      <td>61</td>\n",
       "      <td>214</td>\n",
       "      <td>3</td>\n",
       "      <td>3</td>\n",
       "      <td>4</td>\n",
       "      <td>5</td>\n",
       "      <td>5</td>\n",
       "      <td>3</td>\n",
       "      <td>3</td>\n",
       "      <td>4</td>\n",
       "      <td>...</td>\n",
       "      <td>3</td>\n",
       "      <td>3</td>\n",
       "      <td>3</td>\n",
       "      <td>0.0</td>\n",
       "      <td>1</td>\n",
       "      <td>1</td>\n",
       "      <td>0</td>\n",
       "      <td>0</td>\n",
       "      <td>0</td>\n",
       "      <td>0</td>\n",
       "    </tr>\n",
       "  </tbody>\n",
       "</table>\n",
       "<p>5 rows × 21 columns</p>\n",
       "</div>"
      ],
      "text/plain": [
       "   age  flight_distance  inflight_wifi_service  ease_of_online_booking  \\\n",
       "0   13              460                      3                       3   \n",
       "1   25              235                      3                       3   \n",
       "2   26             1142                      2                       2   \n",
       "3   25              562                      2                       5   \n",
       "4   61              214                      3                       3   \n",
       "\n",
       "   food_and_drink  online_boarding  seat_comfort  inflight_entertainment  \\\n",
       "0               5                3             5                       5   \n",
       "1               1                3             1                       1   \n",
       "2               5                5             5                       5   \n",
       "3               2                2             2                       2   \n",
       "4               4                5             5                       3   \n",
       "\n",
       "   on-board_service  leg_room_service  ...  checkin_service  inflight_service  \\\n",
       "0                 4                 3  ...                4                 5   \n",
       "1                 1                 5  ...                1                 4   \n",
       "2                 4                 3  ...                4                 4   \n",
       "3                 2                 5  ...                1                 4   \n",
       "4                 3                 4  ...                3                 3   \n",
       "\n",
       "   cleanliness  arrival_delay_in_minutes  satisfaction  gender_Male  \\\n",
       "0            5                      18.0             0            1   \n",
       "1            1                       6.0             0            1   \n",
       "2            5                       0.0             1            0   \n",
       "3            2                       9.0             0            0   \n",
       "4            3                       0.0             1            1   \n",
       "\n",
       "   customer_type_disloyal Customer  type_of_travel_Personal Travel  class_Eco  \\\n",
       "0                                0                               1          0   \n",
       "1                                1                               0          0   \n",
       "2                                0                               0          0   \n",
       "3                                0                               0          0   \n",
       "4                                0                               0          0   \n",
       "\n",
       "   class_Eco Plus  \n",
       "0               1  \n",
       "1               0  \n",
       "2               0  \n",
       "3               0  \n",
       "4               0  \n",
       "\n",
       "[5 rows x 21 columns]"
      ]
     },
     "execution_count": 15,
     "metadata": {},
     "output_type": "execute_result"
    }
   ],
   "source": [
    "# 가변수화\n",
    "dummy_vars= ['gender','customer_type', 'type_of_travel','class']\n",
    "data =pd.get_dummies(data, columns=dummy_vars, drop_first=True)\n",
    "\n",
    "# 확인\n",
    "data.head()"
   ]
  },
  {
   "cell_type": "code",
   "execution_count": null,
   "metadata": {},
   "outputs": [],
   "source": []
  },
  {
   "cell_type": "markdown",
   "metadata": {
    "id": "udAt9UG-6kJc"
   },
   "source": [
    "**4) x, y 분리**\n",
    "\n",
    "- satisfaction 변수가 Target입니다.\n",
    "- x, y가 분리된 이후부터 y는 절대로 건드지지 않아야 합니다."
   ]
  },
  {
   "cell_type": "code",
   "execution_count": 16,
   "metadata": {
    "id": "Ops0CDL2dEDe"
   },
   "outputs": [],
   "source": [
    "# target 확인\n",
    "target = 'satisfaction'\n",
    "\n",
    "# 데이터 분리\n",
    "x = data.drop(target, axis=1)\n",
    "y = data.loc[:,target]"
   ]
  },
  {
   "cell_type": "markdown",
   "metadata": {
    "id": "8wihLsL8Akf5"
   },
   "source": [
    "**5) 정규화**\n",
    "\n",
    "- x의 모든 변수를 정규화합니다."
   ]
  },
  {
   "cell_type": "code",
   "execution_count": 26,
   "metadata": {
    "colab": {
     "base_uri": "https://localhost:8080/",
     "height": 287
    },
    "executionInfo": {
     "elapsed": 24,
     "status": "ok",
     "timestamp": 1641524345814,
     "user": {
      "displayName": "Jangrae Lee",
      "photoUrl": "https://lh3.googleusercontent.com/a-/AOh14Gh1Pd8OuWJU2cv7uTt-fURrgvty7atx_Wtarmx0-A=s64",
      "userId": "08475661575434032088"
     },
     "user_tz": -540
    },
    "id": "zsZbrP2nAabd",
    "outputId": "60b3c7c3-0cfb-4538-c5c7-3b904074c141"
   },
   "outputs": [
    {
     "data": {
      "text/html": [
       "<div>\n",
       "<style scoped>\n",
       "    .dataframe tbody tr th:only-of-type {\n",
       "        vertical-align: middle;\n",
       "    }\n",
       "\n",
       "    .dataframe tbody tr th {\n",
       "        vertical-align: top;\n",
       "    }\n",
       "\n",
       "    .dataframe thead th {\n",
       "        text-align: right;\n",
       "    }\n",
       "</style>\n",
       "<table border=\"1\" class=\"dataframe\">\n",
       "  <thead>\n",
       "    <tr style=\"text-align: right;\">\n",
       "      <th></th>\n",
       "      <th>age</th>\n",
       "      <th>flight_distance</th>\n",
       "      <th>inflight_wifi_service</th>\n",
       "      <th>ease_of_online_booking</th>\n",
       "      <th>food_and_drink</th>\n",
       "      <th>online_boarding</th>\n",
       "      <th>seat_comfort</th>\n",
       "      <th>inflight_entertainment</th>\n",
       "      <th>on-board_service</th>\n",
       "      <th>leg_room_service</th>\n",
       "      <th>baggage_handling</th>\n",
       "      <th>checkin_service</th>\n",
       "      <th>inflight_service</th>\n",
       "      <th>cleanliness</th>\n",
       "      <th>arrival_delay_in_minutes</th>\n",
       "      <th>gender_Male</th>\n",
       "      <th>customer_type_disloyal Customer</th>\n",
       "      <th>type_of_travel_Personal Travel</th>\n",
       "      <th>class_Eco</th>\n",
       "      <th>class_Eco Plus</th>\n",
       "    </tr>\n",
       "  </thead>\n",
       "  <tbody>\n",
       "    <tr>\n",
       "      <th>0</th>\n",
       "      <td>0.076923</td>\n",
       "      <td>0.080270</td>\n",
       "      <td>0.6</td>\n",
       "      <td>0.6</td>\n",
       "      <td>1.0</td>\n",
       "      <td>0.6</td>\n",
       "      <td>1.00</td>\n",
       "      <td>1.0</td>\n",
       "      <td>0.8</td>\n",
       "      <td>0.6</td>\n",
       "      <td>0.75</td>\n",
       "      <td>0.75</td>\n",
       "      <td>1.0</td>\n",
       "      <td>1.00</td>\n",
       "      <td>0.038298</td>\n",
       "      <td>1.0</td>\n",
       "      <td>0.0</td>\n",
       "      <td>1.0</td>\n",
       "      <td>0.0</td>\n",
       "      <td>1.0</td>\n",
       "    </tr>\n",
       "    <tr>\n",
       "      <th>1</th>\n",
       "      <td>0.230769</td>\n",
       "      <td>0.034314</td>\n",
       "      <td>0.6</td>\n",
       "      <td>0.6</td>\n",
       "      <td>0.2</td>\n",
       "      <td>0.6</td>\n",
       "      <td>0.00</td>\n",
       "      <td>0.2</td>\n",
       "      <td>0.2</td>\n",
       "      <td>1.0</td>\n",
       "      <td>0.50</td>\n",
       "      <td>0.00</td>\n",
       "      <td>0.8</td>\n",
       "      <td>0.00</td>\n",
       "      <td>0.012766</td>\n",
       "      <td>1.0</td>\n",
       "      <td>1.0</td>\n",
       "      <td>0.0</td>\n",
       "      <td>0.0</td>\n",
       "      <td>0.0</td>\n",
       "    </tr>\n",
       "    <tr>\n",
       "      <th>2</th>\n",
       "      <td>0.243590</td>\n",
       "      <td>0.219567</td>\n",
       "      <td>0.4</td>\n",
       "      <td>0.4</td>\n",
       "      <td>1.0</td>\n",
       "      <td>1.0</td>\n",
       "      <td>1.00</td>\n",
       "      <td>1.0</td>\n",
       "      <td>0.8</td>\n",
       "      <td>0.6</td>\n",
       "      <td>0.75</td>\n",
       "      <td>0.75</td>\n",
       "      <td>0.8</td>\n",
       "      <td>1.00</td>\n",
       "      <td>0.000000</td>\n",
       "      <td>0.0</td>\n",
       "      <td>0.0</td>\n",
       "      <td>0.0</td>\n",
       "      <td>0.0</td>\n",
       "      <td>0.0</td>\n",
       "    </tr>\n",
       "    <tr>\n",
       "      <th>3</th>\n",
       "      <td>0.230769</td>\n",
       "      <td>0.101103</td>\n",
       "      <td>0.4</td>\n",
       "      <td>1.0</td>\n",
       "      <td>0.4</td>\n",
       "      <td>0.4</td>\n",
       "      <td>0.25</td>\n",
       "      <td>0.4</td>\n",
       "      <td>0.4</td>\n",
       "      <td>1.0</td>\n",
       "      <td>0.50</td>\n",
       "      <td>0.00</td>\n",
       "      <td>0.8</td>\n",
       "      <td>0.25</td>\n",
       "      <td>0.019149</td>\n",
       "      <td>0.0</td>\n",
       "      <td>0.0</td>\n",
       "      <td>0.0</td>\n",
       "      <td>0.0</td>\n",
       "      <td>0.0</td>\n",
       "    </tr>\n",
       "    <tr>\n",
       "      <th>4</th>\n",
       "      <td>0.692308</td>\n",
       "      <td>0.030025</td>\n",
       "      <td>0.6</td>\n",
       "      <td>0.6</td>\n",
       "      <td>0.8</td>\n",
       "      <td>1.0</td>\n",
       "      <td>1.00</td>\n",
       "      <td>0.6</td>\n",
       "      <td>0.6</td>\n",
       "      <td>0.8</td>\n",
       "      <td>0.75</td>\n",
       "      <td>0.50</td>\n",
       "      <td>0.6</td>\n",
       "      <td>0.50</td>\n",
       "      <td>0.000000</td>\n",
       "      <td>1.0</td>\n",
       "      <td>0.0</td>\n",
       "      <td>0.0</td>\n",
       "      <td>0.0</td>\n",
       "      <td>0.0</td>\n",
       "    </tr>\n",
       "  </tbody>\n",
       "</table>\n",
       "</div>"
      ],
      "text/plain": [
       "        age  flight_distance  inflight_wifi_service  ease_of_online_booking  \\\n",
       "0  0.076923         0.080270                    0.6                     0.6   \n",
       "1  0.230769         0.034314                    0.6                     0.6   \n",
       "2  0.243590         0.219567                    0.4                     0.4   \n",
       "3  0.230769         0.101103                    0.4                     1.0   \n",
       "4  0.692308         0.030025                    0.6                     0.6   \n",
       "\n",
       "   food_and_drink  online_boarding  seat_comfort  inflight_entertainment  \\\n",
       "0             1.0              0.6          1.00                     1.0   \n",
       "1             0.2              0.6          0.00                     0.2   \n",
       "2             1.0              1.0          1.00                     1.0   \n",
       "3             0.4              0.4          0.25                     0.4   \n",
       "4             0.8              1.0          1.00                     0.6   \n",
       "\n",
       "   on-board_service  leg_room_service  baggage_handling  checkin_service  \\\n",
       "0               0.8               0.6              0.75             0.75   \n",
       "1               0.2               1.0              0.50             0.00   \n",
       "2               0.8               0.6              0.75             0.75   \n",
       "3               0.4               1.0              0.50             0.00   \n",
       "4               0.6               0.8              0.75             0.50   \n",
       "\n",
       "   inflight_service  cleanliness  arrival_delay_in_minutes  gender_Male  \\\n",
       "0               1.0         1.00                  0.038298          1.0   \n",
       "1               0.8         0.00                  0.012766          1.0   \n",
       "2               0.8         1.00                  0.000000          0.0   \n",
       "3               0.8         0.25                  0.019149          0.0   \n",
       "4               0.6         0.50                  0.000000          1.0   \n",
       "\n",
       "   customer_type_disloyal Customer  type_of_travel_Personal Travel  class_Eco  \\\n",
       "0                              0.0                             1.0        0.0   \n",
       "1                              1.0                             0.0        0.0   \n",
       "2                              0.0                             0.0        0.0   \n",
       "3                              0.0                             0.0        0.0   \n",
       "4                              0.0                             0.0        0.0   \n",
       "\n",
       "   class_Eco Plus  \n",
       "0             1.0  \n",
       "1             0.0  \n",
       "2             0.0  \n",
       "3             0.0  \n",
       "4             0.0  "
      ]
     },
     "execution_count": 26,
     "metadata": {},
     "output_type": "execute_result"
    }
   ],
   "source": [
    "# 정규화\n",
    "x = (x - x.min()) / (x.max() - x.min())\n",
    "\n",
    "# 확인\n",
    "x.head()"
   ]
  },
  {
   "cell_type": "markdown",
   "metadata": {
    "id": "anVdtyyB6oqT"
   },
   "source": [
    "**5) 학습용, 평가용 데이터 분리**\n",
    "\n",
    "- 학습용, 평가용 데이터를 7:3으로 분리합니다.\n",
    "- random_state 옵션 값은 2022를 지정합니다."
   ]
  },
  {
   "cell_type": "code",
   "execution_count": 27,
   "metadata": {
    "id": "uHnuBUJu8uwz"
   },
   "outputs": [],
   "source": [
    "# 모듈 불러오기\n",
    "from sklearn.model_selection import train_test_split\n",
    "\n",
    "# 7:3으로 분리\n",
    "x_train, x_test, y_train, y_test = train_test_split(x, y, test_size=0.3, random_state=2022)"
   ]
  },
  {
   "cell_type": "markdown",
   "metadata": {
    "id": "BYr1vtpd8uw4"
   },
   "source": [
    "# 4.모델링\n",
    "\n",
    "- 본격적으로 모델을 선언하고 학습하고 평가하는 과정을 진행합니다.\n",
    "- 다양한 알고리즘으로 모델을 만들고 각각의 성능을 확인합니다.\n",
    "- 성능 평가는 confusion_matrix, classification_report를 사용합니다.\n",
    "- 각 알고리즘별로 요구되는 내용을 숙지하면서 모델링을 진행합니다."
   ]
  },
  {
   "cell_type": "markdown",
   "metadata": {
    "id": "9pqwajKFyK4F"
   },
   "source": [
    "## 4.1.KNN"
   ]
  },
  {
   "cell_type": "markdown",
   "metadata": {},
   "source": [
    "### 4.1.1. 모델링\n",
    "\n",
    "- KNN 알고리즘으로 모델링하고 성능을 확인합니다."
   ]
  },
  {
   "cell_type": "code",
   "execution_count": 28,
   "metadata": {
    "id": "iH5qR_yCyK4G"
   },
   "outputs": [],
   "source": [
    "# 1단계: 불러오기\n",
    "from sklearn.neighbors import KNeighborsClassifier\n",
    "from sklearn.metrics import confusion_matrix, classification_report"
   ]
  },
  {
   "cell_type": "code",
   "execution_count": 29,
   "metadata": {
    "id": "TFoK2E6_yK4G"
   },
   "outputs": [],
   "source": [
    "# 2단계: 선언하기\n",
    "model = KNeighborsClassifier()"
   ]
  },
  {
   "cell_type": "code",
   "execution_count": 30,
   "metadata": {
    "colab": {
     "base_uri": "https://localhost:8080/"
    },
    "executionInfo": {
     "elapsed": 23,
     "status": "ok",
     "timestamp": 1641524345815,
     "user": {
      "displayName": "Jangrae Lee",
      "photoUrl": "https://lh3.googleusercontent.com/a-/AOh14Gh1Pd8OuWJU2cv7uTt-fURrgvty7atx_Wtarmx0-A=s64",
      "userId": "08475661575434032088"
     },
     "user_tz": -540
    },
    "id": "ziotuce6yK4G",
    "outputId": "05926f6f-edac-459b-ee63-244626d69619"
   },
   "outputs": [
    {
     "data": {
      "text/plain": [
       "KNeighborsClassifier()"
      ]
     },
     "execution_count": 30,
     "metadata": {},
     "output_type": "execute_result"
    }
   ],
   "source": [
    "# 3단계: 학습하기\n",
    "model.fit(x_train, y_train)"
   ]
  },
  {
   "cell_type": "code",
   "execution_count": 31,
   "metadata": {
    "id": "J-zashLGyK4H"
   },
   "outputs": [],
   "source": [
    "# 4단계: 예측하기\n",
    "y_pred = model.predict(x_test)"
   ]
  },
  {
   "cell_type": "code",
   "execution_count": 32,
   "metadata": {
    "colab": {
     "base_uri": "https://localhost:8080/"
    },
    "executionInfo": {
     "elapsed": 21,
     "status": "ok",
     "timestamp": 1641524345816,
     "user": {
      "displayName": "Jangrae Lee",
      "photoUrl": "https://lh3.googleusercontent.com/a-/AOh14Gh1Pd8OuWJU2cv7uTt-fURrgvty7atx_Wtarmx0-A=s64",
      "userId": "08475661575434032088"
     },
     "user_tz": -540
    },
    "id": "2KMvCx_-yK4H",
    "outputId": "d6f6153e-c931-4aba-ba6a-204b86b76268"
   },
   "outputs": [
    {
     "name": "stdout",
     "output_type": "stream",
     "text": [
      "[[424  19]\n",
      " [ 58 272]]\n",
      "              precision    recall  f1-score   support\n",
      "\n",
      "           0       0.88      0.96      0.92       443\n",
      "           1       0.93      0.82      0.88       330\n",
      "\n",
      "    accuracy                           0.90       773\n",
      "   macro avg       0.91      0.89      0.90       773\n",
      "weighted avg       0.90      0.90      0.90       773\n",
      "\n"
     ]
    }
   ],
   "source": [
    "# 5단계: 평가하기\n",
    "print(confusion_matrix(y_test, y_pred))\n",
    "print(classification_report(y_test, y_pred))"
   ]
  },
  {
   "cell_type": "markdown",
   "metadata": {
    "id": "yqcsTGcnXqHD"
   },
   "source": [
    "### 4.1.2. 성능 정보 수집\n",
    "\n",
    "- 모델 각각의 성능을 모아 마지막에 비교하기 위해 아래 구문을 수행해 성능 정보를 score 변수에 저장합니다."
   ]
  },
  {
   "cell_type": "code",
   "execution_count": 33,
   "metadata": {
    "id": "e7c-8Zlv6yJJ"
   },
   "outputs": [],
   "source": [
    "# 성능 정보 수집\n",
    "from sklearn.metrics import accuracy_score\n",
    "\n",
    "score={}\n",
    "score['KNN'] = accuracy_score(y_test, y_pred)"
   ]
  },
  {
   "cell_type": "markdown",
   "metadata": {
    "id": "_2Dzy1phyWRM"
   },
   "source": [
    "## 4.2.Decision Tree"
   ]
  },
  {
   "cell_type": "markdown",
   "metadata": {},
   "source": [
    "### 4.2.1.모델링\n",
    "\n",
    "- Decision Tree 알고리즘으로 모델링하고 성능을 확인합니다.\n",
    "- 모델 선언시 random_state=2022을 지정합니다."
   ]
  },
  {
   "cell_type": "code",
   "execution_count": 91,
   "metadata": {
    "id": "NRR-lQ0VyWRM"
   },
   "outputs": [],
   "source": [
    "# 1단계: 불러오기\n",
    "from sklearn.tree import DecisionTreeClassifier\n"
   ]
  },
  {
   "cell_type": "code",
   "execution_count": 92,
   "metadata": {
    "id": "kj56s_qMyWRM"
   },
   "outputs": [],
   "source": [
    "# 2단계: 선언하기\n",
    "model = DecisionTreeClassifier(random_state=2022)"
   ]
  },
  {
   "cell_type": "code",
   "execution_count": 93,
   "metadata": {
    "colab": {
     "base_uri": "https://localhost:8080/"
    },
    "executionInfo": {
     "elapsed": 20,
     "status": "ok",
     "timestamp": 1641524345817,
     "user": {
      "displayName": "Jangrae Lee",
      "photoUrl": "https://lh3.googleusercontent.com/a-/AOh14Gh1Pd8OuWJU2cv7uTt-fURrgvty7atx_Wtarmx0-A=s64",
      "userId": "08475661575434032088"
     },
     "user_tz": -540
    },
    "id": "JMHg2qnhyWRN",
    "outputId": "0f158cf8-680e-444b-ac17-b3a999698511"
   },
   "outputs": [
    {
     "data": {
      "text/plain": [
       "DecisionTreeClassifier(random_state=2022)"
      ]
     },
     "execution_count": 93,
     "metadata": {},
     "output_type": "execute_result"
    }
   ],
   "source": [
    "# 3단계: 학습하기\n",
    "model.fit(x_train, y_train)"
   ]
  },
  {
   "cell_type": "code",
   "execution_count": 94,
   "metadata": {
    "id": "fPYzsNnLyWRN"
   },
   "outputs": [],
   "source": [
    "# 4단계: 예측하기\n",
    "y_pred = model.predict(x_test)"
   ]
  },
  {
   "cell_type": "code",
   "execution_count": 96,
   "metadata": {
    "colab": {
     "base_uri": "https://localhost:8080/"
    },
    "executionInfo": {
     "elapsed": 19,
     "status": "ok",
     "timestamp": 1641524345818,
     "user": {
      "displayName": "Jangrae Lee",
      "photoUrl": "https://lh3.googleusercontent.com/a-/AOh14Gh1Pd8OuWJU2cv7uTt-fURrgvty7atx_Wtarmx0-A=s64",
      "userId": "08475661575434032088"
     },
     "user_tz": -540
    },
    "id": "WS1TOeloyWRN",
    "outputId": "ffc1feba-3e53-41f1-c486-1c7cbd3eed76"
   },
   "outputs": [
    {
     "name": "stdout",
     "output_type": "stream",
     "text": [
      "[[397  46]\n",
      " [ 41 289]]\n",
      "              precision    recall  f1-score   support\n",
      "\n",
      "           0       0.91      0.90      0.90       443\n",
      "           1       0.86      0.88      0.87       330\n",
      "\n",
      "    accuracy                           0.89       773\n",
      "   macro avg       0.88      0.89      0.89       773\n",
      "weighted avg       0.89      0.89      0.89       773\n",
      "\n",
      "accuracy_score: 0.88745148771022\n"
     ]
    }
   ],
   "source": [
    "# 5단계: 평가하기\n",
    "print(confusion_matrix(y_test, y_pred))\n",
    "print(classification_report(y_test, y_pred))\n",
    "\n",
    "from sklearn.metrics import accuracy_score\n",
    "print('accuracy_score:',accuracy_score(y_test,y_pred))"
   ]
  },
  {
   "cell_type": "markdown",
   "metadata": {},
   "source": [
    "### 4.2.2.변수 중요도 확인\n",
    "\n",
    "- 모델의 feature_importances_ 속성으로 변수들(Features) 중요도를 확인합니다."
   ]
  },
  {
   "cell_type": "code",
   "execution_count": 40,
   "metadata": {},
   "outputs": [
    {
     "data": {
      "text/html": [
       "<div>\n",
       "<style scoped>\n",
       "    .dataframe tbody tr th:only-of-type {\n",
       "        vertical-align: middle;\n",
       "    }\n",
       "\n",
       "    .dataframe tbody tr th {\n",
       "        vertical-align: top;\n",
       "    }\n",
       "\n",
       "    .dataframe thead th {\n",
       "        text-align: right;\n",
       "    }\n",
       "</style>\n",
       "<table border=\"1\" class=\"dataframe\">\n",
       "  <thead>\n",
       "    <tr style=\"text-align: right;\">\n",
       "      <th></th>\n",
       "      <th>feature</th>\n",
       "      <th>importance</th>\n",
       "    </tr>\n",
       "  </thead>\n",
       "  <tbody>\n",
       "    <tr>\n",
       "      <th>15</th>\n",
       "      <td>gender_Male</td>\n",
       "      <td>0.000000</td>\n",
       "    </tr>\n",
       "    <tr>\n",
       "      <th>19</th>\n",
       "      <td>class_Eco Plus</td>\n",
       "      <td>0.003063</td>\n",
       "    </tr>\n",
       "    <tr>\n",
       "      <th>3</th>\n",
       "      <td>ease_of_online_booking</td>\n",
       "      <td>0.003527</td>\n",
       "    </tr>\n",
       "    <tr>\n",
       "      <th>18</th>\n",
       "      <td>class_Eco</td>\n",
       "      <td>0.006350</td>\n",
       "    </tr>\n",
       "    <tr>\n",
       "      <th>9</th>\n",
       "      <td>leg_room_service</td>\n",
       "      <td>0.007569</td>\n",
       "    </tr>\n",
       "    <tr>\n",
       "      <th>4</th>\n",
       "      <td>food_and_drink</td>\n",
       "      <td>0.008353</td>\n",
       "    </tr>\n",
       "    <tr>\n",
       "      <th>12</th>\n",
       "      <td>inflight_service</td>\n",
       "      <td>0.009321</td>\n",
       "    </tr>\n",
       "    <tr>\n",
       "      <th>10</th>\n",
       "      <td>baggage_handling</td>\n",
       "      <td>0.009766</td>\n",
       "    </tr>\n",
       "    <tr>\n",
       "      <th>8</th>\n",
       "      <td>on-board_service</td>\n",
       "      <td>0.013730</td>\n",
       "    </tr>\n",
       "    <tr>\n",
       "      <th>6</th>\n",
       "      <td>seat_comfort</td>\n",
       "      <td>0.014099</td>\n",
       "    </tr>\n",
       "    <tr>\n",
       "      <th>14</th>\n",
       "      <td>arrival_delay_in_minutes</td>\n",
       "      <td>0.015474</td>\n",
       "    </tr>\n",
       "    <tr>\n",
       "      <th>13</th>\n",
       "      <td>cleanliness</td>\n",
       "      <td>0.022067</td>\n",
       "    </tr>\n",
       "    <tr>\n",
       "      <th>11</th>\n",
       "      <td>checkin_service</td>\n",
       "      <td>0.029997</td>\n",
       "    </tr>\n",
       "    <tr>\n",
       "      <th>16</th>\n",
       "      <td>customer_type_disloyal Customer</td>\n",
       "      <td>0.038049</td>\n",
       "    </tr>\n",
       "    <tr>\n",
       "      <th>0</th>\n",
       "      <td>age</td>\n",
       "      <td>0.040531</td>\n",
       "    </tr>\n",
       "    <tr>\n",
       "      <th>1</th>\n",
       "      <td>flight_distance</td>\n",
       "      <td>0.047179</td>\n",
       "    </tr>\n",
       "    <tr>\n",
       "      <th>7</th>\n",
       "      <td>inflight_entertainment</td>\n",
       "      <td>0.079170</td>\n",
       "    </tr>\n",
       "    <tr>\n",
       "      <th>2</th>\n",
       "      <td>inflight_wifi_service</td>\n",
       "      <td>0.149925</td>\n",
       "    </tr>\n",
       "    <tr>\n",
       "      <th>17</th>\n",
       "      <td>type_of_travel_Personal Travel</td>\n",
       "      <td>0.160791</td>\n",
       "    </tr>\n",
       "    <tr>\n",
       "      <th>5</th>\n",
       "      <td>online_boarding</td>\n",
       "      <td>0.341038</td>\n",
       "    </tr>\n",
       "  </tbody>\n",
       "</table>\n",
       "</div>"
      ],
      "text/plain": [
       "                            feature  importance\n",
       "15                      gender_Male    0.000000\n",
       "19                   class_Eco Plus    0.003063\n",
       "3            ease_of_online_booking    0.003527\n",
       "18                        class_Eco    0.006350\n",
       "9                  leg_room_service    0.007569\n",
       "4                    food_and_drink    0.008353\n",
       "12                 inflight_service    0.009321\n",
       "10                 baggage_handling    0.009766\n",
       "8                  on-board_service    0.013730\n",
       "6                      seat_comfort    0.014099\n",
       "14         arrival_delay_in_minutes    0.015474\n",
       "13                      cleanliness    0.022067\n",
       "11                  checkin_service    0.029997\n",
       "16  customer_type_disloyal Customer    0.038049\n",
       "0                               age    0.040531\n",
       "1                   flight_distance    0.047179\n",
       "7            inflight_entertainment    0.079170\n",
       "2             inflight_wifi_service    0.149925\n",
       "17   type_of_travel_Personal Travel    0.160791\n",
       "5                   online_boarding    0.341038"
      ]
     },
     "execution_count": 40,
     "metadata": {},
     "output_type": "execute_result"
    }
   ],
   "source": [
    "# 중요도 확인\n",
    "scores = pd.DataFrame()\n",
    "scores['feature'] = list(x)\n",
    "scores['importance'] = model.feature_importances_\n",
    "scores.sort_values(by='importance', ascending=True, inplace=True)\n",
    "scores"
   ]
  },
  {
   "cell_type": "markdown",
   "metadata": {},
   "source": [
    "- 변수 중요도를 가로막대 그래프로 시각화해 확인합니다."
   ]
  },
  {
   "cell_type": "code",
   "execution_count": 41,
   "metadata": {},
   "outputs": [
    {
     "data": {
      "image/png": "[encoded data removed]",
      "text/plain": [
       "<Figure size 432x288 with 1 Axes>"
      ]
     },
     "metadata": {
      "image/png": {
       "height": 248,
       "width": 529
      },
      "needs_background": "light"
     },
     "output_type": "display_data"
    }
   ],
   "source": [
    "# 중요도 시각화\n",
    "plt.barh(list(x), model.feature_importances_)\n",
    "plt.show()"
   ]
  },
  {
   "cell_type": "markdown",
   "metadata": {},
   "source": [
    "- 온라인보딩 만족도가 가장 중요한 변수로 나타났다.\n",
    "- 다음으로 와이파이서비스와 비행목적 순으로 중요변수가 나타난다."
   ]
  },
  {
   "cell_type": "markdown",
   "metadata": {},
   "source": [
    "### 4.2.3.성능 정보 수집\n",
    "\n",
    "- 아래 구문을 수행해 성능 정보를 수집합니다."
   ]
  },
  {
   "cell_type": "code",
   "execution_count": 42,
   "metadata": {
    "id": "lhFA3-Oc61aB"
   },
   "outputs": [],
   "source": [
    "# 성능 정보 수집\n",
    "score['Decision Tree'] = accuracy_score(y_test, y_pred)"
   ]
  },
  {
   "cell_type": "markdown",
   "metadata": {
    "id": "b0crO5W_ygXk"
   },
   "source": [
    "## 4.3.Random Forest"
   ]
  },
  {
   "cell_type": "markdown",
   "metadata": {},
   "source": [
    "### 4.3.1.모델링\n",
    "\n",
    "- Random Forest 알고리즘으로 모델링하고 성능을 확인합니다.\n",
    "- 모델 선언시 random_state=2022을 지정합니다."
   ]
  },
  {
   "cell_type": "code",
   "execution_count": 43,
   "metadata": {
    "id": "rDIWKc6-ygXk"
   },
   "outputs": [],
   "source": [
    "# 1단계: 불러오기\n",
    "from sklearn.ensemble import RandomForestClassifier"
   ]
  },
  {
   "cell_type": "code",
   "execution_count": 44,
   "metadata": {
    "id": "xZg_rN23ygXk"
   },
   "outputs": [],
   "source": [
    "# 2단계: 선언하기\n",
    "model = RandomForestClassifier(random_state=2022)"
   ]
  },
  {
   "cell_type": "code",
   "execution_count": 45,
   "metadata": {
    "colab": {
     "base_uri": "https://localhost:8080/"
    },
    "executionInfo": {
     "elapsed": 446,
     "status": "ok",
     "timestamp": 1641524346570,
     "user": {
      "displayName": "Jangrae Lee",
      "photoUrl": "https://lh3.googleusercontent.com/a-/AOh14Gh1Pd8OuWJU2cv7uTt-fURrgvty7atx_Wtarmx0-A=s64",
      "userId": "08475661575434032088"
     },
     "user_tz": -540
    },
    "id": "_8Z1CkvgygXl",
    "outputId": "d43d17f1-9137-48a2-f857-0b0f353ebb82"
   },
   "outputs": [
    {
     "data": {
      "text/plain": [
       "RandomForestClassifier(random_state=2022)"
      ]
     },
     "execution_count": 45,
     "metadata": {},
     "output_type": "execute_result"
    }
   ],
   "source": [
    "# 3단계: 학습하기\n",
    "model.fit(x_train, y_train)"
   ]
  },
  {
   "cell_type": "code",
   "execution_count": 46,
   "metadata": {
    "id": "rG41sshDygXl"
   },
   "outputs": [],
   "source": [
    "# 4단계: 예측하기\n",
    "y_pred = model.predict(x_test)"
   ]
  },
  {
   "cell_type": "code",
   "execution_count": 47,
   "metadata": {
    "colab": {
     "base_uri": "https://localhost:8080/"
    },
    "executionInfo": {
     "elapsed": 8,
     "status": "ok",
     "timestamp": 1641524346571,
     "user": {
      "displayName": "Jangrae Lee",
      "photoUrl": "https://lh3.googleusercontent.com/a-/AOh14Gh1Pd8OuWJU2cv7uTt-fURrgvty7atx_Wtarmx0-A=s64",
      "userId": "08475661575434032088"
     },
     "user_tz": -540
    },
    "id": "3O55TujCygXl",
    "outputId": "205a005c-2a85-424a-cb5b-f9dd82059594",
    "scrolled": true
   },
   "outputs": [
    {
     "name": "stdout",
     "output_type": "stream",
     "text": [
      "[[419  24]\n",
      " [ 34 296]]\n",
      "              precision    recall  f1-score   support\n",
      "\n",
      "           0       0.92      0.95      0.94       443\n",
      "           1       0.93      0.90      0.91       330\n",
      "\n",
      "    accuracy                           0.92       773\n",
      "   macro avg       0.92      0.92      0.92       773\n",
      "weighted avg       0.92      0.92      0.92       773\n",
      "\n"
     ]
    }
   ],
   "source": [
    "# 5단계: 평가하기\n",
    "print(confusion_matrix(y_test, y_pred))\n",
    "print(classification_report(y_test, y_pred))"
   ]
  },
  {
   "cell_type": "markdown",
   "metadata": {},
   "source": [
    "### 4.3.2.변수 중요도 확인\n",
    "\n",
    "- 모델의 feature_importances_ 속성으로 변수들(Features) 중요도를 확인합니다."
   ]
  },
  {
   "cell_type": "code",
   "execution_count": 48,
   "metadata": {},
   "outputs": [
    {
     "data": {
      "text/html": [
       "<div>\n",
       "<style scoped>\n",
       "    .dataframe tbody tr th:only-of-type {\n",
       "        vertical-align: middle;\n",
       "    }\n",
       "\n",
       "    .dataframe tbody tr th {\n",
       "        vertical-align: top;\n",
       "    }\n",
       "\n",
       "    .dataframe thead th {\n",
       "        text-align: right;\n",
       "    }\n",
       "</style>\n",
       "<table border=\"1\" class=\"dataframe\">\n",
       "  <thead>\n",
       "    <tr style=\"text-align: right;\">\n",
       "      <th></th>\n",
       "      <th>feature</th>\n",
       "      <th>importance</th>\n",
       "    </tr>\n",
       "  </thead>\n",
       "  <tbody>\n",
       "    <tr>\n",
       "      <th>19</th>\n",
       "      <td>class_Eco Plus</td>\n",
       "      <td>0.006340</td>\n",
       "    </tr>\n",
       "    <tr>\n",
       "      <th>15</th>\n",
       "      <td>gender_Male</td>\n",
       "      <td>0.007738</td>\n",
       "    </tr>\n",
       "    <tr>\n",
       "      <th>4</th>\n",
       "      <td>food_and_drink</td>\n",
       "      <td>0.016774</td>\n",
       "    </tr>\n",
       "    <tr>\n",
       "      <th>12</th>\n",
       "      <td>inflight_service</td>\n",
       "      <td>0.020835</td>\n",
       "    </tr>\n",
       "    <tr>\n",
       "      <th>14</th>\n",
       "      <td>arrival_delay_in_minutes</td>\n",
       "      <td>0.023685</td>\n",
       "    </tr>\n",
       "    <tr>\n",
       "      <th>10</th>\n",
       "      <td>baggage_handling</td>\n",
       "      <td>0.024809</td>\n",
       "    </tr>\n",
       "    <tr>\n",
       "      <th>11</th>\n",
       "      <td>checkin_service</td>\n",
       "      <td>0.026318</td>\n",
       "    </tr>\n",
       "    <tr>\n",
       "      <th>8</th>\n",
       "      <td>on-board_service</td>\n",
       "      <td>0.032703</td>\n",
       "    </tr>\n",
       "    <tr>\n",
       "      <th>13</th>\n",
       "      <td>cleanliness</td>\n",
       "      <td>0.033482</td>\n",
       "    </tr>\n",
       "    <tr>\n",
       "      <th>16</th>\n",
       "      <td>customer_type_disloyal Customer</td>\n",
       "      <td>0.035972</td>\n",
       "    </tr>\n",
       "    <tr>\n",
       "      <th>9</th>\n",
       "      <td>leg_room_service</td>\n",
       "      <td>0.040723</td>\n",
       "    </tr>\n",
       "    <tr>\n",
       "      <th>3</th>\n",
       "      <td>ease_of_online_booking</td>\n",
       "      <td>0.042617</td>\n",
       "    </tr>\n",
       "    <tr>\n",
       "      <th>0</th>\n",
       "      <td>age</td>\n",
       "      <td>0.047807</td>\n",
       "    </tr>\n",
       "    <tr>\n",
       "      <th>6</th>\n",
       "      <td>seat_comfort</td>\n",
       "      <td>0.051204</td>\n",
       "    </tr>\n",
       "    <tr>\n",
       "      <th>1</th>\n",
       "      <td>flight_distance</td>\n",
       "      <td>0.057130</td>\n",
       "    </tr>\n",
       "    <tr>\n",
       "      <th>7</th>\n",
       "      <td>inflight_entertainment</td>\n",
       "      <td>0.065574</td>\n",
       "    </tr>\n",
       "    <tr>\n",
       "      <th>18</th>\n",
       "      <td>class_Eco</td>\n",
       "      <td>0.083038</td>\n",
       "    </tr>\n",
       "    <tr>\n",
       "      <th>2</th>\n",
       "      <td>inflight_wifi_service</td>\n",
       "      <td>0.116050</td>\n",
       "    </tr>\n",
       "    <tr>\n",
       "      <th>17</th>\n",
       "      <td>type_of_travel_Personal Travel</td>\n",
       "      <td>0.122772</td>\n",
       "    </tr>\n",
       "    <tr>\n",
       "      <th>5</th>\n",
       "      <td>online_boarding</td>\n",
       "      <td>0.144431</td>\n",
       "    </tr>\n",
       "  </tbody>\n",
       "</table>\n",
       "</div>"
      ],
      "text/plain": [
       "                            feature  importance\n",
       "19                   class_Eco Plus    0.006340\n",
       "15                      gender_Male    0.007738\n",
       "4                    food_and_drink    0.016774\n",
       "12                 inflight_service    0.020835\n",
       "14         arrival_delay_in_minutes    0.023685\n",
       "10                 baggage_handling    0.024809\n",
       "11                  checkin_service    0.026318\n",
       "8                  on-board_service    0.032703\n",
       "13                      cleanliness    0.033482\n",
       "16  customer_type_disloyal Customer    0.035972\n",
       "9                  leg_room_service    0.040723\n",
       "3            ease_of_online_booking    0.042617\n",
       "0                               age    0.047807\n",
       "6                      seat_comfort    0.051204\n",
       "1                   flight_distance    0.057130\n",
       "7            inflight_entertainment    0.065574\n",
       "18                        class_Eco    0.083038\n",
       "2             inflight_wifi_service    0.116050\n",
       "17   type_of_travel_Personal Travel    0.122772\n",
       "5                   online_boarding    0.144431"
      ]
     },
     "execution_count": 48,
     "metadata": {},
     "output_type": "execute_result"
    }
   ],
   "source": [
    "# 중요도 확인\n",
    "scores = pd.DataFrame()\n",
    "scores['feature'] = list(x)\n",
    "scores['importance'] = model.feature_importances_\n",
    "scores.sort_values(by='importance', ascending=True, inplace=True)\n",
    "scores"
   ]
  },
  {
   "cell_type": "markdown",
   "metadata": {},
   "source": [
    "- 변수 중요도를 가로막대 그래프로 시각화해 확인합니다."
   ]
  },
  {
   "cell_type": "code",
   "execution_count": 49,
   "metadata": {},
   "outputs": [
    {
     "data": {
      "image/png": "[encoded data removed]",
      "text/plain": [
       "<Figure size 432x288 with 1 Axes>"
      ]
     },
     "metadata": {
      "image/png": {
       "height": 248,
       "width": 526
      },
      "needs_background": "light"
     },
     "output_type": "display_data"
    }
   ],
   "source": [
    "# 중요도 시각화\n",
    "plt.barh(list(x), model.feature_importances_)\n",
    "plt.show()"
   ]
  },
  {
   "cell_type": "markdown",
   "metadata": {},
   "source": [
    "- 온라인 보딩 만족도가 가장 높게 나타난다.\n",
    "- 여행목적, 와이파이서비스도 중요도가 높게 나타났지만, class의 중요도도 높게 나타났다."
   ]
  },
  {
   "cell_type": "markdown",
   "metadata": {},
   "source": [
    "### 4.3.3.성능 정보 수집\n",
    "\n",
    "- 아래 구문을 수행해 성능 정보를 수집합니다."
   ]
  },
  {
   "cell_type": "code",
   "execution_count": 50,
   "metadata": {
    "id": "yt43Lb1665SL"
   },
   "outputs": [],
   "source": [
    "# 성능 정보 수집\n",
    "score['Random Forest'] = accuracy_score(y_test, y_pred)"
   ]
  },
  {
   "cell_type": "markdown",
   "metadata": {
    "id": "OfBvePtkys70"
   },
   "source": [
    "## 4.4.XGBoost"
   ]
  },
  {
   "cell_type": "markdown",
   "metadata": {},
   "source": [
    "### 4.4.1.모델링\n",
    "\n",
    "- XGBoost 알고리즘으로 모델링하고 성능을 확인합니다.\n",
    "- 모델 선언시 random_state=2022를 지정합니다."
   ]
  },
  {
   "cell_type": "code",
   "execution_count": 97,
   "metadata": {
    "id": "Hc8uvhfUys70"
   },
   "outputs": [],
   "source": [
    "# 1단계: 불러오기\n",
    "from xgboost import XGBClassifier\n",
    "from sklearn.metrics import confusion_matrix, classification_report"
   ]
  },
  {
   "cell_type": "code",
   "execution_count": 98,
   "metadata": {
    "id": "7U0Z14E3ys70"
   },
   "outputs": [],
   "source": [
    "# 2단계: 선언하기\n",
    "model = XGBClassifier(random_state=2022)"
   ]
  },
  {
   "cell_type": "code",
   "execution_count": 99,
   "metadata": {
    "colab": {
     "base_uri": "https://localhost:8080/"
    },
    "executionInfo": {
     "elapsed": 339,
     "status": "ok",
     "timestamp": 1641524346906,
     "user": {
      "displayName": "Jangrae Lee",
      "photoUrl": "https://lh3.googleusercontent.com/a-/AOh14Gh1Pd8OuWJU2cv7uTt-fURrgvty7atx_Wtarmx0-A=s64",
      "userId": "08475661575434032088"
     },
     "user_tz": -540
    },
    "id": "SBM8QkJvys70",
    "outputId": "2e3a099c-a17e-4443-9e21-c46fe2616421"
   },
   "outputs": [
    {
     "name": "stdout",
     "output_type": "stream",
     "text": [
      "[16:09:53] WARNING: C:/Users/Administrator/workspace/xgboost-win64_release_1.5.1/src/learner.cc:1115: Starting in XGBoost 1.3.0, the default evaluation metric used with the objective 'binary:logistic' was changed from 'error' to 'logloss'. Explicitly set eval_metric if you'd like to restore the old behavior.\n"
     ]
    },
    {
     "data": {
      "text/plain": [
       "XGBClassifier(base_score=0.5, booster='gbtree', colsample_bylevel=1,\n",
       "              colsample_bynode=1, colsample_bytree=1, enable_categorical=False,\n",
       "              gamma=0, gpu_id=-1, importance_type=None,\n",
       "              interaction_constraints='', learning_rate=0.300000012,\n",
       "              max_delta_step=0, max_depth=6, min_child_weight=1, missing=nan,\n",
       "              monotone_constraints='()', n_estimators=100, n_jobs=8,\n",
       "              num_parallel_tree=1, predictor='auto', random_state=2022,\n",
       "              reg_alpha=0, reg_lambda=1, scale_pos_weight=1, subsample=1,\n",
       "              tree_method='exact', validate_parameters=1, verbosity=None)"
      ]
     },
     "execution_count": 99,
     "metadata": {},
     "output_type": "execute_result"
    }
   ],
   "source": [
    "# 3단계: 학습하기\n",
    "model.fit(x_train, y_train)"
   ]
  },
  {
   "cell_type": "code",
   "execution_count": 100,
   "metadata": {
    "id": "e0mhlPqEys71"
   },
   "outputs": [],
   "source": [
    "# 4단계: 예측하기\n",
    "y_pred = model.predict(x_test)"
   ]
  },
  {
   "cell_type": "code",
   "execution_count": 101,
   "metadata": {
    "colab": {
     "base_uri": "https://localhost:8080/"
    },
    "executionInfo": {
     "elapsed": 7,
     "status": "ok",
     "timestamp": 1641524346907,
     "user": {
      "displayName": "Jangrae Lee",
      "photoUrl": "https://lh3.googleusercontent.com/a-/AOh14Gh1Pd8OuWJU2cv7uTt-fURrgvty7atx_Wtarmx0-A=s64",
      "userId": "08475661575434032088"
     },
     "user_tz": -540
    },
    "id": "xvOnmpXsys71",
    "outputId": "4c4e410c-13e2-4dee-b274-ae0fb83213ef"
   },
   "outputs": [
    {
     "name": "stdout",
     "output_type": "stream",
     "text": [
      "[[425  18]\n",
      " [ 31 299]]\n",
      "              precision    recall  f1-score   support\n",
      "\n",
      "           0       0.93      0.96      0.95       443\n",
      "           1       0.94      0.91      0.92       330\n",
      "\n",
      "    accuracy                           0.94       773\n",
      "   macro avg       0.94      0.93      0.93       773\n",
      "weighted avg       0.94      0.94      0.94       773\n",
      "\n"
     ]
    }
   ],
   "source": [
    "# 5단계: 평가하기\n",
    "print(confusion_matrix(y_test, y_pred))\n",
    "print(classification_report(y_test, y_pred))"
   ]
  },
  {
   "cell_type": "markdown",
   "metadata": {},
   "source": [
    "### 4.4.2.변수 중요도 확인\n",
    "\n",
    "- 모델의 feature_importances_ 속성으로 변수들(Features) 중요도를 확인합니다."
   ]
  },
  {
   "cell_type": "code",
   "execution_count": 102,
   "metadata": {},
   "outputs": [
    {
     "data": {
      "text/html": [
       "<div>\n",
       "<style scoped>\n",
       "    .dataframe tbody tr th:only-of-type {\n",
       "        vertical-align: middle;\n",
       "    }\n",
       "\n",
       "    .dataframe tbody tr th {\n",
       "        vertical-align: top;\n",
       "    }\n",
       "\n",
       "    .dataframe thead th {\n",
       "        text-align: right;\n",
       "    }\n",
       "</style>\n",
       "<table border=\"1\" class=\"dataframe\">\n",
       "  <thead>\n",
       "    <tr style=\"text-align: right;\">\n",
       "      <th></th>\n",
       "      <th>feature</th>\n",
       "      <th>importance</th>\n",
       "    </tr>\n",
       "  </thead>\n",
       "  <tbody>\n",
       "    <tr>\n",
       "      <th>19</th>\n",
       "      <td>class_Eco Plus</td>\n",
       "      <td>0.000000</td>\n",
       "    </tr>\n",
       "    <tr>\n",
       "      <th>1</th>\n",
       "      <td>flight_distance</td>\n",
       "      <td>0.008127</td>\n",
       "    </tr>\n",
       "    <tr>\n",
       "      <th>12</th>\n",
       "      <td>inflight_service</td>\n",
       "      <td>0.010958</td>\n",
       "    </tr>\n",
       "    <tr>\n",
       "      <th>0</th>\n",
       "      <td>age</td>\n",
       "      <td>0.013038</td>\n",
       "    </tr>\n",
       "    <tr>\n",
       "      <th>15</th>\n",
       "      <td>gender_Male</td>\n",
       "      <td>0.013166</td>\n",
       "    </tr>\n",
       "    <tr>\n",
       "      <th>14</th>\n",
       "      <td>arrival_delay_in_minutes</td>\n",
       "      <td>0.014464</td>\n",
       "    </tr>\n",
       "    <tr>\n",
       "      <th>3</th>\n",
       "      <td>ease_of_online_booking</td>\n",
       "      <td>0.020497</td>\n",
       "    </tr>\n",
       "    <tr>\n",
       "      <th>4</th>\n",
       "      <td>food_and_drink</td>\n",
       "      <td>0.021036</td>\n",
       "    </tr>\n",
       "    <tr>\n",
       "      <th>11</th>\n",
       "      <td>checkin_service</td>\n",
       "      <td>0.022649</td>\n",
       "    </tr>\n",
       "    <tr>\n",
       "      <th>8</th>\n",
       "      <td>on-board_service</td>\n",
       "      <td>0.024214</td>\n",
       "    </tr>\n",
       "    <tr>\n",
       "      <th>9</th>\n",
       "      <td>leg_room_service</td>\n",
       "      <td>0.025893</td>\n",
       "    </tr>\n",
       "    <tr>\n",
       "      <th>10</th>\n",
       "      <td>baggage_handling</td>\n",
       "      <td>0.026838</td>\n",
       "    </tr>\n",
       "    <tr>\n",
       "      <th>18</th>\n",
       "      <td>class_Eco</td>\n",
       "      <td>0.028623</td>\n",
       "    </tr>\n",
       "    <tr>\n",
       "      <th>6</th>\n",
       "      <td>seat_comfort</td>\n",
       "      <td>0.030234</td>\n",
       "    </tr>\n",
       "    <tr>\n",
       "      <th>13</th>\n",
       "      <td>cleanliness</td>\n",
       "      <td>0.030585</td>\n",
       "    </tr>\n",
       "    <tr>\n",
       "      <th>7</th>\n",
       "      <td>inflight_entertainment</td>\n",
       "      <td>0.058580</td>\n",
       "    </tr>\n",
       "    <tr>\n",
       "      <th>16</th>\n",
       "      <td>customer_type_disloyal Customer</td>\n",
       "      <td>0.070442</td>\n",
       "    </tr>\n",
       "    <tr>\n",
       "      <th>2</th>\n",
       "      <td>inflight_wifi_service</td>\n",
       "      <td>0.082750</td>\n",
       "    </tr>\n",
       "    <tr>\n",
       "      <th>17</th>\n",
       "      <td>type_of_travel_Personal Travel</td>\n",
       "      <td>0.198668</td>\n",
       "    </tr>\n",
       "    <tr>\n",
       "      <th>5</th>\n",
       "      <td>online_boarding</td>\n",
       "      <td>0.299239</td>\n",
       "    </tr>\n",
       "  </tbody>\n",
       "</table>\n",
       "</div>"
      ],
      "text/plain": [
       "                            feature  importance\n",
       "19                   class_Eco Plus    0.000000\n",
       "1                   flight_distance    0.008127\n",
       "12                 inflight_service    0.010958\n",
       "0                               age    0.013038\n",
       "15                      gender_Male    0.013166\n",
       "14         arrival_delay_in_minutes    0.014464\n",
       "3            ease_of_online_booking    0.020497\n",
       "4                    food_and_drink    0.021036\n",
       "11                  checkin_service    0.022649\n",
       "8                  on-board_service    0.024214\n",
       "9                  leg_room_service    0.025893\n",
       "10                 baggage_handling    0.026838\n",
       "18                        class_Eco    0.028623\n",
       "6                      seat_comfort    0.030234\n",
       "13                      cleanliness    0.030585\n",
       "7            inflight_entertainment    0.058580\n",
       "16  customer_type_disloyal Customer    0.070442\n",
       "2             inflight_wifi_service    0.082750\n",
       "17   type_of_travel_Personal Travel    0.198668\n",
       "5                   online_boarding    0.299239"
      ]
     },
     "execution_count": 102,
     "metadata": {},
     "output_type": "execute_result"
    }
   ],
   "source": [
    "# 중요도 확인\n",
    "scores = pd.DataFrame()\n",
    "scores['feature'] = list(x)\n",
    "scores['importance'] = model.feature_importances_\n",
    "scores.sort_values(by='importance', ascending=True, inplace=True)\n",
    "scores"
   ]
  },
  {
   "cell_type": "markdown",
   "metadata": {},
   "source": [
    "- 변수 중요도를 가로막대 그래프로 시각화해 확인합니다."
   ]
  },
  {
   "cell_type": "code",
   "execution_count": 103,
   "metadata": {},
   "outputs": [
    {
     "data": {
      "image/png": "[encoded data removed]",
      "text/plain": [
       "<Figure size 432x288 with 1 Axes>"
      ]
     },
     "metadata": {
      "image/png": {
       "height": 248,
       "width": 526
      },
      "needs_background": "light"
     },
     "output_type": "display_data"
    }
   ],
   "source": [
    "# 중요도 시각화\n",
    "plt.barh(list(x), model.feature_importances_)\n",
    "plt.show()"
   ]
  },
  {
   "cell_type": "markdown",
   "metadata": {},
   "source": [
    "- 온라인 보딩 만족도가 가장 높은 모델이다.\n",
    "- 다음으로는 여행의 목적(개인업무)이다."
   ]
  },
  {
   "cell_type": "markdown",
   "metadata": {},
   "source": [
    "### 4.4.3.성능 정보 수집\n",
    "\n",
    "- 아래 구문을 수행해 성능 정보를 수집합니다."
   ]
  },
  {
   "cell_type": "code",
   "execution_count": 60,
   "metadata": {
    "id": "I7mVOarO681R"
   },
   "outputs": [],
   "source": [
    "# 성능 정보 수집\n",
    "score['XGBoost'] = accuracy_score(y_test, y_pred)"
   ]
  },
  {
   "cell_type": "markdown",
   "metadata": {
    "id": "ZayZ2YcN08rA"
   },
   "source": [
    "# 5.정리\n",
    "\n",
    "- 앞에서 수집한 성능 정보를 시각화해 확인합니다."
   ]
  },
  {
   "cell_type": "code",
   "execution_count": 61,
   "metadata": {
    "colab": {
     "base_uri": "https://localhost:8080/",
     "height": 300
    },
    "executionInfo": {
     "elapsed": 598,
     "status": "ok",
     "timestamp": 1641524347501,
     "user": {
      "displayName": "Jangrae Lee",
      "photoUrl": "https://lh3.googleusercontent.com/a-/AOh14Gh1Pd8OuWJU2cv7uTt-fURrgvty7atx_Wtarmx0-A=s64",
      "userId": "08475661575434032088"
     },
     "user_tz": -540
    },
    "id": "eMKhqVGJ6hwF",
    "outputId": "550a8fe5-b936-4f0e-f4a3-fd563cc18453"
   },
   "outputs": [
    {
     "name": "stdout",
     "output_type": "stream",
     "text": [
      "-KNN: 0.9004\n",
      "-Decision Tree: 0.8875\n",
      "-Random Forest: 0.9250\n",
      "-XGBoost: 0.9366\n"
     ]
    },
    {
     "data": {
      "image/png": "[encoded data removed]",
      "text/plain": [
       "<Figure size 432x288 with 1 Axes>"
      ]
     },
     "metadata": {
      "image/png": {
       "height": 274,
       "width": 431
      },
      "needs_background": "light"
     },
     "output_type": "display_data"
    }
   ],
   "source": [
    "# 성능 정보\n",
    "for k, v in score.items():\n",
    "    print(f'-{k}: {v:.4f}')\n",
    "\n",
    "# 시작화\n",
    "plt.barh(list(score.keys()), score.values(), alpha=0.7)\n",
    "plt.title('Accuracy', size=15, pad=15)\n",
    "plt.grid(axis='x', linewidth=0.3)\n",
    "plt.show()"
   ]
  },
  {
   "cell_type": "markdown",
   "metadata": {
    "id": "-2VZtZQ36mjj"
   },
   "source": [
    "- 대부분 0.8이상이 넘는 정확도가 나왔지만 가장 높은 모델은 XGBoost 모델이다.\n",
    "- 가장 낮은 모델은 디시전 트리인데, 파라미터를 조절하면 높은 수치가 나올 수 있지 않을까?\n",
    "- 랜덤포레트스도 파라미터 조절을 하면 XGBoost보다 높은 수치가 나오지 않을까?"
   ]
  },
  {
   "cell_type": "markdown",
   "metadata": {},
   "source": [
    "# 6.(옵션) 튜닝\n",
    "\n",
    "- 마음에 드는 모델을 선택하여 튜닝을 진행합니다."
   ]
  },
  {
   "cell_type": "code",
   "execution_count": 84,
   "metadata": {},
   "outputs": [
    {
     "name": "stdout",
     "output_type": "stream",
     "text": [
      "[[411  32]\n",
      " [ 33 297]]\n",
      "              precision    recall  f1-score   support\n",
      "\n",
      "           0       0.93      0.93      0.93       443\n",
      "           1       0.90      0.90      0.90       330\n",
      "\n",
      "    accuracy                           0.92       773\n",
      "   macro avg       0.91      0.91      0.91       773\n",
      "weighted avg       0.92      0.92      0.92       773\n",
      "\n"
     ]
    }
   ],
   "source": [
    "from sklearn.model_selection import GridSearchCV\n",
    "\n",
    "param={'max_depth':range(1,51),\n",
    "      'min_samples_split':range(1,11)}\n",
    "\n",
    "model_rfc=DecisionTreeClassifier()\n",
    "model = GridSearchCV(model_rfc, param, cv=10, n_jobs=-1)\n",
    "\n",
    "model.fit(x_train, y_train)\n",
    "\n",
    "y_pred = model.predict(x_test)\n",
    "\n",
    "print(confusion_matrix(y_test, y_pred))\n",
    "print(classification_report(y_test, y_pred))"
   ]
  },
  {
   "cell_type": "code",
   "execution_count": 85,
   "metadata": {},
   "outputs": [
    {
     "name": "stdout",
     "output_type": "stream",
     "text": [
      "accuracy_score: 0.9159120310478654\n",
      "{'max_depth': 8, 'min_samples_split': 5}\n",
      "best_score_: 0.9228299570288521\n"
     ]
    }
   ],
   "source": [
    "from sklearn.metrics import accuracy_score\n",
    "print('accuracy_score:',accuracy_score(y_test,y_pred))\n",
    "\n",
    "print(model.best_params_)\n",
    "print('best_score_:',model.best_score_)"
   ]
  },
  {
   "cell_type": "markdown",
   "metadata": {},
   "source": [
    "- 튜닝을 하고 난 후 정확도가 0.89에서 0.91로 증가했다.\n",
    "- 튜닝 전 1의 precision, recall, f1-score 값이 0.80대 였지만 지금은 모두 0.90대 이다.\n",
    "- max_depth:8 , min_samples_split:5 가 가장 최고의 성능인 파라미터로 나왔다"
   ]
  }
 ],
 "metadata": {
  "accelerator": "GPU",
  "colab": {
   "collapsed_sections": [],
   "name": "과제03 - 항공 탑승자 만족도 예측.ipynb",
   "provenance": [],
   "toc_visible": true
  },
  "kernelspec": {
   "display_name": "Python 3",
   "language": "python",
   "name": "python3"
  },
  "language_info": {
   "codemirror_mode": {
    "name": "ipython",
    "version": 3
   },
   "file_extension": ".py",
   "mimetype": "text/x-python",
   "name": "python",
   "nbconvert_exporter": "python",
   "pygments_lexer": "ipython3",
   "version": "3.8.8"
  }
 },
 "nbformat": 4,
 "nbformat_minor": 1
}
