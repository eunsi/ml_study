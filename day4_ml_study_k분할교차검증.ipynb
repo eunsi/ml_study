{
 "cells": [
  {
   "cell_type": "markdown",
   "id": "f578c583",
   "metadata": {},
   "source": [
    "# k분할교차검증"
   ]
  },
  {
   "cell_type": "markdown",
   "id": "4d95de18",
   "metadata": {},
   "source": [
    "k분할교차검증은 학습 능력을 평가하는 것이다. 여기서는 학습데이터만 가지고 평가하고 가장 값이 높게 나온 모델을 가지고 평가한다.\n",
    "\n",
    "> k 분할에 대한 모든 성능을 추정하고 평균과 포준편차를 계산한다."
   ]
  },
  {
   "cell_type": "code",
   "execution_count": 1,
   "id": "6297d97a",
   "metadata": {},
   "outputs": [],
   "source": [
    "# 라이브러리 불러오기\n",
    "import numpy as np\n",
    "import pandas as pd\n",
    "import matplotlib.pyplot as plt"
   ]
  },
  {
   "cell_type": "code",
   "execution_count": 2,
   "id": "ff6f0e98",
   "metadata": {},
   "outputs": [],
   "source": [
    "# 데이터 읽어오기\n",
    "path = 'https://raw.githubusercontent.com/Jangrae/csv/master/iris.csv'\n",
    "data = pd.read_csv(path)"
   ]
  },
  {
   "cell_type": "code",
   "execution_count": 3,
   "id": "8173aef8",
   "metadata": {},
   "outputs": [],
   "source": [
    "# Target 확인\n",
    "target = 'Species'\n",
    "\n",
    "# 데이터 분리\n",
    "x = data.drop(target, axis=1)\n",
    "y = data[target]"
   ]
  },
  {
   "cell_type": "code",
   "execution_count": 4,
   "id": "07d28941",
   "metadata": {},
   "outputs": [],
   "source": [
    "# 정규화\n",
    "x = (x - x.min()) / (x.max() - x.min())"
   ]
  },
  {
   "cell_type": "code",
   "execution_count": 5,
   "id": "8ea2c501",
   "metadata": {},
   "outputs": [],
   "source": [
    "# 라이브러리 불러오기\n",
    "from sklearn.model_selection import train_test_split\n",
    "\n",
    "# 학습용, 평가용 데이터 7:3으로 분리\n",
    "x_train, x_test, y_train, y_test = train_test_split(x, y, test_size=0.3, random_state=2022)"
   ]
  },
  {
   "cell_type": "markdown",
   "id": "9163d16a",
   "metadata": {},
   "source": [
    "## 성능 예측하기\n",
    "\n",
    "- cross_val_score(model, x_train, y_train, cv=n) 형태\n",
    "- cv에 k값을 지정한다."
   ]
  },
  {
   "cell_type": "markdown",
   "id": "c8e281f0",
   "metadata": {},
   "source": [
    "## 1.Decision Tree"
   ]
  },
  {
   "cell_type": "code",
   "execution_count": 7,
   "id": "f817c016",
   "metadata": {},
   "outputs": [
    {
     "name": "stdout",
     "output_type": "stream",
     "text": [
      "평균: 0.9518181818181819\n",
      "표준편차: 0.06581341017359368\n"
     ]
    }
   ],
   "source": [
    "from sklearn.tree import DecisionTreeClassifier\n",
    "from sklearn.model_selection import cross_val_score\n",
    "\n",
    "# 선언하기\n",
    "model = DecisionTreeClassifier(random_state=2022)\n",
    "\n",
    "# 학습,예측하기\n",
    "cv_score = cross_val_score(model, x_train, y_train, cv=10)\n",
    "\n",
    "# 확인하기\n",
    "print('평균:', cv_score.mean())\n",
    "print('표준편차:',cv_score.std())"
   ]
  },
  {
   "cell_type": "code",
   "execution_count": 12,
   "id": "823e0961",
   "metadata": {},
   "outputs": [
    {
     "data": {
      "image/png": "[encoded data removed]",
      "text/plain": [
       "<Figure size 432x288 with 1 Axes>"
      ]
     },
     "metadata": {
      "needs_background": "light"
     },
     "output_type": "display_data"
    }
   ],
   "source": [
    "# 성능 정보 시각화\n",
    "\n",
    "plt.plot(cv_score)\n",
    "plt.axhline(cv_score.mean(), color='r')\n",
    "plt.xticks(range(0,11), range(1,12))\n",
    "plt.show()"
   ]
  },
  {
   "cell_type": "markdown",
   "id": "c94b1d0f",
   "metadata": {},
   "source": [
    "## 2.KNN"
   ]
  },
  {
   "cell_type": "code",
   "execution_count": 13,
   "id": "5008e7a7",
   "metadata": {},
   "outputs": [
    {
     "name": "stdout",
     "output_type": "stream",
     "text": [
      "평균: 0.9609090909090909\n",
      "표준편차: 0.09109526391332329\n"
     ]
    }
   ],
   "source": [
    "# 불러오기\n",
    "from sklearn.neighbors import KNeighborsClassifier\n",
    "from sklearn.model_selection import cross_val_score\n",
    "\n",
    "#선언하기\n",
    "model = KNeighborsClassifier()\n",
    "\n",
    "#학습, 예측, 평가\n",
    "cv_score = cross_val_score(model, x_train, y_train, cv=10)\n",
    "\n",
    "print('평균:', cv_score.mean())\n",
    "print('표준편차:', cv_score.std())"
   ]
  },
  {
   "cell_type": "code",
   "execution_count": 16,
   "id": "55a641af",
   "metadata": {},
   "outputs": [
    {
     "data": {
      "text/html": [
       "<div>\n",
       "<style scoped>\n",
       "    .dataframe tbody tr th:only-of-type {\n",
       "        vertical-align: middle;\n",
       "    }\n",
       "\n",
       "    .dataframe tbody tr th {\n",
       "        vertical-align: top;\n",
       "    }\n",
       "\n",
       "    .dataframe thead th {\n",
       "        text-align: right;\n",
       "    }\n",
       "</style>\n",
       "<table border=\"1\" class=\"dataframe\">\n",
       "  <thead>\n",
       "    <tr style=\"text-align: right;\">\n",
       "      <th></th>\n",
       "      <th>cv</th>\n",
       "      <th>neighbors</th>\n",
       "      <th>score</th>\n",
       "    </tr>\n",
       "  </thead>\n",
       "  <tbody>\n",
       "    <tr>\n",
       "      <th>2</th>\n",
       "      <td>2</td>\n",
       "      <td>3</td>\n",
       "      <td>0.971335</td>\n",
       "    </tr>\n",
       "    <tr>\n",
       "      <th>169</th>\n",
       "      <td>18</td>\n",
       "      <td>10</td>\n",
       "      <td>0.962963</td>\n",
       "    </tr>\n",
       "    <tr>\n",
       "      <th>168</th>\n",
       "      <td>18</td>\n",
       "      <td>9</td>\n",
       "      <td>0.962963</td>\n",
       "    </tr>\n",
       "    <tr>\n",
       "      <th>167</th>\n",
       "      <td>18</td>\n",
       "      <td>8</td>\n",
       "      <td>0.962963</td>\n",
       "    </tr>\n",
       "    <tr>\n",
       "      <th>165</th>\n",
       "      <td>18</td>\n",
       "      <td>6</td>\n",
       "      <td>0.962963</td>\n",
       "    </tr>\n",
       "    <tr>\n",
       "      <th>...</th>\n",
       "      <td>...</td>\n",
       "      <td>...</td>\n",
       "      <td>...</td>\n",
       "    </tr>\n",
       "    <tr>\n",
       "      <th>11</th>\n",
       "      <td>3</td>\n",
       "      <td>2</td>\n",
       "      <td>0.923810</td>\n",
       "    </tr>\n",
       "    <tr>\n",
       "      <th>31</th>\n",
       "      <td>5</td>\n",
       "      <td>2</td>\n",
       "      <td>0.923810</td>\n",
       "    </tr>\n",
       "    <tr>\n",
       "      <th>8</th>\n",
       "      <td>2</td>\n",
       "      <td>9</td>\n",
       "      <td>0.923440</td>\n",
       "    </tr>\n",
       "    <tr>\n",
       "      <th>7</th>\n",
       "      <td>2</td>\n",
       "      <td>8</td>\n",
       "      <td>0.923440</td>\n",
       "    </tr>\n",
       "    <tr>\n",
       "      <th>9</th>\n",
       "      <td>2</td>\n",
       "      <td>10</td>\n",
       "      <td>0.913824</td>\n",
       "    </tr>\n",
       "  </tbody>\n",
       "</table>\n",
       "<p>190 rows × 3 columns</p>\n",
       "</div>"
      ],
      "text/plain": [
       "     cv  neighbors     score\n",
       "2     2          3  0.971335\n",
       "169  18         10  0.962963\n",
       "168  18          9  0.962963\n",
       "167  18          8  0.962963\n",
       "165  18          6  0.962963\n",
       "..   ..        ...       ...\n",
       "11    3          2  0.923810\n",
       "31    5          2  0.923810\n",
       "8     2          9  0.923440\n",
       "7     2          8  0.923440\n",
       "9     2         10  0.913824\n",
       "\n",
       "[190 rows x 3 columns]"
      ]
     },
     "execution_count": 16,
     "metadata": {},
     "output_type": "execute_result"
    }
   ],
   "source": [
    "# 루프 돌려서 최적화 cv 값 찾기\n",
    "\n",
    "score =[]\n",
    "my_cv = []\n",
    "my_neighbors =[]\n",
    "for c in range(2,21) :\n",
    "    for n in range(1,11) :\n",
    "        model = KNeighborsClassifier(n_neighbors=n)\n",
    "        cv_score = cross_val_score(model, x_train, y_train, cv=c)\n",
    "        score.append(cv_score.mean())\n",
    "        my_cv.append(c)\n",
    "        my_neighbors.append(n)\n",
    "\n",
    "#print(my_cv)\n",
    "#print(my_neighbors)\n",
    "#print(score)\n",
    "\n",
    "result = pd.DataFrame()\n",
    "result['cv'] = my_cv\n",
    "result['neighbors'] = my_neighbors\n",
    "result['score'] = score\n",
    "result.sort_values(by='score', ascending=False, inplace=True)\n",
    "\n",
    "result"
   ]
  },
  {
   "cell_type": "markdown",
   "id": "1cc13506",
   "metadata": {},
   "source": [
    "## 3.Logistic Regression"
   ]
  },
  {
   "cell_type": "code",
   "execution_count": 17,
   "id": "55b1b43c",
   "metadata": {},
   "outputs": [
    {
     "name": "stdout",
     "output_type": "stream",
     "text": [
      "[1.         1.         0.90909091 1.         0.81818182 0.9\n",
      " 0.7        0.9        1.         1.        ]\n",
      "평균: 0.9227272727272726\n",
      "표준편차: 0.09571393328451919\n"
     ]
    }
   ],
   "source": [
    "# 불러오기\n",
    "from sklearn.linear_model import LogisticRegression\n",
    "from sklearn.model_selection import cross_val_score\n",
    "\n",
    "\n",
    "# 선언하기 \n",
    "model = LogisticRegression(max_iter=500)\n",
    "\n",
    "\n",
    "# 학습, 예측, 평가하기\n",
    "cv_score = cross_val_score(model, x_train, y_train, cv=10)\n",
    "\n",
    "# 확인\n",
    "print(cv_score)\n",
    "print('평균:',cv_score.mean())\n",
    "print('표준편차:', cv_score.std())"
   ]
  }
 ],
 "metadata": {
  "kernelspec": {
   "display_name": "Python 3",
   "language": "python",
   "name": "python3"
  },
  "language_info": {
   "codemirror_mode": {
    "name": "ipython",
    "version": 3
   },
   "file_extension": ".py",
   "mimetype": "text/x-python",
   "name": "python",
   "nbconvert_exporter": "python",
   "pygments_lexer": "ipython3",
   "version": "3.8.8"
  }
 },
 "nbformat": 4,
 "nbformat_minor": 5
}
