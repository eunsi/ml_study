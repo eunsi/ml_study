{
 "cells": [
  {
   "cell_type": "markdown",
   "id": "ceafca70",
   "metadata": {},
   "source": [
    "## 분류 모델 성능 평가"
   ]
  },
  {
   "cell_type": "markdown",
   "id": "e5bd194e",
   "metadata": {},
   "source": [
    "* 분류 모델 성능 평가\n",
    "> 분류 모델은 정확도를 높여야한다. 예측값과 실제값이 많이 같을 수록 좋은 모델이다"
   ]
  },
  {
   "cell_type": "markdown",
   "id": "b697ad2b",
   "metadata": {},
   "source": [
    "* 정확도 accuracy\n",
    "\n",
    "> 가장 직관적으로 모델 성능을 확인할 수 있다.\n",
    "\n",
    "> TN+TP / TN+TP+FN+FP"
   ]
  },
  {
   "cell_type": "markdown",
   "id": "dd8d89f0",
   "metadata": {},
   "source": [
    "* 정밀도 precision\n",
    "\n",
    "> 1이라고 예측한 것 중에서 진짜 1인 비율\n",
    "\n",
    "> TP / FP+TP"
   ]
  },
  {
   "cell_type": "markdown",
   "id": "b1c449b4",
   "metadata": {},
   "source": [
    "* 재현율 recall\n",
    "\n",
    "> 실제 1을 1이라고 예측한 비율 / 높을수록 좋은 모델\n",
    "\n",
    "> TP / FN+TP"
   ]
  },
  {
   "cell_type": "markdown",
   "id": "7fd875c9",
   "metadata": {},
   "source": [
    "* 특이도 specificity\n",
    "\n",
    "> 0이라고 예측한 것에서 진짜 0인 것\n",
    "\n",
    "> TN / TN+FP"
   ]
  },
  {
   "cell_type": "markdown",
   "id": "b1ea0ab7",
   "metadata": {},
   "source": [
    "* F1 Score\n",
    "\n",
    "> 정밀도와 재현율의 조화평균"
   ]
  },
  {
   "cell_type": "code",
   "execution_count": 2,
   "id": "373b1d28",
   "metadata": {},
   "outputs": [],
   "source": [
    "# 라이브러리 불러오기\n",
    "import numpy as np\n",
    "import pandas as pd\n",
    "import matplotlib.pyplot as plt\n",
    "\n",
    "%config InlineBackend.figure_format = 'retina'"
   ]
  },
  {
   "cell_type": "code",
   "execution_count": 3,
   "id": "6b03c9f4",
   "metadata": {},
   "outputs": [],
   "source": [
    "# 데이터 읽어오기\n",
    "path = 'https://raw.githubusercontent.com/Jangrae/csv/master/admission_simple.csv'\n",
    "data = pd.read_csv(path)"
   ]
  },
  {
   "cell_type": "markdown",
   "id": "ed395418",
   "metadata": {},
   "source": [
    "### 데이터 분리"
   ]
  },
  {
   "cell_type": "code",
   "execution_count": 4,
   "id": "1a3d9647",
   "metadata": {},
   "outputs": [],
   "source": [
    "# target 확인\n",
    "target = 'ADMIT'\n",
    "\n",
    "# 데이터 분리\n",
    "x = data.drop(target, axis=1)\n",
    "y = data[target]"
   ]
  },
  {
   "cell_type": "code",
   "execution_count": 5,
   "id": "7291cb8d",
   "metadata": {},
   "outputs": [],
   "source": [
    "# 모듈 불러오기\n",
    "from sklearn.model_selection import train_test_split\n",
    "\n",
    "# 7:3으로 분리\n",
    "x_train, x_test, y_train, y_test = train_test_split(x, y, test_size=0.3, random_state=2022) "
   ]
  },
  {
   "cell_type": "markdown",
   "id": "82b4aab3",
   "metadata": {},
   "source": [
    "### 모델링"
   ]
  },
  {
   "cell_type": "code",
   "execution_count": 6,
   "id": "7866094a",
   "metadata": {},
   "outputs": [],
   "source": [
    "#불러오기 # KNeighborsClassifier와 KNeighborsRegressor 잘 구분하기!!\n",
    "from sklearn.neighbors import KNeighborsClassifier "
   ]
  },
  {
   "cell_type": "code",
   "execution_count": 7,
   "id": "8243d892",
   "metadata": {},
   "outputs": [],
   "source": [
    "#선언하기\n",
    "model=KNeighborsClassifier()"
   ]
  },
  {
   "cell_type": "code",
   "execution_count": 8,
   "id": "7a9b732b",
   "metadata": {},
   "outputs": [
    {
     "data": {
      "text/plain": [
       "KNeighborsClassifier()"
      ]
     },
     "execution_count": 8,
     "metadata": {},
     "output_type": "execute_result"
    }
   ],
   "source": [
    "#학습하기\n",
    "model.fit(x_train, y_train)"
   ]
  },
  {
   "cell_type": "code",
   "execution_count": 9,
   "id": "16ebab13",
   "metadata": {},
   "outputs": [],
   "source": [
    "#예측하기\n",
    "y_pred = model.predict(x_test)"
   ]
  },
  {
   "cell_type": "markdown",
   "id": "33e6cc2f",
   "metadata": {},
   "source": [
    "### 분류 성능 평가"
   ]
  },
  {
   "cell_type": "code",
   "execution_count": 10,
   "id": "caf912e2",
   "metadata": {},
   "outputs": [
    {
     "name": "stdout",
     "output_type": "stream",
     "text": [
      "[[74  9]\n",
      " [ 8 59]]\n"
     ]
    }
   ],
   "source": [
    "# 모듈 불러오기\n",
    "from sklearn.metrics import confusion_matrix\n",
    "\n",
    "# 성능 평가\n",
    "print(confusion_matrix(y_test, y_pred))"
   ]
  },
  {
   "cell_type": "code",
   "execution_count": 11,
   "id": "868d5087",
   "metadata": {},
   "outputs": [
    {
     "data": {
      "text/plain": [
       "<AxesSubplot:>"
      ]
     },
     "execution_count": 11,
     "metadata": {},
     "output_type": "execute_result"
    },
    {
     "data": {
      "image/png": "[encoded data removed]",
      "text/plain": [
       "<Figure size 432x288 with 2 Axes>"
      ]
     },
     "metadata": {
      "image/png": {
       "height": 248,
       "width": 346
      },
      "needs_background": "light"
     },
     "output_type": "display_data"
    }
   ],
   "source": [
    "# 시각화하기\n",
    "\n",
    "import seaborn as sns\n",
    "sns.heatmap(confusion_matrix(y_test, y_pred), annot=True, cmap='Blues')"
   ]
  },
  {
   "cell_type": "code",
   "execution_count": 12,
   "id": "2a247614",
   "metadata": {},
   "outputs": [
    {
     "data": {
      "text/plain": [
       "0.8866666666666667"
      ]
     },
     "execution_count": 12,
     "metadata": {},
     "output_type": "execute_result"
    }
   ],
   "source": [
    "# accuracy\n",
    "from sklearn.metrics import accuracy_score\n",
    "accuracy_score(y_test, y_pred)"
   ]
  },
  {
   "cell_type": "code",
   "execution_count": 13,
   "id": "c193feca",
   "metadata": {},
   "outputs": [
    {
     "data": {
      "text/plain": [
       "0.8676470588235294"
      ]
     },
     "execution_count": 13,
     "metadata": {},
     "output_type": "execute_result"
    }
   ],
   "source": [
    "# precision\n",
    "from sklearn.metrics import precision_score\n",
    "precision_score(y_test, y_pred)\n",
    "\n",
    "# 그리고 두가지가 아닌 3가지 4가지 값이 나오는 경우는 average=none 값을 준다.\n",
    "# 합의 평균이 아닌 각각의 값을 구해주기 때문"
   ]
  },
  {
   "cell_type": "code",
   "execution_count": 14,
   "id": "b7b67c07",
   "metadata": {},
   "outputs": [
    {
     "data": {
      "text/plain": [
       "0.8805970149253731"
      ]
     },
     "execution_count": 14,
     "metadata": {},
     "output_type": "execute_result"
    }
   ],
   "source": [
    "# recall\n",
    "from sklearn.metrics import recall_score\n",
    "recall_score(y_test, y_pred)"
   ]
  },
  {
   "cell_type": "code",
   "execution_count": 16,
   "id": "eba9399e",
   "metadata": {},
   "outputs": [
    {
     "data": {
      "text/plain": [
       "0.874074074074074"
      ]
     },
     "execution_count": 16,
     "metadata": {},
     "output_type": "execute_result"
    }
   ],
   "source": [
    "# f1 score\n",
    "from sklearn.metrics import f1_score\n",
    "f1_score(y_test, y_pred)"
   ]
  },
  {
   "cell_type": "code",
   "execution_count": 18,
   "id": "a86c9eb3",
   "metadata": {},
   "outputs": [
    {
     "name": "stdout",
     "output_type": "stream",
     "text": [
      "              precision    recall  f1-score   support\n",
      "\n",
      "           0       0.90      0.89      0.90        83\n",
      "           1       0.87      0.88      0.87        67\n",
      "\n",
      "    accuracy                           0.89       150\n",
      "   macro avg       0.89      0.89      0.89       150\n",
      "weighted avg       0.89      0.89      0.89       150\n",
      "\n"
     ]
    }
   ],
   "source": [
    "from sklearn.metrics import classification_report\n",
    "print(classification_report(y_test, y_pred))\n",
    "\n",
    "#표를 볼 때, 정확도와 0과1의 값이 왜 낮고 높은지? 에 대해서만 알면된다."
   ]
  }
 ],
 "metadata": {
  "kernelspec": {
   "display_name": "Python 3",
   "language": "python",
   "name": "python3"
  },
  "language_info": {
   "codemirror_mode": {
    "name": "ipython",
    "version": 3
   },
   "file_extension": ".py",
   "mimetype": "text/x-python",
   "name": "python",
   "nbconvert_exporter": "python",
   "pygments_lexer": "ipython3",
   "version": "3.8.8"
  }
 },
 "nbformat": 4,
 "nbformat_minor": 5
}
