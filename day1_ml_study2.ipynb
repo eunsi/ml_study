{
 "cells": [
  {
   "cell_type": "markdown",
   "id": "086edef4",
   "metadata": {},
   "source": [
    "## day01_ml_study02 (분류모델)"
   ]
  },
  {
   "cell_type": "code",
   "execution_count": 1,
   "id": "ff218874",
   "metadata": {},
   "outputs": [],
   "source": [
    "# 라이브러리 불러오기\n",
    "import numpy as np\n",
    "import pandas as pd\n",
    "import matplotlib.pyplot as plt\n",
    "\n",
    "\n",
    "%config InlineBackend.figure_format = 'retina'"
   ]
  },
  {
   "cell_type": "code",
   "execution_count": 2,
   "id": "32a8be7a",
   "metadata": {},
   "outputs": [],
   "source": [
    "# 데이터 읽어오기\n",
    "path = 'https://raw.githubusercontent.com/Jangrae/csv/master/admission_simple.csv'\n",
    "data = pd.read_csv(path)"
   ]
  },
  {
   "cell_type": "markdown",
   "id": "14f95c25",
   "metadata": {},
   "source": [
    "### 데이터 준비"
   ]
  },
  {
   "cell_type": "code",
   "execution_count": 3,
   "id": "0f2f9d6c",
   "metadata": {},
   "outputs": [],
   "source": [
    "# 데이터분리\n",
    "target = 'ADMIT'\n",
    "\n",
    "x=data.drop(target, axis=1)\n",
    "y=data.loc[:,target]"
   ]
  },
  {
   "cell_type": "code",
   "execution_count": 4,
   "id": "d7516bf3",
   "metadata": {},
   "outputs": [],
   "source": [
    "#모듈 불러오기\n",
    "from sklearn.model_selection import train_test_split\n",
    "x_train, x_test, y_train, y_test = train_test_split(x, y, test_size=0.3)"
   ]
  },
  {
   "cell_type": "markdown",
   "id": "a44490f2",
   "metadata": {},
   "source": [
    "### 모델링"
   ]
  },
  {
   "cell_type": "markdown",
   "id": "5702ff88",
   "metadata": {},
   "source": [
    "모델: KNeighborsClassifier , 평가: accuracy_score\n",
    "\n",
    "분류 모델은 최근접 이웃 방식을 사용한다."
   ]
  },
  {
   "cell_type": "code",
   "execution_count": 5,
   "id": "50ce08fa",
   "metadata": {},
   "outputs": [],
   "source": [
    "# 1단계 불러오기\n",
    "from sklearn.neighbors import KNeighborsClassifier\n",
    "from sklearn.metrics import accuracy_score"
   ]
  },
  {
   "cell_type": "code",
   "execution_count": 6,
   "id": "320cfa30",
   "metadata": {},
   "outputs": [],
   "source": [
    "#2단계 선언하기\n",
    "model = KNeighborsClassifier()"
   ]
  },
  {
   "cell_type": "code",
   "execution_count": 11,
   "id": "27bffbb7",
   "metadata": {},
   "outputs": [
    {
     "data": {
      "text/plain": [
       "KNeighborsClassifier()"
      ]
     },
     "execution_count": 11,
     "metadata": {},
     "output_type": "execute_result"
    }
   ],
   "source": [
    "#3단계 학습하기\n",
    "model.fit(x_train, y_train)"
   ]
  },
  {
   "cell_type": "code",
   "execution_count": 12,
   "id": "bff64e29",
   "metadata": {},
   "outputs": [],
   "source": [
    "#4단계 예측하기\n",
    "y_pred = model.predict(x_test)"
   ]
  },
  {
   "cell_type": "code",
   "execution_count": 13,
   "id": "85bde83c",
   "metadata": {},
   "outputs": [
    {
     "name": "stdout",
     "output_type": "stream",
     "text": [
      "0.86\n"
     ]
    }
   ],
   "source": [
    "#5단계 평가하기\n",
    "print(accuracy_score(y_test, y_pred))"
   ]
  },
  {
   "cell_type": "code",
   "execution_count": 15,
   "id": "7fa158aa",
   "metadata": {},
   "outputs": [
    {
     "data": {
      "text/plain": [
       "<AxesSubplot:>"
      ]
     },
     "execution_count": 15,
     "metadata": {},
     "output_type": "execute_result"
    },
    {
     "data": {
      "image/png": "[encoded data removed]",
      "text/plain": [
       "<Figure size 432x288 with 2 Axes>"
      ]
     },
     "metadata": {
      "image/png": {
       "height": 248,
       "width": 346
      },
      "needs_background": "light"
     },
     "output_type": "display_data"
    }
   ],
   "source": [
    "# 시각화\n",
    "\n",
    "import seaborn as sns\n",
    "from sklearn.metrics import confusion_matrix\n",
    "sns.heatmap(confusion_matrix(y_test,y_pred), annot=True, cmap='Greens')"
   ]
  }
 ],
 "metadata": {
  "kernelspec": {
   "display_name": "Python 3",
   "language": "python",
   "name": "python3"
  },
  "language_info": {
   "codemirror_mode": {
    "name": "ipython",
    "version": 3
   },
   "file_extension": ".py",
   "mimetype": "text/x-python",
   "name": "python",
   "nbconvert_exporter": "python",
   "pygments_lexer": "ipython3",
   "version": "3.8.8"
  }
 },
 "nbformat": 4,
 "nbformat_minor": 5
}
