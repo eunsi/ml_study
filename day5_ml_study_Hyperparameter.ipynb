{
 "cells": [
  {
   "cell_type": "markdown",
   "id": "9ded803d",
   "metadata": {},
   "source": [
    "# Hyperparameter"
   ]
  },
  {
   "cell_type": "markdown",
   "id": "f4e698be",
   "metadata": {},
   "source": [
    "- 알고리즘을 이용하여 모델링할 때 최적화하기 위한 옵션이다.\n",
    "- KNN과 Decision Tree는 k값이 중요한데, 이 값을 잘 예측하기 위해서 Random Search, Grid Search를 사용해서 찾아 낼 수 있다."
   ]
  },
  {
   "cell_type": "markdown",
   "id": "6ca6591e",
   "metadata": {},
   "source": [
    "> Random Search 는 선언하는 범위에서 임의의 개수를 골라 최선의 파라미터 값을 찾는다. 많은 데이터에서 사용하기 좋으며, 단점으로는 최선의 성능인 파라미터 값을 찾아내지 못 할 수도 있다.\n",
    "\n",
    "> Grid Search 는 우리가 선언한 파라미터 범위를 모두 돌려서 최적의 값을 찾아낸다. 또한 정해진 수치 사이에서 값을 찾아 낼 수 있다. 시간이 많이 걸리는 단점이 있고, 수치를 지정해서 찾을 경우 정해지지 않은 값에서 더 좋은 파라미터가 나올 수도 있다."
   ]
  },
  {
   "cell_type": "markdown",
   "id": "fe0bae31",
   "metadata": {},
   "source": [
    "## 1. Random Search"
   ]
  },
  {
   "cell_type": "code",
   "execution_count": 4,
   "id": "68536b7a",
   "metadata": {},
   "outputs": [],
   "source": [
    "# 라이브러리 불러오기\n",
    "import numpy as np\n",
    "import pandas as pd\n",
    "import matplotlib.pyplot as plt"
   ]
  },
  {
   "cell_type": "code",
   "execution_count": 5,
   "id": "a559aea3",
   "metadata": {},
   "outputs": [],
   "source": [
    "# 데이터 읽어오기\n",
    "path = 'https://raw.githubusercontent.com/jangrae/csv/master/income_happy.csv'\n",
    "data = pd.read_csv(path)"
   ]
  },
  {
   "cell_type": "code",
   "execution_count": 6,
   "id": "e614ec37",
   "metadata": {},
   "outputs": [],
   "source": [
    "# target 확인\n",
    "target = 'happiness'\n",
    "\n",
    "# 데이터 분리\n",
    "x = data.drop(target, axis=1)\n",
    "y = data[target]"
   ]
  },
  {
   "cell_type": "code",
   "execution_count": 7,
   "id": "b0072801",
   "metadata": {},
   "outputs": [],
   "source": [
    "# 모듈 불러오기\n",
    "from sklearn.model_selection import train_test_split\n",
    "\n",
    "# 데이터 분리\n",
    "x_train, x_test, y_train, y_test = train_test_split(x, y, test_size=0.3, random_state=2022)"
   ]
  },
  {
   "cell_type": "markdown",
   "id": "2a2c66f3",
   "metadata": {},
   "source": [
    "### 모델링"
   ]
  },
  {
   "cell_type": "code",
   "execution_count": 8,
   "id": "7716e37e",
   "metadata": {},
   "outputs": [
    {
     "name": "stdout",
     "output_type": "stream",
     "text": [
      "0.6072155238529675\n",
      "0.7169483336378495\n"
     ]
    }
   ],
   "source": [
    "from sklearn.tree import DecisionTreeRegressor\n",
    "from sklearn.metrics import mean_absolute_error, r2_score\n",
    "\n",
    "model = DecisionTreeRegressor(max_depth=5, random_state=2022)\n",
    "\n",
    "model.fit(x_train, y_train)\n",
    "\n",
    "y_pred = model.predict(x_test)\n",
    "\n",
    "print(mean_absolute_error(y_test,y_pred)) # mean_absolute_error\n",
    "print(r2_score(y_test, y_pred)) #R2 SCORE"
   ]
  },
  {
   "cell_type": "markdown",
   "id": "b9a18d10",
   "metadata": {},
   "source": [
    "### 성능튜닝"
   ]
  },
  {
   "cell_type": "markdown",
   "id": "d8c48728",
   "metadata": {},
   "source": [
    "- 성능을 튜닝할 때, 기본모델: 기본 알고리즘을 사용하는 튜닝 대상 모델 / 최종 모델: RandomizedSearchCV 알고리즘을 사용하는 모델을 선언한다"
   ]
  },
  {
   "cell_type": "code",
   "execution_count": 9,
   "id": "14a3ab68",
   "metadata": {},
   "outputs": [],
   "source": [
    "# 파라미터 선언\n",
    "param = {'max_depth':range(1,51)}"
   ]
  },
  {
   "cell_type": "code",
   "execution_count": 10,
   "id": "c54b2d21",
   "metadata": {},
   "outputs": [],
   "source": [
    "# 불러오기\n",
    "from sklearn.tree import DecisionTreeRegressor\n",
    "from sklearn.model_selection import RandomizedSearchCV"
   ]
  },
  {
   "cell_type": "code",
   "execution_count": 11,
   "id": "0d8578e6",
   "metadata": {},
   "outputs": [],
   "source": [
    "#선언하기\n",
    "model_dst = DecisionTreeRegressor(random_state=2022)"
   ]
  },
  {
   "cell_type": "code",
   "execution_count": 12,
   "id": "930fe313",
   "metadata": {},
   "outputs": [],
   "source": [
    "#random_search 선언\n",
    "model = RandomizedSearchCV(model_dst, param, cv=10, n_iter=20, scoring='r2')"
   ]
  },
  {
   "cell_type": "code",
   "execution_count": 13,
   "id": "94ada5a5",
   "metadata": {},
   "outputs": [
    {
     "data": {
      "text/plain": [
       "RandomizedSearchCV(cv=10, estimator=DecisionTreeRegressor(random_state=2022),\n",
       "                   n_iter=20, param_distributions={'max_depth': range(1, 51)},\n",
       "                   scoring='r2')"
      ]
     },
     "execution_count": 13,
     "metadata": {},
     "output_type": "execute_result"
    }
   ],
   "source": [
    "#학습하기\n",
    "model.fit(x_train, y_train)"
   ]
  },
  {
   "cell_type": "code",
   "execution_count": 14,
   "id": "53114360",
   "metadata": {
    "scrolled": true
   },
   "outputs": [
    {
     "name": "stdout",
     "output_type": "stream",
     "text": [
      "최적파라미터: {'max_depth': 5}\n",
      "최고성능: 0.6117509619179523\n"
     ]
    }
   ],
   "source": [
    "#정보확인\n",
    "print('최적파라미터:', model.best_params_)\n",
    "print('최고성능:', model.best_score_)"
   ]
  },
  {
   "cell_type": "code",
   "execution_count": 15,
   "id": "62661932",
   "metadata": {},
   "outputs": [],
   "source": [
    "#예측하기\n",
    "y_pred = model.predict(x_test)"
   ]
  },
  {
   "cell_type": "code",
   "execution_count": 17,
   "id": "6a7fdbf3",
   "metadata": {
    "scrolled": true
   },
   "outputs": [
    {
     "name": "stdout",
     "output_type": "stream",
     "text": [
      "0.6072155238529675\n",
      "0.7169483336378495\n"
     ]
    }
   ],
   "source": [
    "#평가하기\n",
    "print(mean_absolute_error(y_test, y_pred))\n",
    "print(r2_score(y_test, y_pred))"
   ]
  },
  {
   "cell_type": "markdown",
   "id": "67f9ac48",
   "metadata": {},
   "source": [
    "## 2.Grid Search"
   ]
  },
  {
   "cell_type": "markdown",
   "id": "31a2590d",
   "metadata": {},
   "source": [
    "- 그리드 서치에서는 n_iter 파라미터가 들어가지 않는다. 그 이유는 모든 데이터를 가지고 최적의 값을 찾아내기 때문에 무의미하다. 그렇기 때문에 random search에서 n_iter 값을 max로 주게되면 Grid Search의 최적값이 같게 나온다."
   ]
  },
  {
   "cell_type": "code",
   "execution_count": 18,
   "id": "d9e9ef18",
   "metadata": {},
   "outputs": [],
   "source": [
    "# 데이터 읽어오기\n",
    "path = 'https://raw.githubusercontent.com/jangrae/csv/master/admission_simple.csv'\n",
    "data = pd.read_csv(path)"
   ]
  },
  {
   "cell_type": "code",
   "execution_count": 19,
   "id": "06ed1b04",
   "metadata": {},
   "outputs": [],
   "source": [
    "# 가변수화\n",
    "cols = ['RANK']\n",
    "data = pd.get_dummies(data, columns=cols, drop_first=True)"
   ]
  },
  {
   "cell_type": "code",
   "execution_count": 20,
   "id": "1de84bf0",
   "metadata": {},
   "outputs": [],
   "source": [
    "# target 확인\n",
    "target = 'ADMIT'\n",
    "\n",
    "# 데이터 분리\n",
    "x = data.drop(target, axis = 1)\n",
    "y = data[target] "
   ]
  },
  {
   "cell_type": "code",
   "execution_count": 21,
   "id": "7a4de8ca",
   "metadata": {},
   "outputs": [
    {
     "data": {
      "text/html": [
       "<div>\n",
       "<style scoped>\n",
       "    .dataframe tbody tr th:only-of-type {\n",
       "        vertical-align: middle;\n",
       "    }\n",
       "\n",
       "    .dataframe tbody tr th {\n",
       "        vertical-align: top;\n",
       "    }\n",
       "\n",
       "    .dataframe thead th {\n",
       "        text-align: right;\n",
       "    }\n",
       "</style>\n",
       "<table border=\"1\" class=\"dataframe\">\n",
       "  <thead>\n",
       "    <tr style=\"text-align: right;\">\n",
       "      <th></th>\n",
       "      <th>GRE</th>\n",
       "      <th>TOEFL</th>\n",
       "      <th>SOP</th>\n",
       "      <th>LOR</th>\n",
       "      <th>GPA</th>\n",
       "      <th>RESEARCH</th>\n",
       "      <th>RANK_2</th>\n",
       "      <th>RANK_3</th>\n",
       "      <th>RANK_4</th>\n",
       "      <th>RANK_5</th>\n",
       "    </tr>\n",
       "  </thead>\n",
       "  <tbody>\n",
       "    <tr>\n",
       "      <th>0</th>\n",
       "      <td>0.94</td>\n",
       "      <td>0.928571</td>\n",
       "      <td>0.875</td>\n",
       "      <td>0.875</td>\n",
       "      <td>0.913462</td>\n",
       "      <td>1</td>\n",
       "      <td>0</td>\n",
       "      <td>0</td>\n",
       "      <td>1</td>\n",
       "      <td>0</td>\n",
       "    </tr>\n",
       "    <tr>\n",
       "      <th>1</th>\n",
       "      <td>0.68</td>\n",
       "      <td>0.535714</td>\n",
       "      <td>0.750</td>\n",
       "      <td>0.875</td>\n",
       "      <td>0.663462</td>\n",
       "      <td>1</td>\n",
       "      <td>0</td>\n",
       "      <td>0</td>\n",
       "      <td>1</td>\n",
       "      <td>0</td>\n",
       "    </tr>\n",
       "    <tr>\n",
       "      <th>2</th>\n",
       "      <td>0.52</td>\n",
       "      <td>0.428571</td>\n",
       "      <td>0.500</td>\n",
       "      <td>0.625</td>\n",
       "      <td>0.384615</td>\n",
       "      <td>1</td>\n",
       "      <td>0</td>\n",
       "      <td>1</td>\n",
       "      <td>0</td>\n",
       "      <td>0</td>\n",
       "    </tr>\n",
       "    <tr>\n",
       "      <th>3</th>\n",
       "      <td>0.64</td>\n",
       "      <td>0.642857</td>\n",
       "      <td>0.625</td>\n",
       "      <td>0.375</td>\n",
       "      <td>0.599359</td>\n",
       "      <td>1</td>\n",
       "      <td>0</td>\n",
       "      <td>1</td>\n",
       "      <td>0</td>\n",
       "      <td>0</td>\n",
       "    </tr>\n",
       "    <tr>\n",
       "      <th>4</th>\n",
       "      <td>0.48</td>\n",
       "      <td>0.392857</td>\n",
       "      <td>0.250</td>\n",
       "      <td>0.500</td>\n",
       "      <td>0.451923</td>\n",
       "      <td>0</td>\n",
       "      <td>1</td>\n",
       "      <td>0</td>\n",
       "      <td>0</td>\n",
       "      <td>0</td>\n",
       "    </tr>\n",
       "  </tbody>\n",
       "</table>\n",
       "</div>"
      ],
      "text/plain": [
       "    GRE     TOEFL    SOP    LOR       GPA  RESEARCH  RANK_2  RANK_3  RANK_4  \\\n",
       "0  0.94  0.928571  0.875  0.875  0.913462         1       0       0       1   \n",
       "1  0.68  0.535714  0.750  0.875  0.663462         1       0       0       1   \n",
       "2  0.52  0.428571  0.500  0.625  0.384615         1       0       1       0   \n",
       "3  0.64  0.642857  0.625  0.375  0.599359         1       0       1       0   \n",
       "4  0.48  0.392857  0.250  0.500  0.451923         0       1       0       0   \n",
       "\n",
       "   RANK_5  \n",
       "0       0  \n",
       "1       0  \n",
       "2       0  \n",
       "3       0  \n",
       "4       0  "
      ]
     },
     "execution_count": 21,
     "metadata": {},
     "output_type": "execute_result"
    }
   ],
   "source": [
    "# 정규화\n",
    "cols = ['GRE', 'TOEFL', 'SOP', 'LOR', 'GPA']\n",
    "x[cols] = (x[cols] - x[cols].min()) / (x[cols].max() - x[cols].min())\n",
    "\n",
    "# 확인\n",
    "x.head()"
   ]
  },
  {
   "cell_type": "code",
   "execution_count": 22,
   "id": "3ebddf6c",
   "metadata": {},
   "outputs": [],
   "source": [
    "# 모듈 불러오기\n",
    "from sklearn.model_selection import train_test_split\n",
    "\n",
    "# 7:3으로 분리\n",
    "x_train, x_test, y_train, y_test = train_test_split(x, y, test_size=0.3, random_state=2022)"
   ]
  },
  {
   "cell_type": "markdown",
   "id": "b2811667",
   "metadata": {},
   "source": [
    "### 모델링"
   ]
  },
  {
   "cell_type": "code",
   "execution_count": 24,
   "id": "ba0dbf40",
   "metadata": {},
   "outputs": [
    {
     "name": "stdout",
     "output_type": "stream",
     "text": [
      "[[75  8]\n",
      " [10 57]]\n",
      "              precision    recall  f1-score   support\n",
      "\n",
      "           0       0.88      0.90      0.89        83\n",
      "           1       0.88      0.85      0.86        67\n",
      "\n",
      "    accuracy                           0.88       150\n",
      "   macro avg       0.88      0.88      0.88       150\n",
      "weighted avg       0.88      0.88      0.88       150\n",
      "\n"
     ]
    }
   ],
   "source": [
    "from sklearn.neighbors import KNeighborsClassifier\n",
    "from sklearn.metrics import confusion_matrix, classification_report\n",
    "\n",
    "model = KNeighborsClassifier(n_neighbors=5)\n",
    "\n",
    "model.fit(x_train, y_train)\n",
    "\n",
    "y_pred = model.predict(x_test)\n",
    "\n",
    "print(confusion_matrix(y_test, y_pred))\n",
    "print(classification_report(y_test, y_pred))"
   ]
  },
  {
   "cell_type": "markdown",
   "id": "2eb4ac1e",
   "metadata": {},
   "source": [
    "### 성능튜닝"
   ]
  },
  {
   "cell_type": "code",
   "execution_count": 25,
   "id": "054ccd44",
   "metadata": {},
   "outputs": [],
   "source": [
    "#파라미터 선언\n",
    "param = {'n_neighbors':range(5,51)}"
   ]
  },
  {
   "cell_type": "code",
   "execution_count": 26,
   "id": "d282b035",
   "metadata": {},
   "outputs": [],
   "source": [
    "#불러오기\n",
    "from sklearn.neighbors import KNeighborsClassifier\n",
    "from sklearn.model_selection import GridSearchCV"
   ]
  },
  {
   "cell_type": "code",
   "execution_count": 29,
   "id": "084c0fb5",
   "metadata": {},
   "outputs": [],
   "source": [
    "#선언하기\n",
    "model_knn = KNeighborsClassifier()\n",
    "\n",
    "model = GridSearchCV(model_knn, param, cv=10, scoring='accuracy', n_jobs=-1)"
   ]
  },
  {
   "cell_type": "code",
   "execution_count": 30,
   "id": "409a3eb8",
   "metadata": {},
   "outputs": [
    {
     "data": {
      "text/plain": [
       "GridSearchCV(cv=10, estimator=KNeighborsClassifier(), n_jobs=-1,\n",
       "             param_grid={'n_neighbors': range(5, 51)}, scoring='accuracy')"
      ]
     },
     "execution_count": 30,
     "metadata": {},
     "output_type": "execute_result"
    }
   ],
   "source": [
    "#학습하기\n",
    "model.fit(x_train, y_train)"
   ]
  },
  {
   "cell_type": "code",
   "execution_count": 31,
   "id": "11c9f71f",
   "metadata": {},
   "outputs": [
    {
     "name": "stdout",
     "output_type": "stream",
     "text": [
      "{'n_neighbors': 32}\n",
      "0.8457142857142855\n"
     ]
    }
   ],
   "source": [
    "#성능확인\n",
    "print(model.best_params_)\n",
    "print(model.best_score_)"
   ]
  },
  {
   "cell_type": "code",
   "execution_count": 33,
   "id": "89b4cba5",
   "metadata": {},
   "outputs": [],
   "source": [
    "#예측하기\n",
    "y_pred = model.predict(x_test)"
   ]
  },
  {
   "cell_type": "code",
   "execution_count": 34,
   "id": "4bfbe921",
   "metadata": {},
   "outputs": [
    {
     "name": "stdout",
     "output_type": "stream",
     "text": [
      "[[76  7]\n",
      " [11 56]]\n",
      "              precision    recall  f1-score   support\n",
      "\n",
      "           0       0.87      0.92      0.89        83\n",
      "           1       0.89      0.84      0.86        67\n",
      "\n",
      "    accuracy                           0.88       150\n",
      "   macro avg       0.88      0.88      0.88       150\n",
      "weighted avg       0.88      0.88      0.88       150\n",
      "\n"
     ]
    }
   ],
   "source": [
    "#평가하기\n",
    "print(confusion_matrix(y_test,y_pred))\n",
    "print(classification_report(y_test, y_pred))"
   ]
  }
 ],
 "metadata": {
  "kernelspec": {
   "display_name": "Python 3",
   "language": "python",
   "name": "python3"
  },
  "language_info": {
   "codemirror_mode": {
    "name": "ipython",
    "version": 3
   },
   "file_extension": ".py",
   "mimetype": "text/x-python",
   "name": "python",
   "nbconvert_exporter": "python",
   "pygments_lexer": "ipython3",
   "version": "3.8.8"
  }
 },
 "nbformat": 4,
 "nbformat_minor": 5
}
